{
 "cells": [
  {
   "cell_type": "code",
   "execution_count": 1,
   "id": "818a15fc",
   "metadata": {},
   "outputs": [
    {
     "data": {
      "text/plain": [
       "5"
      ]
     },
     "execution_count": 1,
     "metadata": {},
     "output_type": "execute_result"
    }
   ],
   "source": [
    "2 + 3 "
   ]
  },
  {
   "cell_type": "markdown",
   "id": "304ecc72",
   "metadata": {},
   "source": [
    "## Operaciones matemáticas básicas"
   ]
  },
  {
   "cell_type": "code",
   "execution_count": 2,
   "id": "43f080a9",
   "metadata": {},
   "outputs": [
    {
     "data": {
      "text/plain": [
       "42"
      ]
     },
     "execution_count": 2,
     "metadata": {},
     "output_type": "execute_result"
    }
   ],
   "source": [
    "7*6"
   ]
  },
  {
   "cell_type": "code",
   "execution_count": 3,
   "id": "426559a2",
   "metadata": {},
   "outputs": [
    {
     "data": {
      "text/plain": [
       "0.32857142857142857"
      ]
     },
     "execution_count": 3,
     "metadata": {},
     "output_type": "execute_result"
    }
   ],
   "source": [
    "2.3/7"
   ]
  },
  {
   "cell_type": "code",
   "execution_count": 4,
   "id": "62b7cef1",
   "metadata": {},
   "outputs": [
    {
     "data": {
      "text/plain": [
       "2"
      ]
     },
     "execution_count": 4,
     "metadata": {},
     "output_type": "execute_result"
    }
   ],
   "source": [
    "9+1\n",
    "1+1"
   ]
  },
  {
   "cell_type": "code",
   "execution_count": 5,
   "id": "0bde404a",
   "metadata": {},
   "outputs": [
    {
     "data": {
      "text/plain": [
       "16"
      ]
     },
     "execution_count": 5,
     "metadata": {},
     "output_type": "execute_result"
    }
   ],
   "source": [
    "2^4"
   ]
  },
  {
   "cell_type": "code",
   "execution_count": 6,
   "id": "320a7111",
   "metadata": {},
   "outputs": [
    {
     "data": {
      "text/plain": [
       "8.0"
      ]
     },
     "execution_count": 6,
     "metadata": {},
     "output_type": "execute_result"
    }
   ],
   "source": [
    "2.0^3.0"
   ]
  },
  {
   "cell_type": "code",
   "execution_count": 7,
   "id": "be3a03c8",
   "metadata": {},
   "outputs": [
    {
     "data": {
      "text/plain": [
       "7.38905609893065"
      ]
     },
     "execution_count": 7,
     "metadata": {},
     "output_type": "execute_result"
    }
   ],
   "source": [
    "exp(2)"
   ]
  },
  {
   "cell_type": "code",
   "execution_count": 8,
   "id": "a7f0aee5",
   "metadata": {},
   "outputs": [
    {
     "data": {
      "text/plain": [
       "1.0986122886681098"
      ]
     },
     "execution_count": 8,
     "metadata": {},
     "output_type": "execute_result"
    }
   ],
   "source": [
    "log(3) # esto en base natural"
   ]
  },
  {
   "cell_type": "code",
   "execution_count": 9,
   "id": "cfc618de",
   "metadata": {},
   "outputs": [
    {
     "data": {
      "text/plain": [
       "0.0"
      ]
     },
     "execution_count": 9,
     "metadata": {},
     "output_type": "execute_result"
    }
   ],
   "source": [
    "log(1)"
   ]
  },
  {
   "cell_type": "code",
   "execution_count": 10,
   "id": "8fc89cae",
   "metadata": {},
   "outputs": [
    {
     "data": {
      "text/plain": [
       "1.0"
      ]
     },
     "execution_count": 10,
     "metadata": {},
     "output_type": "execute_result"
    }
   ],
   "source": [
    "log10(10)"
   ]
  },
  {
   "cell_type": "code",
   "execution_count": 11,
   "id": "ec0ad4dc",
   "metadata": {},
   "outputs": [
    {
     "data": {
      "text/plain": [
       "0.0"
      ]
     },
     "execution_count": 11,
     "metadata": {},
     "output_type": "execute_result"
    }
   ],
   "source": [
    "sin(0)"
   ]
  },
  {
   "cell_type": "code",
   "execution_count": 12,
   "id": "6805bdb7",
   "metadata": {},
   "outputs": [
    {
     "data": {
      "text/plain": [
       "1.0"
      ]
     },
     "execution_count": 12,
     "metadata": {},
     "output_type": "execute_result"
    }
   ],
   "source": [
    "cos(0)"
   ]
  },
  {
   "cell_type": "code",
   "execution_count": 13,
   "id": "1809eb13",
   "metadata": {},
   "outputs": [
    {
     "data": {
      "text/plain": [
       "-0.9880316240928618"
      ]
     },
     "execution_count": 13,
     "metadata": {},
     "output_type": "execute_result"
    }
   ],
   "source": [
    "sin(30) # Epa que pasa? Acá lo que sucede es que lo toma en radianes"
   ]
  },
  {
   "cell_type": "code",
   "execution_count": 14,
   "id": "1d701aac",
   "metadata": {},
   "outputs": [
    {
     "data": {
      "text/plain": [
       "0.5"
      ]
     },
     "execution_count": 14,
     "metadata": {},
     "output_type": "execute_result"
    }
   ],
   "source": [
    "# para hacer en grados usamos sind\n",
    "sind(30)"
   ]
  },
  {
   "cell_type": "code",
   "execution_count": 15,
   "id": "5b258099",
   "metadata": {},
   "outputs": [
    {
     "data": {
      "text/plain": [
       "1.2246467991473532e-16"
      ]
     },
     "execution_count": 15,
     "metadata": {},
     "output_type": "execute_result"
    }
   ],
   "source": [
    "sin(π)"
   ]
  },
  {
   "cell_type": "code",
   "execution_count": 16,
   "id": "62f61593",
   "metadata": {},
   "outputs": [
    {
     "data": {
      "text/plain": [
       "1.2246467991473532e-16"
      ]
     },
     "execution_count": 16,
     "metadata": {},
     "output_type": "execute_result"
    }
   ],
   "source": [
    "sin(pi)"
   ]
  },
  {
   "cell_type": "code",
   "execution_count": 17,
   "id": "38a3305e",
   "metadata": {},
   "outputs": [
    {
     "data": {
      "text/plain": [
       "π = 3.1415926535897..."
      ]
     },
     "execution_count": 17,
     "metadata": {},
     "output_type": "execute_result"
    }
   ],
   "source": [
    "pi"
   ]
  },
  {
   "cell_type": "code",
   "execution_count": 18,
   "id": "59353351",
   "metadata": {},
   "outputs": [
    {
     "data": {
      "text/plain": [
       "0.49999999999999994"
      ]
     },
     "execution_count": 18,
     "metadata": {},
     "output_type": "execute_result"
    }
   ],
   "source": [
    "sin(pi/6)"
   ]
  },
  {
   "cell_type": "code",
   "execution_count": 19,
   "id": "532bbd8d",
   "metadata": {},
   "outputs": [
    {
     "data": {
      "text/plain": [
       "ℯ = 2.7182818284590..."
      ]
     },
     "execution_count": 19,
     "metadata": {},
     "output_type": "execute_result"
    }
   ],
   "source": [
    "MathConstants.e"
   ]
  },
  {
   "cell_type": "code",
   "execution_count": 20,
   "id": "a9118717",
   "metadata": {},
   "outputs": [
    {
     "data": {
      "text/plain": [
       "1"
      ]
     },
     "execution_count": 20,
     "metadata": {},
     "output_type": "execute_result"
    }
   ],
   "source": [
    "log(MathConstants.e)"
   ]
  },
  {
   "cell_type": "code",
   "execution_count": 21,
   "id": "5b2fdb54",
   "metadata": {},
   "outputs": [
    {
     "data": {
      "text/plain": [
       "2"
      ]
     },
     "execution_count": 21,
     "metadata": {},
     "output_type": "execute_result"
    }
   ],
   "source": [
    "α = 2"
   ]
  },
  {
   "cell_type": "code",
   "execution_count": 22,
   "id": "842d167a",
   "metadata": {},
   "outputs": [
    {
     "data": {
      "text/plain": [
       "2"
      ]
     },
     "execution_count": 22,
     "metadata": {},
     "output_type": "execute_result"
    }
   ],
   "source": [
    "α"
   ]
  },
  {
   "cell_type": "code",
   "execution_count": 23,
   "id": "0885a85f",
   "metadata": {},
   "outputs": [
    {
     "data": {
      "text/plain": [
       "4"
      ]
     },
     "execution_count": 23,
     "metadata": {},
     "output_type": "execute_result"
    }
   ],
   "source": [
    "α ^2  "
   ]
  },
  {
   "cell_type": "code",
   "execution_count": 24,
   "id": "1cb8363e",
   "metadata": {},
   "outputs": [
    {
     "data": {
      "text/plain": [
       "3"
      ]
     },
     "execution_count": 24,
     "metadata": {},
     "output_type": "execute_result"
    }
   ],
   "source": [
    "x = 3"
   ]
  },
  {
   "cell_type": "code",
   "execution_count": 25,
   "id": "5f9d6565",
   "metadata": {},
   "outputs": [
    {
     "data": {
      "text/plain": [
       "3"
      ]
     },
     "execution_count": 25,
     "metadata": {},
     "output_type": "execute_result"
    }
   ],
   "source": [
    "x"
   ]
  },
  {
   "cell_type": "code",
   "execution_count": 26,
   "id": "ca7fc2a6",
   "metadata": {},
   "outputs": [
    {
     "data": {
      "text/plain": [
       "6"
      ]
     },
     "execution_count": 26,
     "metadata": {},
     "output_type": "execute_result"
    }
   ],
   "source": [
    "bondiola = 6"
   ]
  },
  {
   "cell_type": "code",
   "execution_count": 27,
   "id": "2f682e00",
   "metadata": {},
   "outputs": [
    {
     "data": {
      "text/plain": [
       "216"
      ]
     },
     "execution_count": 27,
     "metadata": {},
     "output_type": "execute_result"
    }
   ],
   "source": [
    "bondiola ^ x"
   ]
  },
  {
   "cell_type": "code",
   "execution_count": 28,
   "id": "f71d8648",
   "metadata": {},
   "outputs": [
    {
     "data": {
      "text/plain": [
       "\"bondiola\""
      ]
     },
     "execution_count": 28,
     "metadata": {},
     "output_type": "execute_result"
    }
   ],
   "source": [
    "\"bondiola\""
   ]
  },
  {
   "cell_type": "code",
   "execution_count": 29,
   "id": "5c13bf31",
   "metadata": {},
   "outputs": [
    {
     "data": {
      "text/plain": [
       "\"bondiola con papitas\""
      ]
     },
     "execution_count": 29,
     "metadata": {},
     "output_type": "execute_result"
    }
   ],
   "source": [
    "\"bondiola \"*\"con papitas\"  # junto palabras o strings, en realidad esto se llama concatenar"
   ]
  },
  {
   "cell_type": "markdown",
   "id": "16f15c8b",
   "metadata": {},
   "source": [
    "## Un poco de Álgebra Lineal"
   ]
  },
  {
   "cell_type": "code",
   "execution_count": 30,
   "id": "4f1936d3",
   "metadata": {},
   "outputs": [
    {
     "data": {
      "text/plain": [
       "3-element Vector{Int64}:\n",
       " 1\n",
       " 2\n",
       " 3"
      ]
     },
     "execution_count": 30,
     "metadata": {},
     "output_type": "execute_result"
    }
   ],
   "source": [
    " v = [1;2;3] # hace un vector de 3 x 1"
   ]
  },
  {
   "cell_type": "code",
   "execution_count": 31,
   "id": "917ed0c0",
   "metadata": {},
   "outputs": [
    {
     "data": {
      "text/plain": [
       "1×3 adjoint(::Vector{Int64}) with eltype Int64:\n",
       " 1  2  3"
      ]
     },
     "execution_count": 31,
     "metadata": {},
     "output_type": "execute_result"
    }
   ],
   "source": [
    "# y si lo transpongo? \n",
    "v'"
   ]
  },
  {
   "cell_type": "code",
   "execution_count": 32,
   "id": "cb871e06",
   "metadata": {},
   "outputs": [
    {
     "data": {
      "text/plain": [
       "3-element Vector{Int64}:\n",
       " 2\n",
       " 4\n",
       " 6"
      ]
     },
     "execution_count": 32,
     "metadata": {},
     "output_type": "execute_result"
    }
   ],
   "source": [
    "v + v"
   ]
  },
  {
   "cell_type": "code",
   "execution_count": 33,
   "id": "96137066",
   "metadata": {},
   "outputs": [
    {
     "data": {
      "text/plain": [
       "3-element Vector{Int64}:\n",
       " 2\n",
       " 4\n",
       " 6"
      ]
     },
     "execution_count": 33,
     "metadata": {},
     "output_type": "execute_result"
    }
   ],
   "source": [
    "v * 2"
   ]
  },
  {
   "cell_type": "code",
   "execution_count": 34,
   "id": "2756c6e0",
   "metadata": {},
   "outputs": [
    {
     "data": {
      "text/plain": [
       "3-element Vector{Int64}:\n",
       " 4\n",
       " 5\n",
       " 6"
      ]
     },
     "execution_count": 34,
     "metadata": {},
     "output_type": "execute_result"
    }
   ],
   "source": [
    "v.+3"
   ]
  },
  {
   "cell_type": "code",
   "execution_count": 35,
   "id": "c78e7cbb",
   "metadata": {},
   "outputs": [
    {
     "data": {
      "text/plain": [
       "3-element Vector{Int64}:\n",
       " 4\n",
       " 5\n",
       " 6"
      ]
     },
     "execution_count": 35,
     "metadata": {},
     "output_type": "execute_result"
    }
   ],
   "source": [
    "v .+ 3 # el .+ hace que haga la operacion(suma en este caso) a cada elemento "
   ]
  },
  {
   "cell_type": "code",
   "execution_count": 36,
   "id": "1a45c159",
   "metadata": {},
   "outputs": [
    {
     "data": {
      "text/plain": [
       "3-element Vector{Float64}:\n",
       "  3.0\n",
       " -1.0\n",
       "  3.0"
      ]
     },
     "execution_count": 36,
     "metadata": {},
     "output_type": "execute_result"
    }
   ],
   "source": [
    " w = [3.0; -1; 3.0]"
   ]
  },
  {
   "cell_type": "code",
   "execution_count": 37,
   "id": "bf2e436b",
   "metadata": {},
   "outputs": [
    {
     "data": {
      "text/plain": [
       "3-element Vector{Float64}:\n",
       " 4.0\n",
       " 1.0\n",
       " 6.0"
      ]
     },
     "execution_count": 37,
     "metadata": {},
     "output_type": "execute_result"
    }
   ],
   "source": [
    "v + w"
   ]
  },
  {
   "cell_type": "code",
   "execution_count": 38,
   "id": "739fae4b",
   "metadata": {},
   "outputs": [
    {
     "ename": "LoadError",
     "evalue": "UndefVarError: dot not defined",
     "output_type": "error",
     "traceback": [
      "UndefVarError: dot not defined",
      "",
      "Stacktrace:",
      " [1] top-level scope",
      "   @ In[38]:1",
      " [2] eval",
      "   @ .\\boot.jl:373 [inlined]",
      " [3] include_string(mapexpr::typeof(REPL.softscope), mod::Module, code::String, filename::String)",
      "   @ Base .\\loading.jl:1196"
     ]
    }
   ],
   "source": [
    "dot(v,w)"
   ]
  },
  {
   "cell_type": "markdown",
   "id": "1ecb4675",
   "metadata": {},
   "source": [
    "Acá lo que paso es que no cargue la biblioteca de algebra lineal"
   ]
  },
  {
   "cell_type": "code",
   "execution_count": 39,
   "id": "173f7098",
   "metadata": {},
   "outputs": [],
   "source": [
    "using LinearAlgebra"
   ]
  },
  {
   "cell_type": "code",
   "execution_count": 40,
   "id": "5226e850",
   "metadata": {},
   "outputs": [
    {
     "data": {
      "text/plain": [
       "10.0"
      ]
     },
     "execution_count": 40,
     "metadata": {},
     "output_type": "execute_result"
    }
   ],
   "source": [
    "dot(v,w)"
   ]
  },
  {
   "cell_type": "code",
   "execution_count": 41,
   "id": "76e96773",
   "metadata": {},
   "outputs": [
    {
     "data": {
      "text/plain": [
       "10.0"
      ]
     },
     "execution_count": 41,
     "metadata": {},
     "output_type": "execute_result"
    }
   ],
   "source": [
    "v ⋅ w # tambie funciona con el puntito :)"
   ]
  },
  {
   "cell_type": "code",
   "execution_count": 42,
   "id": "c80098e4",
   "metadata": {},
   "outputs": [
    {
     "data": {
      "text/plain": [
       "2×3 Matrix{Int64}:\n",
       " 1   2  2\n",
       " 3  -1  5"
      ]
     },
     "execution_count": 42,
     "metadata": {},
     "output_type": "execute_result"
    }
   ],
   "source": [
    "# Para las matrices usamos por convención mayusculas\n",
    "A = [1 2 2;3 -1 5]"
   ]
  },
  {
   "cell_type": "code",
   "execution_count": 43,
   "id": "a2080b1f",
   "metadata": {},
   "outputs": [],
   "source": [
    "B = [1 2 3\n",
    "    4 5 6\n",
    "    7 11 9] # Podemos usar espacio o el ;"
   ]
  },
  {
   "cell_type": "code",
   "execution_count": 44,
   "id": "b50abff9",
   "metadata": {},
   "outputs": [
    {
     "data": {
      "text/plain": [
       "2×2 Matrix{Int64}:\n",
       " 1  2\n",
       " 3  4"
      ]
     },
     "execution_count": 44,
     "metadata": {},
     "output_type": "execute_result"
    }
   ],
   "source": [
    "C = [1 2;3 4]"
   ]
  },
  {
   "cell_type": "code",
   "execution_count": 45,
   "id": "f1479bf8",
   "metadata": {},
   "outputs": [
    {
     "data": {
      "text/plain": [
       "2-element Vector{Int64}:\n",
       " 11\n",
       " 16"
      ]
     },
     "execution_count": 45,
     "metadata": {},
     "output_type": "execute_result"
    }
   ],
   "source": [
    " A * v"
   ]
  },
  {
   "cell_type": "code",
   "execution_count": 46,
   "id": "3e6adde2",
   "metadata": {},
   "outputs": [
    {
     "data": {
      "text/plain": [
       "3-element Vector{Float64}:\n",
       " -4.7287276974775186e-17\n",
       "  4.5231308410654523e-17\n",
       "  0.3333333333333333"
      ]
     },
     "execution_count": 46,
     "metadata": {},
     "output_type": "execute_result"
    }
   ],
   "source": [
    "B\\v"
   ]
  },
  {
   "cell_type": "code",
   "execution_count": 47,
   "id": "be9339ee",
   "metadata": {},
   "outputs": [
    {
     "data": {
      "text/plain": [
       "10×10 Matrix{Float64}:\n",
       " 0.771542   0.582167  0.466225  0.607036   …  0.193508  0.465754   0.229074\n",
       " 0.0344862  0.866392  0.768587  0.219668      0.922838  0.819607   0.888082\n",
       " 0.158047   0.326829  0.453091  0.881175      0.900476  0.402574   0.754377\n",
       " 0.216888   0.805586  0.832439  0.484595      0.339627  0.818974   0.792099\n",
       " 0.694518   0.49068   0.251264  0.774697      0.419681  0.445839   0.0753463\n",
       " 0.357529   0.28902   0.887659  0.0911458  …  0.554144  0.839235   0.231356\n",
       " 0.922225   0.71642   0.622525  0.937288      0.808206  0.0377296  0.260367\n",
       " 0.717469   0.155026  0.952546  0.338319      0.817144  0.705166   0.194075\n",
       " 0.738605   0.722183  0.59804   0.0815824     0.584434  0.15839    0.0788292\n",
       " 0.877475   0.998043  0.917008  0.892945      0.788644  0.454791   0.611216"
      ]
     },
     "execution_count": 47,
     "metadata": {},
     "output_type": "execute_result"
    }
   ],
   "source": [
    "R = rand(10,10)"
   ]
  },
  {
   "cell_type": "code",
   "execution_count": 48,
   "id": "27599990",
   "metadata": {},
   "outputs": [
    {
     "data": {
      "text/plain": [
       "10-element Vector{Float64}:\n",
       " 0.7113731654448778\n",
       " 0.6272289888258884\n",
       " 0.1703226120929372\n",
       " 0.05191499381953546\n",
       " 0.7857394718167242\n",
       " 0.40587122510158335\n",
       " 0.8717243953395196\n",
       " 0.27757502413122115\n",
       " 0.23948865670310404\n",
       " 0.3511218579946347"
      ]
     },
     "execution_count": 48,
     "metadata": {},
     "output_type": "execute_result"
    }
   ],
   "source": [
    "b = rand(10)"
   ]
  },
  {
   "cell_type": "code",
   "execution_count": 49,
   "id": "cf4914a9",
   "metadata": {},
   "outputs": [
    {
     "data": {
      "text/plain": [
       "10-element Vector{Float64}:\n",
       " -0.0482590854569352\n",
       "  1.3046270002630853\n",
       " -1.0611594788888854\n",
       " -0.3073940942360542\n",
       " -0.5404944347603736\n",
       " -0.6550633571194091\n",
       "  1.0062453093988495\n",
       "  0.9355409267770668\n",
       "  1.0326699924811364\n",
       " -0.9636899529345634"
      ]
     },
     "execution_count": 49,
     "metadata": {},
     "output_type": "execute_result"
    }
   ],
   "source": [
    "R\\b"
   ]
  },
  {
   "cell_type": "code",
   "execution_count": 50,
   "id": "7cc27b1f",
   "metadata": {},
   "outputs": [
    {
     "data": {
      "text/plain": [
       "3×3 Matrix{Int64}:\n",
       " 1   2  3\n",
       " 4   5  6\n",
       " 7  11  9"
      ]
     },
     "execution_count": 50,
     "metadata": {},
     "output_type": "execute_result"
    }
   ],
   "source": [
    "B"
   ]
  },
  {
   "cell_type": "code",
   "execution_count": 51,
   "id": "95f5b107",
   "metadata": {},
   "outputs": [
    {
     "data": {
      "text/plain": [
       "3×3 adjoint(::Matrix{Int64}) with eltype Int64:\n",
       " 1  4   7\n",
       " 2  5  11\n",
       " 3  6   9"
      ]
     },
     "execution_count": 51,
     "metadata": {},
     "output_type": "execute_result"
    }
   ],
   "source": [
    "B'"
   ]
  },
  {
   "cell_type": "code",
   "execution_count": 52,
   "id": "5a44e236",
   "metadata": {},
   "outputs": [
    {
     "data": {
      "text/plain": [
       "3×3 transpose(::Matrix{Int64}) with eltype Int64:\n",
       " 1  4   7\n",
       " 2  5  11\n",
       " 3  6   9"
      ]
     },
     "execution_count": 52,
     "metadata": {},
     "output_type": "execute_result"
    }
   ],
   "source": [
    "transpose(B)"
   ]
  },
  {
   "cell_type": "code",
   "execution_count": 53,
   "id": "240ad579",
   "metadata": {},
   "outputs": [
    {
     "data": {
      "text/plain": [
       "3×3 adjoint(::Matrix{Int64}) with eltype Int64:\n",
       " 1  4   7\n",
       " 2  5  11\n",
       " 3  6   9"
      ]
     },
     "execution_count": 53,
     "metadata": {},
     "output_type": "execute_result"
    }
   ],
   "source": [
    "adjoint(B)"
   ]
  },
  {
   "cell_type": "code",
   "execution_count": 54,
   "id": "3ec33f2a",
   "metadata": {},
   "outputs": [
    {
     "data": {
      "text/plain": [
       "2×3 Matrix{Float64}:\n",
       " 1.0  1.0  1.0\n",
       " 1.0  1.0  1.0"
      ]
     },
     "execution_count": 54,
     "metadata": {},
     "output_type": "execute_result"
    }
   ],
   "source": [
    "B = ones(2,3)"
   ]
  },
  {
   "cell_type": "code",
   "execution_count": 55,
   "id": "a27158cc",
   "metadata": {},
   "outputs": [
    {
     "data": {
      "text/plain": [
       "2×3 Matrix{ComplexF64}:\n",
       " 1.0+1.0im   2.0+1.0im  2.0+1.0im\n",
       " 3.0+1.0im  -1.0+1.0im  5.0+1.0im"
      ]
     },
     "execution_count": 55,
     "metadata": {},
     "output_type": "execute_result"
    }
   ],
   "source": [
    "C = A + im * B"
   ]
  },
  {
   "cell_type": "code",
   "execution_count": 56,
   "id": "89108152",
   "metadata": {},
   "outputs": [
    {
     "data": {
      "text/plain": [
       "3×2 transpose(::Matrix{ComplexF64}) with eltype ComplexF64:\n",
       " 1.0+1.0im   3.0+1.0im\n",
       " 2.0+1.0im  -1.0+1.0im\n",
       " 2.0+1.0im   5.0+1.0im"
      ]
     },
     "execution_count": 56,
     "metadata": {},
     "output_type": "execute_result"
    }
   ],
   "source": [
    "transpose(C)"
   ]
  },
  {
   "cell_type": "code",
   "execution_count": 57,
   "id": "47218ef4",
   "metadata": {},
   "outputs": [
    {
     "data": {
      "text/plain": [
       "3×2 adjoint(::Matrix{ComplexF64}) with eltype ComplexF64:\n",
       " 1.0-1.0im   3.0-1.0im\n",
       " 2.0-1.0im  -1.0-1.0im\n",
       " 2.0-1.0im   5.0-1.0im"
      ]
     },
     "execution_count": 57,
     "metadata": {},
     "output_type": "execute_result"
    }
   ],
   "source": [
    "adjoint(C)"
   ]
  },
  {
   "cell_type": "code",
   "execution_count": 58,
   "id": "055b3411",
   "metadata": {},
   "outputs": [
    {
     "data": {
      "text/plain": [
       "3.7416573867739413"
      ]
     },
     "execution_count": 58,
     "metadata": {},
     "output_type": "execute_result"
    }
   ],
   "source": [
    "norm(v)"
   ]
  },
  {
   "cell_type": "code",
   "execution_count": 59,
   "id": "510958a4",
   "metadata": {},
   "outputs": [
    {
     "data": {
      "text/plain": [
       "2×2 Matrix{Float64}:\n",
       " 4.0  1.0\n",
       " 2.0  3.0"
      ]
     },
     "execution_count": 59,
     "metadata": {},
     "output_type": "execute_result"
    }
   ],
   "source": [
    "A = [4.0 1\n",
    "    2 3]"
   ]
  },
  {
   "cell_type": "code",
   "execution_count": 60,
   "id": "323f1db0",
   "metadata": {},
   "outputs": [
    {
     "data": {
      "text/plain": [
       "2-element Vector{Int64}:\n",
       " 6\n",
       " 8"
      ]
     },
     "execution_count": 60,
     "metadata": {},
     "output_type": "execute_result"
    }
   ],
   "source": [
    "b = [6;8]"
   ]
  },
  {
   "cell_type": "code",
   "execution_count": 61,
   "id": "fc105b43",
   "metadata": {},
   "outputs": [
    {
     "data": {
      "text/plain": [
       "2-element Vector{Float64}:\n",
       " 1.0\n",
       " 2.0"
      ]
     },
     "execution_count": 61,
     "metadata": {},
     "output_type": "execute_result"
    }
   ],
   "source": [
    "x = A\\b"
   ]
  },
  {
   "cell_type": "code",
   "execution_count": 62,
   "id": "a03a26c9",
   "metadata": {},
   "outputs": [
    {
     "data": {
      "text/plain": [
       "2-element Vector{Float64}:\n",
       " 0.0\n",
       " 0.0"
      ]
     },
     "execution_count": 62,
     "metadata": {},
     "output_type": "execute_result"
    }
   ],
   "source": [
    "A * x - b"
   ]
  },
  {
   "cell_type": "code",
   "execution_count": 63,
   "id": "cc840ff5",
   "metadata": {},
   "outputs": [
    {
     "data": {
      "text/plain": [
       "Eigen{Float64, Float64, Matrix{Float64}, Vector{Float64}}\n",
       "values:\n",
       "2-element Vector{Float64}:\n",
       " 2.0\n",
       " 5.0\n",
       "vectors:\n",
       "2×2 Matrix{Float64}:\n",
       " -0.447214  0.707107\n",
       "  0.894427  0.707107"
      ]
     },
     "execution_count": 63,
     "metadata": {},
     "output_type": "execute_result"
    }
   ],
   "source": [
    "λ, V  = eigen(A)"
   ]
  },
  {
   "cell_type": "code",
   "execution_count": 64,
   "id": "30c5af7b",
   "metadata": {},
   "outputs": [
    {
     "data": {
      "text/plain": [
       "2-element Vector{Float64}:\n",
       " 2.0\n",
       " 5.0"
      ]
     },
     "execution_count": 64,
     "metadata": {},
     "output_type": "execute_result"
    }
   ],
   "source": [
    "λ"
   ]
  },
  {
   "cell_type": "code",
   "execution_count": 65,
   "id": "6317030f",
   "metadata": {},
   "outputs": [
    {
     "data": {
      "text/plain": [
       "2×2 Matrix{Float64}:\n",
       " -0.447214  0.707107\n",
       "  0.894427  0.707107"
      ]
     },
     "execution_count": 65,
     "metadata": {},
     "output_type": "execute_result"
    }
   ],
   "source": [
    "V"
   ]
  },
  {
   "cell_type": "code",
   "execution_count": 66,
   "id": "f21b76df",
   "metadata": {},
   "outputs": [
    {
     "data": {
      "text/plain": [
       "LU{Float64, Matrix{Float64}}\n",
       "L factor:\n",
       "2×2 Matrix{Float64}:\n",
       " 1.0  0.0\n",
       " 0.5  1.0\n",
       "U factor:\n",
       "2×2 Matrix{Float64}:\n",
       " 4.0  1.0\n",
       " 0.0  2.5"
      ]
     },
     "execution_count": 66,
     "metadata": {},
     "output_type": "execute_result"
    }
   ],
   "source": [
    "lu(A)"
   ]
  },
  {
   "cell_type": "code",
   "execution_count": 67,
   "id": "29825001",
   "metadata": {},
   "outputs": [
    {
     "data": {
      "text/plain": [
       "SVD{Float64, Float64, Matrix{Float64}}\n",
       "U factor:\n",
       "2×2 Matrix{Float64}:\n",
       " -0.767752  -0.640747\n",
       " -0.640747   0.767752\n",
       "singular values:\n",
       "2-element Vector{Float64}:\n",
       " 5.116672736016927\n",
       " 1.9543950758485482\n",
       "Vt factor:\n",
       "2×2 Matrix{Float64}:\n",
       " -0.850651  -0.525731\n",
       " -0.525731   0.850651"
      ]
     },
     "execution_count": 67,
     "metadata": {},
     "output_type": "execute_result"
    }
   ],
   "source": [
    "svd(A)"
   ]
  },
  {
   "cell_type": "code",
   "execution_count": 68,
   "id": "6833f18f",
   "metadata": {},
   "outputs": [
    {
     "data": {
      "text/plain": [
       "LinearAlgebra.QRCompactWY{Float64, Matrix{Float64}}\n",
       "Q factor:\n",
       "2×2 LinearAlgebra.QRCompactWYQ{Float64, Matrix{Float64}}:\n",
       " -0.894427  -0.447214\n",
       " -0.447214   0.894427\n",
       "R factor:\n",
       "2×2 Matrix{Float64}:\n",
       " -4.47214  -2.23607\n",
       "  0.0       2.23607"
      ]
     },
     "execution_count": 68,
     "metadata": {},
     "output_type": "execute_result"
    }
   ],
   "source": [
    "qr(A)"
   ]
  },
  {
   "cell_type": "code",
   "execution_count": 69,
   "id": "eec243f2",
   "metadata": {},
   "outputs": [
    {
     "data": {
      "text/plain": [
       "1-element Vector{Float64}:\n",
       " 1.0"
      ]
     },
     "execution_count": 69,
     "metadata": {},
     "output_type": "execute_result"
    }
   ],
   "source": [
    "ones(1)"
   ]
  },
  {
   "cell_type": "code",
   "execution_count": 70,
   "id": "427d28c4",
   "metadata": {},
   "outputs": [
    {
     "data": {
      "text/plain": [
       "1×3 Matrix{Float64}:\n",
       " 1.0  1.0  1.0"
      ]
     },
     "execution_count": 70,
     "metadata": {},
     "output_type": "execute_result"
    }
   ],
   "source": [
    "ones(1,3)"
   ]
  },
  {
   "cell_type": "code",
   "execution_count": 71,
   "id": "e410f922",
   "metadata": {},
   "outputs": [
    {
     "data": {
      "text/plain": [
       "3×3 Matrix{Float64}:\n",
       " 1.0  1.0  1.0\n",
       " 1.0  1.0  1.0\n",
       " 1.0  1.0  1.0"
      ]
     },
     "execution_count": 71,
     "metadata": {},
     "output_type": "execute_result"
    }
   ],
   "source": [
    "ones(3,3)"
   ]
  },
  {
   "cell_type": "code",
   "execution_count": 72,
   "id": "bc3f28e2",
   "metadata": {},
   "outputs": [
    {
     "data": {
      "text/plain": [
       "2×3 Matrix{Float64}:\n",
       " 0.0  0.0  0.0\n",
       " 0.0  0.0  0.0"
      ]
     },
     "execution_count": 72,
     "metadata": {},
     "output_type": "execute_result"
    }
   ],
   "source": [
    "zeros(2,3)"
   ]
  },
  {
   "cell_type": "code",
   "execution_count": 73,
   "id": "42b72cd1",
   "metadata": {},
   "outputs": [
    {
     "data": {
      "text/plain": [
       "3-element Vector{Float64}:\n",
       " 0.29686027886218547\n",
       " 0.060804593840817045\n",
       " 0.526821628398238"
      ]
     },
     "execution_count": 73,
     "metadata": {},
     "output_type": "execute_result"
    }
   ],
   "source": [
    "rand(3)"
   ]
  },
  {
   "cell_type": "code",
   "execution_count": 74,
   "id": "10885678",
   "metadata": {},
   "outputs": [
    {
     "data": {
      "text/plain": [
       "100-element Vector{Float64}:\n",
       " 0.9720295554983888\n",
       " 0.9662907634192318\n",
       " 0.04522465241288143\n",
       " 0.9516462201720256\n",
       " 0.9392042542406425\n",
       " 0.0008735221405944404\n",
       " 0.08942199664024264\n",
       " 0.4790343622947779\n",
       " 0.7143028637571684\n",
       " 0.7338709046102923\n",
       " 0.5323446353244754\n",
       " 0.025199066973577988\n",
       " 0.16635008907568127\n",
       " ⋮\n",
       " 0.31936851199131255\n",
       " 0.6890404362563423\n",
       " 0.3602778295248463\n",
       " 0.16202718849527786\n",
       " 0.5881454661564572\n",
       " 0.5383747091719167\n",
       " 0.9140682834551712\n",
       " 0.696358411820405\n",
       " 0.07942055771139478\n",
       " 0.4329325762487096\n",
       " 0.7838563318004796\n",
       " 0.3878523625400606"
      ]
     },
     "execution_count": 74,
     "metadata": {},
     "output_type": "execute_result"
    }
   ],
   "source": [
    "rand(100)"
   ]
  },
  {
   "cell_type": "code",
   "execution_count": 75,
   "id": "8403690c",
   "metadata": {},
   "outputs": [
    {
     "data": {
      "text/plain": [
       "3-element Vector{Int64}:\n",
       " 1\n",
       " 2\n",
       " 3"
      ]
     },
     "execution_count": 75,
     "metadata": {},
     "output_type": "execute_result"
    }
   ],
   "source": [
    "v"
   ]
  },
  {
   "cell_type": "code",
   "execution_count": 76,
   "id": "37bad238",
   "metadata": {},
   "outputs": [
    {
     "data": {
      "text/plain": [
       "1"
      ]
     },
     "execution_count": 76,
     "metadata": {},
     "output_type": "execute_result"
    }
   ],
   "source": [
    "v[1] # vemos el primer elemento"
   ]
  },
  {
   "cell_type": "code",
   "execution_count": 77,
   "id": "bba5e43a",
   "metadata": {},
   "outputs": [
    {
     "data": {
      "text/plain": [
       "2"
      ]
     },
     "execution_count": 77,
     "metadata": {},
     "output_type": "execute_result"
    }
   ],
   "source": [
    "v[2]"
   ]
  },
  {
   "cell_type": "code",
   "execution_count": 78,
   "id": "11895f40",
   "metadata": {},
   "outputs": [
    {
     "data": {
      "text/plain": [
       "3.0"
      ]
     },
     "execution_count": 78,
     "metadata": {},
     "output_type": "execute_result"
    }
   ],
   "source": [
    "w[1]"
   ]
  },
  {
   "cell_type": "code",
   "execution_count": 79,
   "id": "eb7ee8b7",
   "metadata": {},
   "outputs": [
    {
     "data": {
      "text/plain": [
       "2×2 Matrix{Float64}:\n",
       " 4.0  1.0\n",
       " 2.0  3.0"
      ]
     },
     "execution_count": 79,
     "metadata": {},
     "output_type": "execute_result"
    }
   ],
   "source": [
    "A "
   ]
  },
  {
   "cell_type": "code",
   "execution_count": 80,
   "id": "d6f8c035",
   "metadata": {},
   "outputs": [
    {
     "data": {
      "text/plain": [
       "1.0"
      ]
     },
     "execution_count": 80,
     "metadata": {},
     "output_type": "execute_result"
    }
   ],
   "source": [
    "A[1,2]"
   ]
  },
  {
   "cell_type": "code",
   "execution_count": 81,
   "id": "0a269fcc",
   "metadata": {},
   "outputs": [
    {
     "data": {
      "text/plain": [
       "2-element Vector{Float64}:\n",
       " 1.0\n",
       " 3.0"
      ]
     },
     "execution_count": 81,
     "metadata": {},
     "output_type": "execute_result"
    }
   ],
   "source": [
    "A[:,2]"
   ]
  },
  {
   "cell_type": "code",
   "execution_count": 82,
   "id": "ac7cd76c",
   "metadata": {},
   "outputs": [
    {
     "data": {
      "text/plain": [
       "2-element Vector{Float64}:\n",
       " 4.0\n",
       " 2.0"
      ]
     },
     "execution_count": 82,
     "metadata": {},
     "output_type": "execute_result"
    }
   ],
   "source": [
    "A[:,1]"
   ]
  },
  {
   "cell_type": "code",
   "execution_count": 83,
   "id": "a67a8d73",
   "metadata": {},
   "outputs": [
    {
     "data": {
      "text/plain": [
       "2-element Vector{Float64}:\n",
       " 4.0\n",
       " 1.0"
      ]
     },
     "execution_count": 83,
     "metadata": {},
     "output_type": "execute_result"
    }
   ],
   "source": [
    "A[1,:]"
   ]
  },
  {
   "cell_type": "code",
   "execution_count": 84,
   "id": "db20e7c1",
   "metadata": {},
   "outputs": [
    {
     "data": {
      "text/plain": [
       "5×5 Matrix{Float64}:\n",
       " 0.619981    0.00458366  0.536335  0.304063  0.0721496\n",
       " 0.731563    0.629636    0.873519  0.34955   0.981515\n",
       " 0.00918062  0.902795    0.430644  0.227832  0.413854\n",
       " 0.213649    0.0945436   0.407011  0.248869  0.767008\n",
       " 0.557536    0.963382    0.243345  0.443952  0.598183"
      ]
     },
     "execution_count": 84,
     "metadata": {},
     "output_type": "execute_result"
    }
   ],
   "source": [
    "A = rand(5,5)"
   ]
  },
  {
   "cell_type": "code",
   "execution_count": 85,
   "id": "f4e92980",
   "metadata": {},
   "outputs": [
    {
     "data": {
      "text/plain": [
       "3-element Vector{Float64}:\n",
       " 0.6296357067863978\n",
       " 0.8735186884616964\n",
       " 0.34955033820231174"
      ]
     },
     "execution_count": 85,
     "metadata": {},
     "output_type": "execute_result"
    }
   ],
   "source": [
    "A[2,2:4] # de la fila 2 quiero columnas 2,3,4"
   ]
  },
  {
   "cell_type": "markdown",
   "id": "c4c91e34",
   "metadata": {},
   "source": [
    "## Funciones"
   ]
  },
  {
   "cell_type": "code",
   "execution_count": 86,
   "id": "1ef0df6b",
   "metadata": {},
   "outputs": [
    {
     "data": {
      "text/plain": [
       "f (generic function with 1 method)"
      ]
     },
     "execution_count": 86,
     "metadata": {},
     "output_type": "execute_result"
    }
   ],
   "source": [
    "f(x) = x^2 - 3x + 4 # Esto es de R1 a R1"
   ]
  },
  {
   "cell_type": "code",
   "execution_count": 87,
   "id": "debddcfe",
   "metadata": {},
   "outputs": [
    {
     "data": {
      "text/plain": [
       "2"
      ]
     },
     "execution_count": 87,
     "metadata": {},
     "output_type": "execute_result"
    }
   ],
   "source": [
    "f(2)"
   ]
  },
  {
   "cell_type": "code",
   "execution_count": 88,
   "id": "a345401f",
   "metadata": {},
   "outputs": [
    {
     "data": {
      "text/plain": [
       "g (generic function with 1 method)"
      ]
     },
     "execution_count": 88,
     "metadata": {},
     "output_type": "execute_result"
    }
   ],
   "source": [
    "g(x) = sqrt(x^2 + 1),2x+1 # Esta es de R1 a R2"
   ]
  },
  {
   "cell_type": "code",
   "execution_count": 89,
   "id": "56dc55dd",
   "metadata": {},
   "outputs": [
    {
     "data": {
      "text/plain": [
       "(2.23606797749979, 5)"
      ]
     },
     "execution_count": 89,
     "metadata": {},
     "output_type": "execute_result"
    }
   ],
   "source": [
    "g(2)"
   ]
  },
  {
   "cell_type": "code",
   "execution_count": 92,
   "id": "a78966da",
   "metadata": {},
   "outputs": [
    {
     "data": {
      "text/plain": [
       "(2.23606797749979, 5)"
      ]
     },
     "execution_count": 92,
     "metadata": {},
     "output_type": "execute_result"
    }
   ],
   "source": [
    "valor = g(2)"
   ]
  },
  {
   "cell_type": "code",
   "execution_count": 98,
   "id": "e8cac457",
   "metadata": {},
   "outputs": [
    {
     "data": {
      "text/plain": [
       "2.23606797749979"
      ]
     },
     "execution_count": 98,
     "metadata": {},
     "output_type": "execute_result"
    }
   ],
   "source": [
    "valor[1]"
   ]
  },
  {
   "cell_type": "code",
   "execution_count": 99,
   "id": "0736f9f4",
   "metadata": {},
   "outputs": [
    {
     "data": {
      "text/plain": [
       "5"
      ]
     },
     "execution_count": 99,
     "metadata": {},
     "output_type": "execute_result"
    }
   ],
   "source": [
    "valor[2]"
   ]
  },
  {
   "cell_type": "code",
   "execution_count": 100,
   "id": "1c9394c9",
   "metadata": {},
   "outputs": [
    {
     "data": {
      "text/plain": [
       "(2.23606797749979, 5)"
      ]
     },
     "execution_count": 100,
     "metadata": {},
     "output_type": "execute_result"
    }
   ],
   "source": [
    "a , b = valor"
   ]
  },
  {
   "cell_type": "code",
   "execution_count": 101,
   "id": "5c65c2e2",
   "metadata": {},
   "outputs": [
    {
     "data": {
      "text/plain": [
       "2.23606797749979"
      ]
     },
     "execution_count": 101,
     "metadata": {},
     "output_type": "execute_result"
    }
   ],
   "source": [
    "a"
   ]
  },
  {
   "cell_type": "code",
   "execution_count": 102,
   "id": "c8528f1b",
   "metadata": {},
   "outputs": [
    {
     "data": {
      "text/plain": [
       "5"
      ]
     },
     "execution_count": 102,
     "metadata": {},
     "output_type": "execute_result"
    }
   ],
   "source": [
    "b"
   ]
  },
  {
   "cell_type": "code",
   "execution_count": 103,
   "id": "374cd6ce",
   "metadata": {},
   "outputs": [
    {
     "data": {
      "text/plain": [
       "h (generic function with 1 method)"
      ]
     },
     "execution_count": 103,
     "metadata": {},
     "output_type": "execute_result"
    }
   ],
   "source": [
    "h(x,y,z) = x* y * z"
   ]
  },
  {
   "cell_type": "code",
   "execution_count": 104,
   "id": "010c4c3f",
   "metadata": {},
   "outputs": [
    {
     "data": {
      "text/plain": [
       "24"
      ]
     },
     "execution_count": 104,
     "metadata": {},
     "output_type": "execute_result"
    }
   ],
   "source": [
    "h(2,3,4)"
   ]
  },
  {
   "cell_type": "code",
   "execution_count": 107,
   "id": "01303d3b",
   "metadata": {},
   "outputs": [
    {
     "ename": "LoadError",
     "evalue": "MethodError: no method matching +(::Matrix{Float64}, ::Int64)\nFor element-wise addition, use broadcasting with dot syntax: array .+ scalar\n\u001b[0mClosest candidates are:\n\u001b[0m  +(::Any, ::Any, \u001b[91m::Any\u001b[39m, \u001b[91m::Any...\u001b[39m) at C:\\Users\\Juan\\AppData\\Local\\Programs\\Julia-1.7.0\\share\\julia\\base\\operators.jl:655\n\u001b[0m  +(\u001b[91m::T\u001b[39m, ::T) where T<:Union{Int128, Int16, Int32, Int64, Int8, UInt128, UInt16, UInt32, UInt64, UInt8} at C:\\Users\\Juan\\AppData\\Local\\Programs\\Julia-1.7.0\\share\\julia\\base\\int.jl:87\n\u001b[0m  +(\u001b[91m::T\u001b[39m, ::Integer) where T<:AbstractChar at C:\\Users\\Juan\\AppData\\Local\\Programs\\Julia-1.7.0\\share\\julia\\base\\char.jl:237\n\u001b[0m  ...",
     "output_type": "error",
     "traceback": [
      "MethodError: no method matching +(::Matrix{Float64}, ::Int64)\nFor element-wise addition, use broadcasting with dot syntax: array .+ scalar\n\u001b[0mClosest candidates are:\n\u001b[0m  +(::Any, ::Any, \u001b[91m::Any\u001b[39m, \u001b[91m::Any...\u001b[39m) at C:\\Users\\Juan\\AppData\\Local\\Programs\\Julia-1.7.0\\share\\julia\\base\\operators.jl:655\n\u001b[0m  +(\u001b[91m::T\u001b[39m, ::T) where T<:Union{Int128, Int16, Int32, Int64, Int8, UInt128, UInt16, UInt32, UInt64, UInt8} at C:\\Users\\Juan\\AppData\\Local\\Programs\\Julia-1.7.0\\share\\julia\\base\\int.jl:87\n\u001b[0m  +(\u001b[91m::T\u001b[39m, ::Integer) where T<:AbstractChar at C:\\Users\\Juan\\AppData\\Local\\Programs\\Julia-1.7.0\\share\\julia\\base\\char.jl:237\n\u001b[0m  ...",
      "",
      "Stacktrace:",
      " [1] f(x::Matrix{Float64})",
      "   @ Main .\\In[86]:1",
      " [2] top-level scope",
      "   @ In[107]:1",
      " [3] eval",
      "   @ .\\boot.jl:373 [inlined]",
      " [4] include_string(mapexpr::typeof(REPL.softscope), mod::Module, code::String, filename::String)",
      "   @ Base .\\loading.jl:1196"
     ]
    }
   ],
   "source": [
    "f(A) #No puedo hacer esta operacion con una matriz asi porque tiene un valor sumando"
   ]
  },
  {
   "cell_type": "code",
   "execution_count": 108,
   "id": "87741d0c",
   "metadata": {},
   "outputs": [
    {
     "data": {
      "text/plain": [
       "f (generic function with 1 method)"
      ]
     },
     "execution_count": 108,
     "metadata": {},
     "output_type": "execute_result"
    }
   ],
   "source": [
    "# Vamos a redefinir f(x) de manera que podamos hacer el calculo\n",
    "f(x) = x^2 - 3x"
   ]
  },
  {
   "cell_type": "code",
   "execution_count": 110,
   "id": "d38f059d",
   "metadata": {},
   "outputs": [
    {
     "data": {
      "text/plain": [
       "5×5 Matrix{Float64}:\n",
       " -1.3621      0.574432  -0.900199  -0.492176    0.331123\n",
       " -0.650584    0.278118  -0.920901   0.115633   -1.05702\n",
       "  0.921969   -1.33089   -0.119506  -0.0265865   0.245741\n",
       "  0.0452174   0.906776  -0.560644  -0.153416   -1.37467\n",
       " -0.191579   -1.44307    0.841576  -0.394086   -0.00970162"
      ]
     },
     "execution_count": 110,
     "metadata": {},
     "output_type": "execute_result"
    }
   ],
   "source": [
    "f(A) #estamos haciendo A^2 - 3A"
   ]
  },
  {
   "cell_type": "markdown",
   "id": "4a556b21",
   "metadata": {},
   "source": [
    "#### Otras maneras de definir funciones\n"
   ]
  },
  {
   "cell_type": "code",
   "execution_count": 113,
   "id": "65a6b422",
   "metadata": {},
   "outputs": [
    {
     "data": {
      "text/plain": [
       "cuadratica (generic function with 1 method)"
      ]
     },
     "execution_count": 113,
     "metadata": {},
     "output_type": "execute_result"
    }
   ],
   "source": [
    "function cuadratica(a,b,c)\n",
    "    Δ = b^2 -4 * a * c\n",
    "    x1 = (-b+√(Δ)) / 2a\n",
    "    x2 = (-b-√(Δ)) / 2a\n",
    "    return x1,x2\n",
    "end"
   ]
  },
  {
   "cell_type": "code",
   "execution_count": 114,
   "id": "97b06113",
   "metadata": {},
   "outputs": [
    {
     "data": {
      "text/plain": [
       "(3.0, 1.0)"
      ]
     },
     "execution_count": 114,
     "metadata": {},
     "output_type": "execute_result"
    }
   ],
   "source": [
    "cuadratica(1,-4,3)"
   ]
  },
  {
   "cell_type": "code",
   "execution_count": 124,
   "id": "e5e498fe",
   "metadata": {},
   "outputs": [
    {
     "data": {
      "text/plain": [
       "#5 (generic function with 1 method)"
      ]
     },
     "execution_count": 124,
     "metadata": {},
     "output_type": "execute_result"
    }
   ],
   "source": [
    "funcion =  x -> log(x^2+1) # Esta se llama funcion anonima"
   ]
  },
  {
   "cell_type": "code",
   "execution_count": 118,
   "id": "d8e2d833",
   "metadata": {},
   "outputs": [
    {
     "data": {
      "text/plain": [
       "2.302585092994046"
      ]
     },
     "execution_count": 118,
     "metadata": {},
     "output_type": "execute_result"
    }
   ],
   "source": [
    "funcion(3)"
   ]
  },
  {
   "cell_type": "code",
   "execution_count": 120,
   "id": "ab1496f3",
   "metadata": {},
   "outputs": [
    {
     "data": {
      "text/plain": [
       "0.0"
      ]
     },
     "execution_count": 120,
     "metadata": {},
     "output_type": "execute_result"
    }
   ],
   "source": [
    "funcion(0)"
   ]
  },
  {
   "cell_type": "code",
   "execution_count": null,
   "id": "84843b5f",
   "metadata": {},
   "outputs": [],
   "source": []
  },
  {
   "cell_type": "code",
   "execution_count": null,
   "id": "0ff6f1c0",
   "metadata": {},
   "outputs": [],
   "source": []
  },
  {
   "cell_type": "markdown",
   "id": "a31a5dd6",
   "metadata": {},
   "source": [
    "$$ f'(x) = \\lim_{h \\to 0} \\frac{f(x + h) - f(x)}{h}$$"
   ]
  },
  {
   "cell_type": "code",
   "execution_count": 125,
   "id": "cb968086",
   "metadata": {},
   "outputs": [
    {
     "data": {
      "text/plain": [
       "derivada (generic function with 1 method)"
      ]
     },
     "execution_count": 125,
     "metadata": {},
     "output_type": "execute_result"
    }
   ],
   "source": [
    "function derivada(f,x,h) #aproximacion de diferencias finitas f es la funcion, x el punto y h que tanto me alejo\n",
    "    (f(x + h) - f(x)) / h\n",
    "end\n",
    "    "
   ]
  },
  {
   "cell_type": "code",
   "execution_count": 126,
   "id": "7f7ebf11",
   "metadata": {},
   "outputs": [
    {
     "data": {
      "text/plain": [
       "f (generic function with 1 method)"
      ]
     },
     "execution_count": 126,
     "metadata": {},
     "output_type": "execute_result"
    }
   ],
   "source": [
    "f(x) = x^2 - 3x"
   ]
  },
  {
   "cell_type": "code",
   "execution_count": 127,
   "id": "1c20d5db",
   "metadata": {},
   "outputs": [
    {
     "data": {
      "text/plain": [
       "1.0099999999999554"
      ]
     },
     "execution_count": 127,
     "metadata": {},
     "output_type": "execute_result"
    }
   ],
   "source": [
    "derivada(f,2.0,0.01) "
   ]
  },
  {
   "cell_type": "code",
   "execution_count": 130,
   "id": "fb9a7367",
   "metadata": {},
   "outputs": [
    {
     "data": {
      "text/plain": [
       "1.0099999999999554"
      ]
     },
     "execution_count": 130,
     "metadata": {},
     "output_type": "execute_result"
    }
   ],
   "source": [
    "derivada(x-> x^2 - 3x,2,0.01)"
   ]
  },
  {
   "cell_type": "code",
   "execution_count": 131,
   "id": "88c7de66",
   "metadata": {},
   "outputs": [
    {
     "data": {
      "text/plain": [
       "derivada2 (generic function with 2 methods)"
      ]
     },
     "execution_count": 131,
     "metadata": {},
     "output_type": "execute_result"
    }
   ],
   "source": [
    "function derivada2(f,x,h=1e-8) # Aca ya estoy especificando el h pero si quiero puedo modificarlo\n",
    "    (f(x + h) - f(x)) / h\n",
    "end\n",
    "    "
   ]
  },
  {
   "cell_type": "code",
   "execution_count": 137,
   "id": "d96d616a",
   "metadata": {},
   "outputs": [
    {
     "data": {
      "text/plain": [
       "0.999999993922529"
      ]
     },
     "execution_count": 137,
     "metadata": {},
     "output_type": "execute_result"
    }
   ],
   "source": [
    "derivada2(x-> x^2 - 3x,2) # La diferencia existe por el valor de h"
   ]
  },
  {
   "cell_type": "code",
   "execution_count": 139,
   "id": "425522b3",
   "metadata": {},
   "outputs": [
    {
     "data": {
      "text/plain": [
       "1.0099999999999554"
      ]
     },
     "execution_count": 139,
     "metadata": {},
     "output_type": "execute_result"
    }
   ],
   "source": [
    "derivada2(x-> x^2 - 3x,2,0.01) # Ahora como lo especifique me da lo mismo"
   ]
  },
  {
   "cell_type": "code",
   "execution_count": 140,
   "id": "2f6f1762",
   "metadata": {},
   "outputs": [
    {
     "data": {
      "text/plain": [
       "3-element Vector{Float64}:\n",
       "  3.0\n",
       " -1.0\n",
       "  3.0"
      ]
     },
     "execution_count": 140,
     "metadata": {},
     "output_type": "execute_result"
    }
   ],
   "source": [
    "w"
   ]
  },
  {
   "cell_type": "code",
   "execution_count": 141,
   "id": "bab0cdc0",
   "metadata": {},
   "outputs": [
    {
     "ename": "LoadError",
     "evalue": "MethodError: no method matching exp(::Vector{Float64})\n\u001b[0mClosest candidates are:\n\u001b[0m  exp(\u001b[91m::Union{Float16, Float32, Float64}\u001b[39m) at C:\\Users\\Juan\\AppData\\Local\\Programs\\Julia-1.7.0\\share\\julia\\base\\special\\exp.jl:296\n\u001b[0m  exp(\u001b[91m::StridedMatrix{var\"#s859\"} where var\"#s859\"<:Union{Float32, Float64, ComplexF32, ComplexF64}\u001b[39m) at C:\\Users\\Juan\\AppData\\Local\\Programs\\Julia-1.7.0\\share\\julia\\stdlib\\v1.7\\LinearAlgebra\\src\\dense.jl:560\n\u001b[0m  exp(\u001b[91m::StridedMatrix{var\"#s859\"} where var\"#s859\"<:Union{Integer, Complex{<:Integer}}\u001b[39m) at C:\\Users\\Juan\\AppData\\Local\\Programs\\Julia-1.7.0\\share\\julia\\stdlib\\v1.7\\LinearAlgebra\\src\\dense.jl:561\n\u001b[0m  ...",
     "output_type": "error",
     "traceback": [
      "MethodError: no method matching exp(::Vector{Float64})\n\u001b[0mClosest candidates are:\n\u001b[0m  exp(\u001b[91m::Union{Float16, Float32, Float64}\u001b[39m) at C:\\Users\\Juan\\AppData\\Local\\Programs\\Julia-1.7.0\\share\\julia\\base\\special\\exp.jl:296\n\u001b[0m  exp(\u001b[91m::StridedMatrix{var\"#s859\"} where var\"#s859\"<:Union{Float32, Float64, ComplexF32, ComplexF64}\u001b[39m) at C:\\Users\\Juan\\AppData\\Local\\Programs\\Julia-1.7.0\\share\\julia\\stdlib\\v1.7\\LinearAlgebra\\src\\dense.jl:560\n\u001b[0m  exp(\u001b[91m::StridedMatrix{var\"#s859\"} where var\"#s859\"<:Union{Integer, Complex{<:Integer}}\u001b[39m) at C:\\Users\\Juan\\AppData\\Local\\Programs\\Julia-1.7.0\\share\\julia\\stdlib\\v1.7\\LinearAlgebra\\src\\dense.jl:561\n\u001b[0m  ...",
      "",
      "Stacktrace:",
      " [1] top-level scope",
      "   @ In[141]:1",
      " [2] eval",
      "   @ .\\boot.jl:373 [inlined]",
      " [3] include_string(mapexpr::typeof(REPL.softscope), mod::Module, code::String, filename::String)",
      "   @ Base .\\loading.jl:1196"
     ]
    }
   ],
   "source": [
    "exp(w)"
   ]
  },
  {
   "cell_type": "code",
   "execution_count": 144,
   "id": "be1974ac",
   "metadata": {},
   "outputs": [
    {
     "data": {
      "text/plain": [
       "3-element Vector{Float64}:\n",
       " 20.085536923187668\n",
       "  0.36787944117144233\n",
       " 20.085536923187668"
      ]
     },
     "execution_count": 144,
     "metadata": {},
     "output_type": "execute_result"
    }
   ],
   "source": [
    "exp.(w) #hago a cada elemento"
   ]
  },
  {
   "cell_type": "markdown",
   "id": "d580d121",
   "metadata": {},
   "source": [
    "### Rangos y listas"
   ]
  },
  {
   "cell_type": "code",
   "execution_count": 145,
   "id": "c1a8f949",
   "metadata": {},
   "outputs": [
    {
     "data": {
      "text/plain": [
       "2-element Vector{Int64}:\n",
       " 1\n",
       " 2"
      ]
     },
     "execution_count": 145,
     "metadata": {},
     "output_type": "execute_result"
    }
   ],
   "source": [
    "v[1:2]"
   ]
  },
  {
   "cell_type": "code",
   "execution_count": 146,
   "id": "1431e6c2",
   "metadata": {},
   "outputs": [
    {
     "data": {
      "text/plain": [
       "1:2"
      ]
     },
     "execution_count": 146,
     "metadata": {},
     "output_type": "execute_result"
    }
   ],
   "source": [
    "1:2"
   ]
  },
  {
   "cell_type": "markdown",
   "id": "13f7742d",
   "metadata": {},
   "source": [
    "dd"
   ]
  },
  {
   "cell_type": "code",
   "execution_count": 147,
   "id": "dffe12c8",
   "metadata": {},
   "outputs": [
    {
     "data": {
      "text/plain": [
       "3:100"
      ]
     },
     "execution_count": 147,
     "metadata": {},
     "output_type": "execute_result"
    }
   ],
   "source": [
    "3:100"
   ]
  },
  {
   "cell_type": "code",
   "execution_count": 149,
   "id": "01ab81d7",
   "metadata": {},
   "outputs": [
    {
     "data": {
      "text/plain": [
       "10-element Vector{Int64}:\n",
       "  1\n",
       "  2\n",
       "  3\n",
       "  4\n",
       "  5\n",
       "  6\n",
       "  7\n",
       "  8\n",
       "  9\n",
       " 10"
      ]
     },
     "execution_count": 149,
     "metadata": {},
     "output_type": "execute_result"
    }
   ],
   "source": [
    "collect(1:10)"
   ]
  },
  {
   "cell_type": "code",
   "execution_count": 150,
   "id": "c0a9d374",
   "metadata": {},
   "outputs": [
    {
     "data": {
      "text/plain": [
       "2.0:0.1:3.0"
      ]
     },
     "execution_count": 150,
     "metadata": {},
     "output_type": "execute_result"
    }
   ],
   "source": [
    "2:0.1:3"
   ]
  },
  {
   "cell_type": "code",
   "execution_count": 151,
   "id": "f4cdd2f6",
   "metadata": {},
   "outputs": [
    {
     "data": {
      "text/plain": [
       "11-element Vector{Float64}:\n",
       " 2.0\n",
       " 2.1\n",
       " 2.2\n",
       " 2.3\n",
       " 2.4\n",
       " 2.5\n",
       " 2.6\n",
       " 2.7\n",
       " 2.8\n",
       " 2.9\n",
       " 3.0"
      ]
     },
     "execution_count": 151,
     "metadata": {},
     "output_type": "execute_result"
    }
   ],
   "source": [
    "collect(2:0.1:3)"
   ]
  },
  {
   "cell_type": "code",
   "execution_count": 152,
   "id": "18dfabd7",
   "metadata": {},
   "outputs": [
    {
     "data": {
      "text/plain": [
       "9-element Vector{Float64}:\n",
       " 0.0\n",
       " 0.7853981633974483\n",
       " 1.5707963267948966\n",
       " 2.356194490192345\n",
       " 3.141592653589793\n",
       " 3.9269908169872414\n",
       " 4.71238898038469\n",
       " 5.497787143782138\n",
       " 6.283185307179586"
      ]
     },
     "execution_count": 152,
     "metadata": {},
     "output_type": "execute_result"
    }
   ],
   "source": [
    "collect(0:π/4:2π)"
   ]
  },
  {
   "cell_type": "code",
   "execution_count": 156,
   "id": "667a6fb4",
   "metadata": {},
   "outputs": [
    {
     "data": {
      "text/plain": [
       "0.0:0.7853981633974483:6.283185307179586"
      ]
     },
     "execution_count": 156,
     "metadata": {},
     "output_type": "execute_result"
    }
   ],
   "source": [
    "range(0,2π,length=9)"
   ]
  },
  {
   "cell_type": "code",
   "execution_count": 157,
   "id": "2f21cece",
   "metadata": {},
   "outputs": [
    {
     "data": {
      "text/plain": [
       "9-element Vector{Float64}:\n",
       " 0.0\n",
       " 0.7853981633974483\n",
       " 1.5707963267948966\n",
       " 2.356194490192345\n",
       " 3.141592653589793\n",
       " 3.9269908169872414\n",
       " 4.71238898038469\n",
       " 5.497787143782138\n",
       " 6.283185307179586"
      ]
     },
     "execution_count": 157,
     "metadata": {},
     "output_type": "execute_result"
    }
   ],
   "source": [
    "collect(range(0,2π,length=9))"
   ]
  },
  {
   "cell_type": "markdown",
   "id": "ad886a53",
   "metadata": {},
   "source": [
    "## For "
   ]
  },
  {
   "cell_type": "code",
   "execution_count": 158,
   "id": "fa168ddf",
   "metadata": {},
   "outputs": [
    {
     "name": "stdout",
     "output_type": "stream",
     "text": [
      "1\n",
      "2\n",
      "3\n",
      "4\n",
      "5\n"
     ]
    }
   ],
   "source": [
    "# para cade elemento de un conjunto pasa una cosa\n",
    "for x in 1:5\n",
    "    println(x)\n",
    "end"
   ]
  },
  {
   "cell_type": "code",
   "execution_count": 159,
   "id": "4549ae6a",
   "metadata": {},
   "outputs": [
    {
     "name": "stdout",
     "output_type": "stream",
     "text": [
      "1\n",
      "2\n",
      "3\n",
      "4\n",
      "5\n"
     ]
    }
   ],
   "source": [
    "for x = 1:5\n",
    "    println(x)\n",
    "end"
   ]
  },
  {
   "cell_type": "code",
   "execution_count": 160,
   "id": "5b149a6c",
   "metadata": {},
   "outputs": [
    {
     "name": "stdout",
     "output_type": "stream",
     "text": [
      "12345"
     ]
    }
   ],
   "source": [
    "for x in 1:5\n",
    "    print(x)\n",
    "end"
   ]
  },
  {
   "cell_type": "code",
   "execution_count": 161,
   "id": "deb0213c",
   "metadata": {},
   "outputs": [
    {
     "name": "stdout",
     "output_type": "stream",
     "text": [
      "0.0\n",
      "0.010000000000000002\n",
      "0.04000000000000001\n",
      "0.09\n",
      "0.16000000000000003\n",
      "0.25\n",
      "0.36\n",
      "0.48999999999999994\n",
      "0.6400000000000001\n",
      "0.81\n",
      "1.0\n"
     ]
    }
   ],
   "source": [
    "for x in 0:0.1:1\n",
    "    println(x^2)\n",
    "end"
   ]
  },
  {
   "cell_type": "code",
   "execution_count": 162,
   "id": "ed99613e",
   "metadata": {},
   "outputs": [
    {
     "data": {
      "text/plain": [
       "3"
      ]
     },
     "execution_count": 162,
     "metadata": {},
     "output_type": "execute_result"
    }
   ],
   "source": [
    "n = length(v)"
   ]
  },
  {
   "cell_type": "code",
   "execution_count": 164,
   "id": "12dacc3d",
   "metadata": {},
   "outputs": [
    {
     "data": {
      "text/plain": [
       "producto_interno (generic function with 1 method)"
      ]
     },
     "execution_count": 164,
     "metadata": {},
     "output_type": "execute_result"
    }
   ],
   "source": [
    "function producto_interno(v,w) # Es lo mismo que hacer v ⋅ w\n",
    "    n = length(v)\n",
    "    S = 0.0\n",
    "    for i = 1:n\n",
    "        S = S + v[i] * w[i]\n",
    "    end\n",
    "    return S\n",
    "end"
   ]
  },
  {
   "cell_type": "code",
   "execution_count": 165,
   "id": "b3715987",
   "metadata": {},
   "outputs": [
    {
     "data": {
      "text/plain": [
       "10.0"
      ]
     },
     "execution_count": 165,
     "metadata": {},
     "output_type": "execute_result"
    }
   ],
   "source": [
    "producto_interno(v,w)"
   ]
  },
  {
   "cell_type": "code",
   "execution_count": 169,
   "id": "21e2c64e",
   "metadata": {},
   "outputs": [
    {
     "name": "stdout",
     "output_type": "stream",
     "text": [
      "vi= 1,wi = 3.0\n",
      "vi= 1,wi = -1.0\n",
      "vi= 1,wi = 3.0\n",
      "vi= 2,wi = 3.0\n",
      "vi= 2,wi = -1.0\n",
      "vi= 2,wi = 3.0\n",
      "vi= 3,wi = 3.0\n",
      "vi= 3,wi = -1.0\n",
      "vi= 3,wi = 3.0\n"
     ]
    }
   ],
   "source": [
    "for vi in v, wi in w\n",
    "    println(\"vi= $vi,wi = $wi\")\n",
    "end\n"
   ]
  },
  {
   "cell_type": "code",
   "execution_count": 170,
   "id": "03936555",
   "metadata": {},
   "outputs": [
    {
     "name": "stdout",
     "output_type": "stream",
     "text": [
      "vi= 1,wi = 3.0\n",
      "vi= 2,wi = -1.0\n",
      "vi= 3,wi = 3.0\n"
     ]
    }
   ],
   "source": [
    "for (vi,wi) in zip(v,w)\n",
    "    println(\"vi= $vi,wi = $wi\")\n",
    "end\n"
   ]
  },
  {
   "cell_type": "code",
   "execution_count": 171,
   "id": "ad0fc910",
   "metadata": {},
   "outputs": [],
   "source": [
    "z = zeros(3)\n",
    "for i = 1:3\n",
    "    z[i] = v[i]^2 * w[i] + 1\n",
    "end"
   ]
  },
  {
   "cell_type": "markdown",
   "id": "f187d75e",
   "metadata": {},
   "source": [
    "z"
   ]
  },
  {
   "cell_type": "code",
   "execution_count": 174,
   "id": "f0200c8f",
   "metadata": {},
   "outputs": [
    {
     "data": {
      "text/plain": [
       "3-element Vector{Float64}:\n",
       "  4.0\n",
       " -3.0\n",
       " 28.0"
      ]
     },
     "execution_count": 174,
     "metadata": {},
     "output_type": "execute_result"
    }
   ],
   "source": [
    "v.^2 .*w .+1 #Recordemos que podiamos usar el .(operacion)"
   ]
  },
  {
   "cell_type": "code",
   "execution_count": 175,
   "id": "03ea55b5",
   "metadata": {},
   "outputs": [
    {
     "data": {
      "text/plain": [
       "factorial (generic function with 1 method)"
      ]
     },
     "execution_count": 175,
     "metadata": {},
     "output_type": "execute_result"
    }
   ],
   "source": [
    "function factorial(n :: Int)\n",
    "    resultado = 1\n",
    "    for i in 1:n\n",
    "        resultado = resultado * i\n",
    "    end\n",
    "    return resultado\n",
    "end"
   ]
  },
  {
   "cell_type": "code",
   "execution_count": 176,
   "id": "a5de677e",
   "metadata": {},
   "outputs": [
    {
     "data": {
      "text/plain": [
       "2"
      ]
     },
     "execution_count": 176,
     "metadata": {},
     "output_type": "execute_result"
    }
   ],
   "source": [
    "factorial(2)"
   ]
  },
  {
   "cell_type": "code",
   "execution_count": 177,
   "id": "4a05b315",
   "metadata": {},
   "outputs": [
    {
     "data": {
      "text/plain": [
       "120"
      ]
     },
     "execution_count": 177,
     "metadata": {},
     "output_type": "execute_result"
    }
   ],
   "source": [
    "factorial(5)"
   ]
  },
  {
   "cell_type": "markdown",
   "id": "03095940",
   "metadata": {},
   "source": [
    "### Condicional"
   ]
  },
  {
   "cell_type": "code",
   "execution_count": null,
   "id": "a5657073",
   "metadata": {},
   "outputs": [],
   "source": []
  },
  {
   "cell_type": "code",
   "execution_count": null,
   "id": "5ce4db75",
   "metadata": {},
   "outputs": [],
   "source": []
  },
  {
   "cell_type": "code",
   "execution_count": null,
   "id": "31e37665",
   "metadata": {},
   "outputs": [],
   "source": []
  },
  {
   "cell_type": "code",
   "execution_count": null,
   "id": "2ac59885",
   "metadata": {},
   "outputs": [],
   "source": []
  },
  {
   "cell_type": "code",
   "execution_count": null,
   "id": "24f2023d",
   "metadata": {},
   "outputs": [],
   "source": []
  },
  {
   "cell_type": "code",
   "execution_count": null,
   "id": "d0a44614",
   "metadata": {},
   "outputs": [],
   "source": []
  },
  {
   "cell_type": "code",
   "execution_count": null,
   "id": "3b5a52f9",
   "metadata": {},
   "outputs": [],
   "source": []
  },
  {
   "cell_type": "code",
   "execution_count": null,
   "id": "df25319e",
   "metadata": {},
   "outputs": [],
   "source": []
  },
  {
   "cell_type": "code",
   "execution_count": null,
   "id": "01d63438",
   "metadata": {},
   "outputs": [],
   "source": []
  },
  {
   "cell_type": "code",
   "execution_count": null,
   "id": "d54788a3",
   "metadata": {},
   "outputs": [],
   "source": []
  },
  {
   "cell_type": "code",
   "execution_count": 96,
   "id": "4919072c",
   "metadata": {},
   "outputs": [
    {
     "data": {
      "text/plain": [
       "100-element Vector{Float64}:\n",
       " 0.6247863876906586\n",
       " 0.7744747245044046\n",
       " 0.871433255318658\n",
       " 0.9885889345190885\n",
       " 0.09927658178434418\n",
       " 0.6957024620343235\n",
       " 0.23577912458670602\n",
       " 0.10162581211329436\n",
       " 0.752760146190921\n",
       " 0.0934243653922956\n",
       " 0.8416073597785539\n",
       " 0.9920789425005491\n",
       " 0.6099791018249565\n",
       " ⋮\n",
       " 0.2030276040947261\n",
       " 0.7394820415139568\n",
       " 0.09439467454741923\n",
       " 0.3571121605232276\n",
       " 0.8844244061794931\n",
       " 0.29246655403330124\n",
       " 0.2853823197219634\n",
       " 0.6391312093996816\n",
       " 0.5030872168858657\n",
       " 0.0852014320396739\n",
       " 0.3888303850608722\n",
       " 0.528547347539971"
      ]
     },
     "execution_count": 96,
     "metadata": {},
     "output_type": "execute_result"
    }
   ],
   "source": [
    "x = collect(1:1:100)\n",
    "y = rand(100)"
   ]
  },
  {
   "cell_type": "code",
   "execution_count": 97,
   "id": "5f427ee0",
   "metadata": {},
   "outputs": [
    {
     "data": {
      "image/svg+xml": [
       "<?xml version=\"1.0\" encoding=\"utf-8\"?>\n",
       "<svg xmlns=\"http://www.w3.org/2000/svg\" xmlns:xlink=\"http://www.w3.org/1999/xlink\" width=\"600\" height=\"400\" viewBox=\"0 0 2400 1600\">\n",
       "<defs>\n",
       "  <clipPath id=\"clip680\">\n",
       "    <rect x=\"0\" y=\"0\" width=\"2400\" height=\"1600\"/>\n",
       "  </clipPath>\n",
       "</defs>\n",
       "<path clip-path=\"url(#clip680)\" d=\"\n",
       "M0 1600 L2400 1600 L2400 0 L0 0  Z\n",
       "  \" fill=\"#ffffff\" fill-rule=\"evenodd\" fill-opacity=\"1\"/>\n",
       "<defs>\n",
       "  <clipPath id=\"clip681\">\n",
       "    <rect x=\"480\" y=\"0\" width=\"1681\" height=\"1600\"/>\n",
       "  </clipPath>\n",
       "</defs>\n",
       "<path clip-path=\"url(#clip680)\" d=\"\n",
       "M186.274 1486.45 L2352.76 1486.45 L2352.76 47.2441 L186.274 47.2441  Z\n",
       "  \" fill=\"#ffffff\" fill-rule=\"evenodd\" fill-opacity=\"1\"/>\n",
       "<defs>\n",
       "  <clipPath id=\"clip682\">\n",
       "    <rect x=\"186\" y=\"47\" width=\"2167\" height=\"1440\"/>\n",
       "  </clipPath>\n",
       "</defs>\n",
       "<polyline clip-path=\"url(#clip682)\" style=\"stroke:#000000; stroke-linecap:butt; stroke-linejoin:round; stroke-width:2; stroke-opacity:0.1; fill:none\" points=\"\n",
       "  226.945,1486.45 226.945,47.2441 \n",
       "  \"/>\n",
       "<polyline clip-path=\"url(#clip682)\" style=\"stroke:#000000; stroke-linecap:butt; stroke-linejoin:round; stroke-width:2; stroke-opacity:0.1; fill:none\" points=\"\n",
       "  743.069,1486.45 743.069,47.2441 \n",
       "  \"/>\n",
       "<polyline clip-path=\"url(#clip682)\" style=\"stroke:#000000; stroke-linecap:butt; stroke-linejoin:round; stroke-width:2; stroke-opacity:0.1; fill:none\" points=\"\n",
       "  1259.19,1486.45 1259.19,47.2441 \n",
       "  \"/>\n",
       "<polyline clip-path=\"url(#clip682)\" style=\"stroke:#000000; stroke-linecap:butt; stroke-linejoin:round; stroke-width:2; stroke-opacity:0.1; fill:none\" points=\"\n",
       "  1775.32,1486.45 1775.32,47.2441 \n",
       "  \"/>\n",
       "<polyline clip-path=\"url(#clip682)\" style=\"stroke:#000000; stroke-linecap:butt; stroke-linejoin:round; stroke-width:2; stroke-opacity:0.1; fill:none\" points=\"\n",
       "  2291.44,1486.45 2291.44,47.2441 \n",
       "  \"/>\n",
       "<polyline clip-path=\"url(#clip680)\" style=\"stroke:#000000; stroke-linecap:butt; stroke-linejoin:round; stroke-width:4; stroke-opacity:1; fill:none\" points=\"\n",
       "  186.274,1486.45 2352.76,1486.45 \n",
       "  \"/>\n",
       "<polyline clip-path=\"url(#clip680)\" style=\"stroke:#000000; stroke-linecap:butt; stroke-linejoin:round; stroke-width:4; stroke-opacity:1; fill:none\" points=\"\n",
       "  226.945,1486.45 226.945,1467.55 \n",
       "  \"/>\n",
       "<polyline clip-path=\"url(#clip680)\" style=\"stroke:#000000; stroke-linecap:butt; stroke-linejoin:round; stroke-width:4; stroke-opacity:1; fill:none\" points=\"\n",
       "  743.069,1486.45 743.069,1467.55 \n",
       "  \"/>\n",
       "<polyline clip-path=\"url(#clip680)\" style=\"stroke:#000000; stroke-linecap:butt; stroke-linejoin:round; stroke-width:4; stroke-opacity:1; fill:none\" points=\"\n",
       "  1259.19,1486.45 1259.19,1467.55 \n",
       "  \"/>\n",
       "<polyline clip-path=\"url(#clip680)\" style=\"stroke:#000000; stroke-linecap:butt; stroke-linejoin:round; stroke-width:4; stroke-opacity:1; fill:none\" points=\"\n",
       "  1775.32,1486.45 1775.32,1467.55 \n",
       "  \"/>\n",
       "<polyline clip-path=\"url(#clip680)\" style=\"stroke:#000000; stroke-linecap:butt; stroke-linejoin:round; stroke-width:4; stroke-opacity:1; fill:none\" points=\"\n",
       "  2291.44,1486.45 2291.44,1467.55 \n",
       "  \"/>\n",
       "<path clip-path=\"url(#clip680)\" d=\"M226.945 1517.37 Q223.333 1517.37 221.505 1520.93 Q219.699 1524.47 219.699 1531.6 Q219.699 1538.71 221.505 1542.27 Q223.333 1545.82 226.945 1545.82 Q230.579 1545.82 232.384 1542.27 Q234.213 1538.71 234.213 1531.6 Q234.213 1524.47 232.384 1520.93 Q230.579 1517.37 226.945 1517.37 M226.945 1513.66 Q232.755 1513.66 235.81 1518.27 Q238.889 1522.85 238.889 1531.6 Q238.889 1540.33 235.81 1544.94 Q232.755 1549.52 226.945 1549.52 Q221.134 1549.52 218.056 1544.94 Q215 1540.33 215 1531.6 Q215 1522.85 218.056 1518.27 Q221.134 1513.66 226.945 1513.66 Z\" fill=\"#000000\" fill-rule=\"evenodd\" fill-opacity=\"1\" /><path clip-path=\"url(#clip680)\" d=\"M722.339 1544.91 L738.659 1544.91 L738.659 1548.85 L716.714 1548.85 L716.714 1544.91 Q719.377 1542.16 723.96 1537.53 Q728.566 1532.88 729.747 1531.53 Q731.992 1529.01 732.872 1527.27 Q733.775 1525.51 733.775 1523.82 Q733.775 1521.07 731.83 1519.33 Q729.909 1517.6 726.807 1517.6 Q724.608 1517.6 722.154 1518.36 Q719.724 1519.13 716.946 1520.68 L716.946 1515.95 Q719.77 1514.82 722.224 1514.24 Q724.677 1513.66 726.714 1513.66 Q732.085 1513.66 735.279 1516.35 Q738.474 1519.03 738.474 1523.52 Q738.474 1525.65 737.663 1527.57 Q736.876 1529.47 734.77 1532.07 Q734.191 1532.74 731.089 1535.95 Q727.988 1539.15 722.339 1544.91 Z\" fill=\"#000000\" fill-rule=\"evenodd\" fill-opacity=\"1\" /><path clip-path=\"url(#clip680)\" d=\"M748.52 1514.29 L766.876 1514.29 L766.876 1518.22 L752.802 1518.22 L752.802 1526.7 Q753.821 1526.35 754.839 1526.19 Q755.858 1526 756.876 1526 Q762.663 1526 766.043 1529.17 Q769.423 1532.34 769.423 1537.76 Q769.423 1543.34 765.95 1546.44 Q762.478 1549.52 756.159 1549.52 Q753.983 1549.52 751.714 1549.15 Q749.469 1548.78 747.062 1548.04 L747.062 1543.34 Q749.145 1544.47 751.367 1545.03 Q753.589 1545.58 756.066 1545.58 Q760.071 1545.58 762.409 1543.48 Q764.747 1541.37 764.747 1537.76 Q764.747 1534.15 762.409 1532.04 Q760.071 1529.94 756.066 1529.94 Q754.191 1529.94 752.316 1530.35 Q750.464 1530.77 748.52 1531.65 L748.52 1514.29 Z\" fill=\"#000000\" fill-rule=\"evenodd\" fill-opacity=\"1\" /><path clip-path=\"url(#clip680)\" d=\"M1233.89 1514.29 L1252.25 1514.29 L1252.25 1518.22 L1238.17 1518.22 L1238.17 1526.7 Q1239.19 1526.35 1240.21 1526.19 Q1241.23 1526 1242.25 1526 Q1248.04 1526 1251.41 1529.17 Q1254.79 1532.34 1254.79 1537.76 Q1254.79 1543.34 1251.32 1546.44 Q1247.85 1549.52 1241.53 1549.52 Q1239.35 1549.52 1237.09 1549.15 Q1234.84 1548.78 1232.43 1548.04 L1232.43 1543.34 Q1234.52 1544.47 1236.74 1545.03 Q1238.96 1545.58 1241.44 1545.58 Q1245.44 1545.58 1247.78 1543.48 Q1250.12 1541.37 1250.12 1537.76 Q1250.12 1534.15 1247.78 1532.04 Q1245.44 1529.94 1241.44 1529.94 Q1239.56 1529.94 1237.69 1530.35 Q1235.84 1530.77 1233.89 1531.65 L1233.89 1514.29 Z\" fill=\"#000000\" fill-rule=\"evenodd\" fill-opacity=\"1\" /><path clip-path=\"url(#clip680)\" d=\"M1274.01 1517.37 Q1270.4 1517.37 1268.57 1520.93 Q1266.76 1524.47 1266.76 1531.6 Q1266.76 1538.71 1268.57 1542.27 Q1270.4 1545.82 1274.01 1545.82 Q1277.64 1545.82 1279.45 1542.27 Q1281.28 1538.71 1281.28 1531.6 Q1281.28 1524.47 1279.45 1520.93 Q1277.64 1517.37 1274.01 1517.37 M1274.01 1513.66 Q1279.82 1513.66 1282.87 1518.27 Q1285.95 1522.85 1285.95 1531.6 Q1285.95 1540.33 1282.87 1544.94 Q1279.82 1549.52 1274.01 1549.52 Q1268.2 1549.52 1265.12 1544.94 Q1262.06 1540.33 1262.06 1531.6 Q1262.06 1522.85 1265.12 1518.27 Q1268.2 1513.66 1274.01 1513.66 Z\" fill=\"#000000\" fill-rule=\"evenodd\" fill-opacity=\"1\" /><path clip-path=\"url(#clip680)\" d=\"M1749.17 1514.29 L1771.39 1514.29 L1771.39 1516.28 L1758.85 1548.85 L1753.96 1548.85 L1765.77 1518.22 L1749.17 1518.22 L1749.17 1514.29 Z\" fill=\"#000000\" fill-rule=\"evenodd\" fill-opacity=\"1\" /><path clip-path=\"url(#clip680)\" d=\"M1780.56 1514.29 L1798.92 1514.29 L1798.92 1518.22 L1784.84 1518.22 L1784.84 1526.7 Q1785.86 1526.35 1786.88 1526.19 Q1787.9 1526 1788.92 1526 Q1794.7 1526 1798.08 1529.17 Q1801.46 1532.34 1801.46 1537.76 Q1801.46 1543.34 1797.99 1546.44 Q1794.52 1549.52 1788.2 1549.52 Q1786.02 1549.52 1783.75 1549.15 Q1781.51 1548.78 1779.1 1548.04 L1779.1 1543.34 Q1781.18 1544.47 1783.41 1545.03 Q1785.63 1545.58 1788.11 1545.58 Q1792.11 1545.58 1794.45 1543.48 Q1796.79 1541.37 1796.79 1537.76 Q1796.79 1534.15 1794.45 1532.04 Q1792.11 1529.94 1788.11 1529.94 Q1786.23 1529.94 1784.36 1530.35 Q1782.5 1530.77 1780.56 1531.65 L1780.56 1514.29 Z\" fill=\"#000000\" fill-rule=\"evenodd\" fill-opacity=\"1\" /><path clip-path=\"url(#clip680)\" d=\"M2251.05 1544.91 L2258.69 1544.91 L2258.69 1518.55 L2250.38 1520.21 L2250.38 1515.95 L2258.64 1514.29 L2263.32 1514.29 L2263.32 1544.91 L2270.95 1544.91 L2270.95 1548.85 L2251.05 1548.85 L2251.05 1544.91 Z\" fill=\"#000000\" fill-rule=\"evenodd\" fill-opacity=\"1\" /><path clip-path=\"url(#clip680)\" d=\"M2290.4 1517.37 Q2286.79 1517.37 2284.96 1520.93 Q2283.15 1524.47 2283.15 1531.6 Q2283.15 1538.71 2284.96 1542.27 Q2286.79 1545.82 2290.4 1545.82 Q2294.03 1545.82 2295.84 1542.27 Q2297.67 1538.71 2297.67 1531.6 Q2297.67 1524.47 2295.84 1520.93 Q2294.03 1517.37 2290.4 1517.37 M2290.4 1513.66 Q2296.21 1513.66 2299.26 1518.27 Q2302.34 1522.85 2302.34 1531.6 Q2302.34 1540.33 2299.26 1544.94 Q2296.21 1549.52 2290.4 1549.52 Q2284.59 1549.52 2281.51 1544.94 Q2278.45 1540.33 2278.45 1531.6 Q2278.45 1522.85 2281.51 1518.27 Q2284.59 1513.66 2290.4 1513.66 Z\" fill=\"#000000\" fill-rule=\"evenodd\" fill-opacity=\"1\" /><path clip-path=\"url(#clip680)\" d=\"M2320.56 1517.37 Q2316.95 1517.37 2315.12 1520.93 Q2313.32 1524.47 2313.32 1531.6 Q2313.32 1538.71 2315.12 1542.27 Q2316.95 1545.82 2320.56 1545.82 Q2324.19 1545.82 2326 1542.27 Q2327.83 1538.71 2327.83 1531.6 Q2327.83 1524.47 2326 1520.93 Q2324.19 1517.37 2320.56 1517.37 M2320.56 1513.66 Q2326.37 1513.66 2329.43 1518.27 Q2332.5 1522.85 2332.5 1531.6 Q2332.5 1540.33 2329.43 1544.94 Q2326.37 1549.52 2320.56 1549.52 Q2314.75 1549.52 2311.67 1544.94 Q2308.62 1540.33 2308.62 1531.6 Q2308.62 1522.85 2311.67 1518.27 Q2314.75 1513.66 2320.56 1513.66 Z\" fill=\"#000000\" fill-rule=\"evenodd\" fill-opacity=\"1\" /><polyline clip-path=\"url(#clip682)\" style=\"stroke:#000000; stroke-linecap:butt; stroke-linejoin:round; stroke-width:2; stroke-opacity:0.1; fill:none\" points=\"\n",
       "  186.274,1446.85 2352.76,1446.85 \n",
       "  \"/>\n",
       "<polyline clip-path=\"url(#clip682)\" style=\"stroke:#000000; stroke-linecap:butt; stroke-linejoin:round; stroke-width:2; stroke-opacity:0.1; fill:none\" points=\"\n",
       "  186.274,1107.1 2352.76,1107.1 \n",
       "  \"/>\n",
       "<polyline clip-path=\"url(#clip682)\" style=\"stroke:#000000; stroke-linecap:butt; stroke-linejoin:round; stroke-width:2; stroke-opacity:0.1; fill:none\" points=\"\n",
       "  186.274,767.34 2352.76,767.34 \n",
       "  \"/>\n",
       "<polyline clip-path=\"url(#clip682)\" style=\"stroke:#000000; stroke-linecap:butt; stroke-linejoin:round; stroke-width:2; stroke-opacity:0.1; fill:none\" points=\"\n",
       "  186.274,427.584 2352.76,427.584 \n",
       "  \"/>\n",
       "<polyline clip-path=\"url(#clip682)\" style=\"stroke:#000000; stroke-linecap:butt; stroke-linejoin:round; stroke-width:2; stroke-opacity:0.1; fill:none\" points=\"\n",
       "  186.274,87.8278 2352.76,87.8278 \n",
       "  \"/>\n",
       "<polyline clip-path=\"url(#clip680)\" style=\"stroke:#000000; stroke-linecap:butt; stroke-linejoin:round; stroke-width:4; stroke-opacity:1; fill:none\" points=\"\n",
       "  186.274,1486.45 186.274,47.2441 \n",
       "  \"/>\n",
       "<polyline clip-path=\"url(#clip680)\" style=\"stroke:#000000; stroke-linecap:butt; stroke-linejoin:round; stroke-width:4; stroke-opacity:1; fill:none\" points=\"\n",
       "  186.274,1446.85 205.172,1446.85 \n",
       "  \"/>\n",
       "<polyline clip-path=\"url(#clip680)\" style=\"stroke:#000000; stroke-linecap:butt; stroke-linejoin:round; stroke-width:4; stroke-opacity:1; fill:none\" points=\"\n",
       "  186.274,1107.1 205.172,1107.1 \n",
       "  \"/>\n",
       "<polyline clip-path=\"url(#clip680)\" style=\"stroke:#000000; stroke-linecap:butt; stroke-linejoin:round; stroke-width:4; stroke-opacity:1; fill:none\" points=\"\n",
       "  186.274,767.34 205.172,767.34 \n",
       "  \"/>\n",
       "<polyline clip-path=\"url(#clip680)\" style=\"stroke:#000000; stroke-linecap:butt; stroke-linejoin:round; stroke-width:4; stroke-opacity:1; fill:none\" points=\"\n",
       "  186.274,427.584 205.172,427.584 \n",
       "  \"/>\n",
       "<polyline clip-path=\"url(#clip680)\" style=\"stroke:#000000; stroke-linecap:butt; stroke-linejoin:round; stroke-width:4; stroke-opacity:1; fill:none\" points=\"\n",
       "  186.274,87.8278 205.172,87.8278 \n",
       "  \"/>\n",
       "<path clip-path=\"url(#clip680)\" d=\"M62.9365 1432.65 Q59.3254 1432.65 57.4967 1436.22 Q55.6912 1439.76 55.6912 1446.89 Q55.6912 1453.99 57.4967 1457.56 Q59.3254 1461.1 62.9365 1461.1 Q66.5707 1461.1 68.3763 1457.56 Q70.205 1453.99 70.205 1446.89 Q70.205 1439.76 68.3763 1436.22 Q66.5707 1432.65 62.9365 1432.65 M62.9365 1428.95 Q68.7467 1428.95 71.8022 1433.55 Q74.8809 1438.14 74.8809 1446.89 Q74.8809 1455.61 71.8022 1460.22 Q68.7467 1464.8 62.9365 1464.8 Q57.1264 1464.8 54.0477 1460.22 Q50.9921 1455.61 50.9921 1446.89 Q50.9921 1438.14 54.0477 1433.55 Q57.1264 1428.95 62.9365 1428.95 Z\" fill=\"#000000\" fill-rule=\"evenodd\" fill-opacity=\"1\" /><path clip-path=\"url(#clip680)\" d=\"M83.0984 1458.25 L87.9827 1458.25 L87.9827 1464.13 L83.0984 1464.13 L83.0984 1458.25 Z\" fill=\"#000000\" fill-rule=\"evenodd\" fill-opacity=\"1\" /><path clip-path=\"url(#clip680)\" d=\"M108.168 1432.65 Q104.557 1432.65 102.728 1436.22 Q100.922 1439.76 100.922 1446.89 Q100.922 1453.99 102.728 1457.56 Q104.557 1461.1 108.168 1461.1 Q111.802 1461.1 113.608 1457.56 Q115.436 1453.99 115.436 1446.89 Q115.436 1439.76 113.608 1436.22 Q111.802 1432.65 108.168 1432.65 M108.168 1428.95 Q113.978 1428.95 117.033 1433.55 Q120.112 1438.14 120.112 1446.89 Q120.112 1455.61 117.033 1460.22 Q113.978 1464.8 108.168 1464.8 Q102.358 1464.8 99.2789 1460.22 Q96.2234 1455.61 96.2234 1446.89 Q96.2234 1438.14 99.2789 1433.55 Q102.358 1428.95 108.168 1428.95 Z\" fill=\"#000000\" fill-rule=\"evenodd\" fill-opacity=\"1\" /><path clip-path=\"url(#clip680)\" d=\"M138.33 1432.65 Q134.719 1432.65 132.89 1436.22 Q131.084 1439.76 131.084 1446.89 Q131.084 1453.99 132.89 1457.56 Q134.719 1461.1 138.33 1461.1 Q141.964 1461.1 143.769 1457.56 Q145.598 1453.99 145.598 1446.89 Q145.598 1439.76 143.769 1436.22 Q141.964 1432.65 138.33 1432.65 M138.33 1428.95 Q144.14 1428.95 147.195 1433.55 Q150.274 1438.14 150.274 1446.89 Q150.274 1455.61 147.195 1460.22 Q144.14 1464.8 138.33 1464.8 Q132.519 1464.8 129.441 1460.22 Q126.385 1455.61 126.385 1446.89 Q126.385 1438.14 129.441 1433.55 Q132.519 1428.95 138.33 1428.95 Z\" fill=\"#000000\" fill-rule=\"evenodd\" fill-opacity=\"1\" /><path clip-path=\"url(#clip680)\" d=\"M63.9319 1092.89 Q60.3208 1092.89 58.4921 1096.46 Q56.6865 1100 56.6865 1107.13 Q56.6865 1114.24 58.4921 1117.8 Q60.3208 1121.34 63.9319 1121.34 Q67.5661 1121.34 69.3717 1117.8 Q71.2004 1114.24 71.2004 1107.13 Q71.2004 1100 69.3717 1096.46 Q67.5661 1092.89 63.9319 1092.89 M63.9319 1089.19 Q69.742 1089.19 72.7976 1093.8 Q75.8763 1098.38 75.8763 1107.13 Q75.8763 1115.86 72.7976 1120.46 Q69.742 1125.05 63.9319 1125.05 Q58.1217 1125.05 55.043 1120.46 Q51.9875 1115.86 51.9875 1107.13 Q51.9875 1098.38 55.043 1093.8 Q58.1217 1089.19 63.9319 1089.19 Z\" fill=\"#000000\" fill-rule=\"evenodd\" fill-opacity=\"1\" /><path clip-path=\"url(#clip680)\" d=\"M84.0938 1118.5 L88.978 1118.5 L88.978 1124.38 L84.0938 1124.38 L84.0938 1118.5 Z\" fill=\"#000000\" fill-rule=\"evenodd\" fill-opacity=\"1\" /><path clip-path=\"url(#clip680)\" d=\"M103.191 1120.44 L119.51 1120.44 L119.51 1124.38 L97.566 1124.38 L97.566 1120.44 Q100.228 1117.69 104.811 1113.06 Q109.418 1108.4 110.598 1107.06 Q112.844 1104.54 113.723 1102.8 Q114.626 1101.04 114.626 1099.35 Q114.626 1096.6 112.682 1094.86 Q110.76 1093.13 107.658 1093.13 Q105.459 1093.13 103.006 1093.89 Q100.575 1094.65 97.7974 1096.2 L97.7974 1091.48 Q100.621 1090.35 103.075 1089.77 Q105.529 1089.19 107.566 1089.19 Q112.936 1089.19 116.131 1091.88 Q119.325 1094.56 119.325 1099.05 Q119.325 1101.18 118.515 1103.1 Q117.728 1105 115.621 1107.59 Q115.043 1108.26 111.941 1111.48 Q108.839 1114.68 103.191 1120.44 Z\" fill=\"#000000\" fill-rule=\"evenodd\" fill-opacity=\"1\" /><path clip-path=\"url(#clip680)\" d=\"M129.371 1089.82 L147.728 1089.82 L147.728 1093.75 L133.654 1093.75 L133.654 1102.22 Q134.672 1101.88 135.691 1101.71 Q136.709 1101.53 137.728 1101.53 Q143.515 1101.53 146.894 1104.7 Q150.274 1107.87 150.274 1113.29 Q150.274 1118.87 146.802 1121.97 Q143.33 1125.05 137.01 1125.05 Q134.834 1125.05 132.566 1124.68 Q130.32 1124.31 127.913 1123.57 L127.913 1118.87 Q129.996 1120 132.219 1120.56 Q134.441 1121.11 136.918 1121.11 Q140.922 1121.11 143.26 1119.01 Q145.598 1116.9 145.598 1113.29 Q145.598 1109.68 143.26 1107.57 Q140.922 1105.46 136.918 1105.46 Q135.043 1105.46 133.168 1105.88 Q131.316 1106.3 129.371 1107.18 L129.371 1089.82 Z\" fill=\"#000000\" fill-rule=\"evenodd\" fill-opacity=\"1\" /><path clip-path=\"url(#clip680)\" d=\"M62.9365 753.139 Q59.3254 753.139 57.4967 756.703 Q55.6912 760.245 55.6912 767.375 Q55.6912 774.481 57.4967 778.046 Q59.3254 781.588 62.9365 781.588 Q66.5707 781.588 68.3763 778.046 Q70.205 774.481 70.205 767.375 Q70.205 760.245 68.3763 756.703 Q66.5707 753.139 62.9365 753.139 M62.9365 749.435 Q68.7467 749.435 71.8022 754.041 Q74.8809 758.625 74.8809 767.375 Q74.8809 776.101 71.8022 780.708 Q68.7467 785.291 62.9365 785.291 Q57.1264 785.291 54.0477 780.708 Q50.9921 776.101 50.9921 767.375 Q50.9921 758.625 54.0477 754.041 Q57.1264 749.435 62.9365 749.435 Z\" fill=\"#000000\" fill-rule=\"evenodd\" fill-opacity=\"1\" /><path clip-path=\"url(#clip680)\" d=\"M83.0984 778.74 L87.9827 778.74 L87.9827 784.62 L83.0984 784.62 L83.0984 778.74 Z\" fill=\"#000000\" fill-rule=\"evenodd\" fill-opacity=\"1\" /><path clip-path=\"url(#clip680)\" d=\"M98.2141 750.06 L116.57 750.06 L116.57 753.995 L102.496 753.995 L102.496 762.467 Q103.515 762.12 104.534 761.958 Q105.552 761.773 106.571 761.773 Q112.358 761.773 115.737 764.944 Q119.117 768.115 119.117 773.532 Q119.117 779.111 115.645 782.213 Q112.172 785.291 105.853 785.291 Q103.677 785.291 101.409 784.921 Q99.1632 784.55 96.7558 783.81 L96.7558 779.111 Q98.8391 780.245 101.061 780.801 Q103.284 781.356 105.76 781.356 Q109.765 781.356 112.103 779.25 Q114.441 777.143 114.441 773.532 Q114.441 769.921 112.103 767.814 Q109.765 765.708 105.76 765.708 Q103.885 765.708 102.01 766.125 Q100.159 766.541 98.2141 767.421 L98.2141 750.06 Z\" fill=\"#000000\" fill-rule=\"evenodd\" fill-opacity=\"1\" /><path clip-path=\"url(#clip680)\" d=\"M138.33 753.139 Q134.719 753.139 132.89 756.703 Q131.084 760.245 131.084 767.375 Q131.084 774.481 132.89 778.046 Q134.719 781.588 138.33 781.588 Q141.964 781.588 143.769 778.046 Q145.598 774.481 145.598 767.375 Q145.598 760.245 143.769 756.703 Q141.964 753.139 138.33 753.139 M138.33 749.435 Q144.14 749.435 147.195 754.041 Q150.274 758.625 150.274 767.375 Q150.274 776.101 147.195 780.708 Q144.14 785.291 138.33 785.291 Q132.519 785.291 129.441 780.708 Q126.385 776.101 126.385 767.375 Q126.385 758.625 129.441 754.041 Q132.519 749.435 138.33 749.435 Z\" fill=\"#000000\" fill-rule=\"evenodd\" fill-opacity=\"1\" /><path clip-path=\"url(#clip680)\" d=\"M63.9319 413.383 Q60.3208 413.383 58.4921 416.947 Q56.6865 420.489 56.6865 427.619 Q56.6865 434.725 58.4921 438.29 Q60.3208 441.831 63.9319 441.831 Q67.5661 441.831 69.3717 438.29 Q71.2004 434.725 71.2004 427.619 Q71.2004 420.489 69.3717 416.947 Q67.5661 413.383 63.9319 413.383 M63.9319 409.679 Q69.742 409.679 72.7976 414.285 Q75.8763 418.869 75.8763 427.619 Q75.8763 436.345 72.7976 440.952 Q69.742 445.535 63.9319 445.535 Q58.1217 445.535 55.043 440.952 Q51.9875 436.345 51.9875 427.619 Q51.9875 418.869 55.043 414.285 Q58.1217 409.679 63.9319 409.679 Z\" fill=\"#000000\" fill-rule=\"evenodd\" fill-opacity=\"1\" /><path clip-path=\"url(#clip680)\" d=\"M84.0938 438.984 L88.978 438.984 L88.978 444.864 L84.0938 444.864 L84.0938 438.984 Z\" fill=\"#000000\" fill-rule=\"evenodd\" fill-opacity=\"1\" /><path clip-path=\"url(#clip680)\" d=\"M97.9826 410.304 L120.205 410.304 L120.205 412.295 L107.658 444.864 L102.774 444.864 L114.58 414.239 L97.9826 414.239 L97.9826 410.304 Z\" fill=\"#000000\" fill-rule=\"evenodd\" fill-opacity=\"1\" /><path clip-path=\"url(#clip680)\" d=\"M129.371 410.304 L147.728 410.304 L147.728 414.239 L133.654 414.239 L133.654 422.711 Q134.672 422.364 135.691 422.202 Q136.709 422.017 137.728 422.017 Q143.515 422.017 146.894 425.188 Q150.274 428.359 150.274 433.776 Q150.274 439.355 146.802 442.456 Q143.33 445.535 137.01 445.535 Q134.834 445.535 132.566 445.165 Q130.32 444.794 127.913 444.054 L127.913 439.355 Q129.996 440.489 132.219 441.044 Q134.441 441.6 136.918 441.6 Q140.922 441.6 143.26 439.494 Q145.598 437.387 145.598 433.776 Q145.598 430.165 143.26 428.058 Q140.922 425.952 136.918 425.952 Q135.043 425.952 133.168 426.369 Q131.316 426.785 129.371 427.665 L129.371 410.304 Z\" fill=\"#000000\" fill-rule=\"evenodd\" fill-opacity=\"1\" /><path clip-path=\"url(#clip680)\" d=\"M53.7467 101.173 L61.3856 101.173 L61.3856 74.807 L53.0754 76.4737 L53.0754 72.2145 L61.3393 70.5478 L66.0152 70.5478 L66.0152 101.173 L73.654 101.173 L73.654 105.108 L53.7467 105.108 L53.7467 101.173 Z\" fill=\"#000000\" fill-rule=\"evenodd\" fill-opacity=\"1\" /><path clip-path=\"url(#clip680)\" d=\"M83.0984 99.2282 L87.9827 99.2282 L87.9827 105.108 L83.0984 105.108 L83.0984 99.2282 Z\" fill=\"#000000\" fill-rule=\"evenodd\" fill-opacity=\"1\" /><path clip-path=\"url(#clip680)\" d=\"M108.168 73.6265 Q104.557 73.6265 102.728 77.1913 Q100.922 80.7329 100.922 87.8625 Q100.922 94.969 102.728 98.5338 Q104.557 102.075 108.168 102.075 Q111.802 102.075 113.608 98.5338 Q115.436 94.969 115.436 87.8625 Q115.436 80.7329 113.608 77.1913 Q111.802 73.6265 108.168 73.6265 M108.168 69.9228 Q113.978 69.9228 117.033 74.5293 Q120.112 79.1126 120.112 87.8625 Q120.112 96.5893 117.033 101.196 Q113.978 105.779 108.168 105.779 Q102.358 105.779 99.2789 101.196 Q96.2234 96.5893 96.2234 87.8625 Q96.2234 79.1126 99.2789 74.5293 Q102.358 69.9228 108.168 69.9228 Z\" fill=\"#000000\" fill-rule=\"evenodd\" fill-opacity=\"1\" /><path clip-path=\"url(#clip680)\" d=\"M138.33 73.6265 Q134.719 73.6265 132.89 77.1913 Q131.084 80.7329 131.084 87.8625 Q131.084 94.969 132.89 98.5338 Q134.719 102.075 138.33 102.075 Q141.964 102.075 143.769 98.5338 Q145.598 94.969 145.598 87.8625 Q145.598 80.7329 143.769 77.1913 Q141.964 73.6265 138.33 73.6265 M138.33 69.9228 Q144.14 69.9228 147.195 74.5293 Q150.274 79.1126 150.274 87.8625 Q150.274 96.5893 147.195 101.196 Q144.14 105.779 138.33 105.779 Q132.519 105.779 129.441 101.196 Q126.385 96.5893 126.385 87.8625 Q126.385 79.1126 129.441 74.5293 Q132.519 69.9228 138.33 69.9228 Z\" fill=\"#000000\" fill-rule=\"evenodd\" fill-opacity=\"1\" /><circle clip-path=\"url(#clip682)\" cx=\"247.59\" cy=\"597.752\" r=\"14\" fill=\"#009af9\" fill-rule=\"evenodd\" fill-opacity=\"1\" stroke=\"#000000\" stroke-opacity=\"1\" stroke-width=\"3.2\"/>\n",
       "<circle clip-path=\"url(#clip682)\" cx=\"268.234\" cy=\"394.322\" r=\"14\" fill=\"#009af9\" fill-rule=\"evenodd\" fill-opacity=\"1\" stroke=\"#000000\" stroke-opacity=\"1\" stroke-width=\"3.2\"/>\n",
       "<circle clip-path=\"url(#clip682)\" cx=\"288.879\" cy=\"262.553\" r=\"14\" fill=\"#009af9\" fill-rule=\"evenodd\" fill-opacity=\"1\" stroke=\"#000000\" stroke-opacity=\"1\" stroke-width=\"3.2\"/>\n",
       "<circle clip-path=\"url(#clip682)\" cx=\"309.524\" cy=\"103.336\" r=\"14\" fill=\"#009af9\" fill-rule=\"evenodd\" fill-opacity=\"1\" stroke=\"#000000\" stroke-opacity=\"1\" stroke-width=\"3.2\"/>\n",
       "<circle clip-path=\"url(#clip682)\" cx=\"330.169\" cy=\"1311.93\" r=\"14\" fill=\"#009af9\" fill-rule=\"evenodd\" fill-opacity=\"1\" stroke=\"#000000\" stroke-opacity=\"1\" stroke-width=\"3.2\"/>\n",
       "<circle clip-path=\"url(#clip682)\" cx=\"350.814\" cy=\"501.376\" r=\"14\" fill=\"#009af9\" fill-rule=\"evenodd\" fill-opacity=\"1\" stroke=\"#000000\" stroke-opacity=\"1\" stroke-width=\"3.2\"/>\n",
       "<circle clip-path=\"url(#clip682)\" cx=\"371.459\" cy=\"1126.42\" r=\"14\" fill=\"#009af9\" fill-rule=\"evenodd\" fill-opacity=\"1\" stroke=\"#000000\" stroke-opacity=\"1\" stroke-width=\"3.2\"/>\n",
       "<circle clip-path=\"url(#clip682)\" cx=\"392.104\" cy=\"1308.74\" r=\"14\" fill=\"#009af9\" fill-rule=\"evenodd\" fill-opacity=\"1\" stroke=\"#000000\" stroke-opacity=\"1\" stroke-width=\"3.2\"/>\n",
       "<circle clip-path=\"url(#clip682)\" cx=\"412.749\" cy=\"423.833\" r=\"14\" fill=\"#009af9\" fill-rule=\"evenodd\" fill-opacity=\"1\" stroke=\"#000000\" stroke-opacity=\"1\" stroke-width=\"3.2\"/>\n",
       "<circle clip-path=\"url(#clip682)\" cx=\"433.394\" cy=\"1319.89\" r=\"14\" fill=\"#009af9\" fill-rule=\"evenodd\" fill-opacity=\"1\" stroke=\"#000000\" stroke-opacity=\"1\" stroke-width=\"3.2\"/>\n",
       "<circle clip-path=\"url(#clip682)\" cx=\"454.039\" cy=\"303.087\" r=\"14\" fill=\"#009af9\" fill-rule=\"evenodd\" fill-opacity=\"1\" stroke=\"#000000\" stroke-opacity=\"1\" stroke-width=\"3.2\"/>\n",
       "<circle clip-path=\"url(#clip682)\" cx=\"474.684\" cy=\"98.5927\" r=\"14\" fill=\"#009af9\" fill-rule=\"evenodd\" fill-opacity=\"1\" stroke=\"#000000\" stroke-opacity=\"1\" stroke-width=\"3.2\"/>\n",
       "<circle clip-path=\"url(#clip682)\" cx=\"495.329\" cy=\"617.876\" r=\"14\" fill=\"#009af9\" fill-rule=\"evenodd\" fill-opacity=\"1\" stroke=\"#000000\" stroke-opacity=\"1\" stroke-width=\"3.2\"/>\n",
       "<circle clip-path=\"url(#clip682)\" cx=\"515.974\" cy=\"653.788\" r=\"14\" fill=\"#009af9\" fill-rule=\"evenodd\" fill-opacity=\"1\" stroke=\"#000000\" stroke-opacity=\"1\" stroke-width=\"3.2\"/>\n",
       "<circle clip-path=\"url(#clip682)\" cx=\"536.619\" cy=\"959.874\" r=\"14\" fill=\"#009af9\" fill-rule=\"evenodd\" fill-opacity=\"1\" stroke=\"#000000\" stroke-opacity=\"1\" stroke-width=\"3.2\"/>\n",
       "<circle clip-path=\"url(#clip682)\" cx=\"557.264\" cy=\"1213.05\" r=\"14\" fill=\"#009af9\" fill-rule=\"evenodd\" fill-opacity=\"1\" stroke=\"#000000\" stroke-opacity=\"1\" stroke-width=\"3.2\"/>\n",
       "<circle clip-path=\"url(#clip682)\" cx=\"577.909\" cy=\"1356.31\" r=\"14\" fill=\"#009af9\" fill-rule=\"evenodd\" fill-opacity=\"1\" stroke=\"#000000\" stroke-opacity=\"1\" stroke-width=\"3.2\"/>\n",
       "<circle clip-path=\"url(#clip682)\" cx=\"598.554\" cy=\"1027.86\" r=\"14\" fill=\"#009af9\" fill-rule=\"evenodd\" fill-opacity=\"1\" stroke=\"#000000\" stroke-opacity=\"1\" stroke-width=\"3.2\"/>\n",
       "<circle clip-path=\"url(#clip682)\" cx=\"619.199\" cy=\"374.655\" r=\"14\" fill=\"#009af9\" fill-rule=\"evenodd\" fill-opacity=\"1\" stroke=\"#000000\" stroke-opacity=\"1\" stroke-width=\"3.2\"/>\n",
       "<circle clip-path=\"url(#clip682)\" cx=\"639.844\" cy=\"151.54\" r=\"14\" fill=\"#009af9\" fill-rule=\"evenodd\" fill-opacity=\"1\" stroke=\"#000000\" stroke-opacity=\"1\" stroke-width=\"3.2\"/>\n",
       "<circle clip-path=\"url(#clip682)\" cx=\"660.489\" cy=\"1146.08\" r=\"14\" fill=\"#009af9\" fill-rule=\"evenodd\" fill-opacity=\"1\" stroke=\"#000000\" stroke-opacity=\"1\" stroke-width=\"3.2\"/>\n",
       "<circle clip-path=\"url(#clip682)\" cx=\"681.134\" cy=\"1182.32\" r=\"14\" fill=\"#009af9\" fill-rule=\"evenodd\" fill-opacity=\"1\" stroke=\"#000000\" stroke-opacity=\"1\" stroke-width=\"3.2\"/>\n",
       "<circle clip-path=\"url(#clip682)\" cx=\"701.779\" cy=\"346.816\" r=\"14\" fill=\"#009af9\" fill-rule=\"evenodd\" fill-opacity=\"1\" stroke=\"#000000\" stroke-opacity=\"1\" stroke-width=\"3.2\"/>\n",
       "<circle clip-path=\"url(#clip682)\" cx=\"722.424\" cy=\"865.167\" r=\"14\" fill=\"#009af9\" fill-rule=\"evenodd\" fill-opacity=\"1\" stroke=\"#000000\" stroke-opacity=\"1\" stroke-width=\"3.2\"/>\n",
       "<circle clip-path=\"url(#clip682)\" cx=\"743.069\" cy=\"765.436\" r=\"14\" fill=\"#009af9\" fill-rule=\"evenodd\" fill-opacity=\"1\" stroke=\"#000000\" stroke-opacity=\"1\" stroke-width=\"3.2\"/>\n",
       "<circle clip-path=\"url(#clip682)\" cx=\"763.713\" cy=\"352.228\" r=\"14\" fill=\"#009af9\" fill-rule=\"evenodd\" fill-opacity=\"1\" stroke=\"#000000\" stroke-opacity=\"1\" stroke-width=\"3.2\"/>\n",
       "<circle clip-path=\"url(#clip682)\" cx=\"784.358\" cy=\"662.532\" r=\"14\" fill=\"#009af9\" fill-rule=\"evenodd\" fill-opacity=\"1\" stroke=\"#000000\" stroke-opacity=\"1\" stroke-width=\"3.2\"/>\n",
       "<circle clip-path=\"url(#clip682)\" cx=\"805.003\" cy=\"378.88\" r=\"14\" fill=\"#009af9\" fill-rule=\"evenodd\" fill-opacity=\"1\" stroke=\"#000000\" stroke-opacity=\"1\" stroke-width=\"3.2\"/>\n",
       "<circle clip-path=\"url(#clip682)\" cx=\"825.648\" cy=\"870.613\" r=\"14\" fill=\"#009af9\" fill-rule=\"evenodd\" fill-opacity=\"1\" stroke=\"#000000\" stroke-opacity=\"1\" stroke-width=\"3.2\"/>\n",
       "<circle clip-path=\"url(#clip682)\" cx=\"846.293\" cy=\"471.591\" r=\"14\" fill=\"#009af9\" fill-rule=\"evenodd\" fill-opacity=\"1\" stroke=\"#000000\" stroke-opacity=\"1\" stroke-width=\"3.2\"/>\n",
       "<circle clip-path=\"url(#clip682)\" cx=\"866.938\" cy=\"1353.4\" r=\"14\" fill=\"#009af9\" fill-rule=\"evenodd\" fill-opacity=\"1\" stroke=\"#000000\" stroke-opacity=\"1\" stroke-width=\"3.2\"/>\n",
       "<circle clip-path=\"url(#clip682)\" cx=\"887.583\" cy=\"523.151\" r=\"14\" fill=\"#009af9\" fill-rule=\"evenodd\" fill-opacity=\"1\" stroke=\"#000000\" stroke-opacity=\"1\" stroke-width=\"3.2\"/>\n",
       "<circle clip-path=\"url(#clip682)\" cx=\"908.228\" cy=\"1344.14\" r=\"14\" fill=\"#009af9\" fill-rule=\"evenodd\" fill-opacity=\"1\" stroke=\"#000000\" stroke-opacity=\"1\" stroke-width=\"3.2\"/>\n",
       "<circle clip-path=\"url(#clip682)\" cx=\"928.873\" cy=\"141.007\" r=\"14\" fill=\"#009af9\" fill-rule=\"evenodd\" fill-opacity=\"1\" stroke=\"#000000\" stroke-opacity=\"1\" stroke-width=\"3.2\"/>\n",
       "<circle clip-path=\"url(#clip682)\" cx=\"949.518\" cy=\"860.252\" r=\"14\" fill=\"#009af9\" fill-rule=\"evenodd\" fill-opacity=\"1\" stroke=\"#000000\" stroke-opacity=\"1\" stroke-width=\"3.2\"/>\n",
       "<circle clip-path=\"url(#clip682)\" cx=\"970.163\" cy=\"137.529\" r=\"14\" fill=\"#009af9\" fill-rule=\"evenodd\" fill-opacity=\"1\" stroke=\"#000000\" stroke-opacity=\"1\" stroke-width=\"3.2\"/>\n",
       "<circle clip-path=\"url(#clip682)\" cx=\"990.808\" cy=\"1308.44\" r=\"14\" fill=\"#009af9\" fill-rule=\"evenodd\" fill-opacity=\"1\" stroke=\"#000000\" stroke-opacity=\"1\" stroke-width=\"3.2\"/>\n",
       "<circle clip-path=\"url(#clip682)\" cx=\"1011.45\" cy=\"273.271\" r=\"14\" fill=\"#009af9\" fill-rule=\"evenodd\" fill-opacity=\"1\" stroke=\"#000000\" stroke-opacity=\"1\" stroke-width=\"3.2\"/>\n",
       "<circle clip-path=\"url(#clip682)\" cx=\"1032.1\" cy=\"718.679\" r=\"14\" fill=\"#009af9\" fill-rule=\"evenodd\" fill-opacity=\"1\" stroke=\"#000000\" stroke-opacity=\"1\" stroke-width=\"3.2\"/>\n",
       "<circle clip-path=\"url(#clip682)\" cx=\"1052.74\" cy=\"728.431\" r=\"14\" fill=\"#009af9\" fill-rule=\"evenodd\" fill-opacity=\"1\" stroke=\"#000000\" stroke-opacity=\"1\" stroke-width=\"3.2\"/>\n",
       "<circle clip-path=\"url(#clip682)\" cx=\"1073.39\" cy=\"1120.35\" r=\"14\" fill=\"#009af9\" fill-rule=\"evenodd\" fill-opacity=\"1\" stroke=\"#000000\" stroke-opacity=\"1\" stroke-width=\"3.2\"/>\n",
       "<circle clip-path=\"url(#clip682)\" cx=\"1094.03\" cy=\"318.185\" r=\"14\" fill=\"#009af9\" fill-rule=\"evenodd\" fill-opacity=\"1\" stroke=\"#000000\" stroke-opacity=\"1\" stroke-width=\"3.2\"/>\n",
       "<circle clip-path=\"url(#clip682)\" cx=\"1114.68\" cy=\"1126.63\" r=\"14\" fill=\"#009af9\" fill-rule=\"evenodd\" fill-opacity=\"1\" stroke=\"#000000\" stroke-opacity=\"1\" stroke-width=\"3.2\"/>\n",
       "<circle clip-path=\"url(#clip682)\" cx=\"1135.32\" cy=\"1110.35\" r=\"14\" fill=\"#009af9\" fill-rule=\"evenodd\" fill-opacity=\"1\" stroke=\"#000000\" stroke-opacity=\"1\" stroke-width=\"3.2\"/>\n",
       "<circle clip-path=\"url(#clip682)\" cx=\"1155.97\" cy=\"1189.64\" r=\"14\" fill=\"#009af9\" fill-rule=\"evenodd\" fill-opacity=\"1\" stroke=\"#000000\" stroke-opacity=\"1\" stroke-width=\"3.2\"/>\n",
       "<circle clip-path=\"url(#clip682)\" cx=\"1176.61\" cy=\"999.877\" r=\"14\" fill=\"#009af9\" fill-rule=\"evenodd\" fill-opacity=\"1\" stroke=\"#000000\" stroke-opacity=\"1\" stroke-width=\"3.2\"/>\n",
       "<circle clip-path=\"url(#clip682)\" cx=\"1197.26\" cy=\"1019.55\" r=\"14\" fill=\"#009af9\" fill-rule=\"evenodd\" fill-opacity=\"1\" stroke=\"#000000\" stroke-opacity=\"1\" stroke-width=\"3.2\"/>\n",
       "<circle clip-path=\"url(#clip682)\" cx=\"1217.9\" cy=\"904.201\" r=\"14\" fill=\"#009af9\" fill-rule=\"evenodd\" fill-opacity=\"1\" stroke=\"#000000\" stroke-opacity=\"1\" stroke-width=\"3.2\"/>\n",
       "<circle clip-path=\"url(#clip682)\" cx=\"1238.55\" cy=\"937.866\" r=\"14\" fill=\"#009af9\" fill-rule=\"evenodd\" fill-opacity=\"1\" stroke=\"#000000\" stroke-opacity=\"1\" stroke-width=\"3.2\"/>\n",
       "<circle clip-path=\"url(#clip682)\" cx=\"1259.19\" cy=\"1247.43\" r=\"14\" fill=\"#009af9\" fill-rule=\"evenodd\" fill-opacity=\"1\" stroke=\"#000000\" stroke-opacity=\"1\" stroke-width=\"3.2\"/>\n",
       "<circle clip-path=\"url(#clip682)\" cx=\"1279.84\" cy=\"211.962\" r=\"14\" fill=\"#009af9\" fill-rule=\"evenodd\" fill-opacity=\"1\" stroke=\"#000000\" stroke-opacity=\"1\" stroke-width=\"3.2\"/>\n",
       "<circle clip-path=\"url(#clip682)\" cx=\"1300.48\" cy=\"123.616\" r=\"14\" fill=\"#009af9\" fill-rule=\"evenodd\" fill-opacity=\"1\" stroke=\"#000000\" stroke-opacity=\"1\" stroke-width=\"3.2\"/>\n",
       "<circle clip-path=\"url(#clip682)\" cx=\"1321.13\" cy=\"123.96\" r=\"14\" fill=\"#009af9\" fill-rule=\"evenodd\" fill-opacity=\"1\" stroke=\"#000000\" stroke-opacity=\"1\" stroke-width=\"3.2\"/>\n",
       "<circle clip-path=\"url(#clip682)\" cx=\"1341.77\" cy=\"1179.57\" r=\"14\" fill=\"#009af9\" fill-rule=\"evenodd\" fill-opacity=\"1\" stroke=\"#000000\" stroke-opacity=\"1\" stroke-width=\"3.2\"/>\n",
       "<circle clip-path=\"url(#clip682)\" cx=\"1362.42\" cy=\"542.115\" r=\"14\" fill=\"#009af9\" fill-rule=\"evenodd\" fill-opacity=\"1\" stroke=\"#000000\" stroke-opacity=\"1\" stroke-width=\"3.2\"/>\n",
       "<circle clip-path=\"url(#clip682)\" cx=\"1383.06\" cy=\"1117.6\" r=\"14\" fill=\"#009af9\" fill-rule=\"evenodd\" fill-opacity=\"1\" stroke=\"#000000\" stroke-opacity=\"1\" stroke-width=\"3.2\"/>\n",
       "<circle clip-path=\"url(#clip682)\" cx=\"1403.71\" cy=\"930.236\" r=\"14\" fill=\"#009af9\" fill-rule=\"evenodd\" fill-opacity=\"1\" stroke=\"#000000\" stroke-opacity=\"1\" stroke-width=\"3.2\"/>\n",
       "<circle clip-path=\"url(#clip682)\" cx=\"1424.35\" cy=\"707.487\" r=\"14\" fill=\"#009af9\" fill-rule=\"evenodd\" fill-opacity=\"1\" stroke=\"#000000\" stroke-opacity=\"1\" stroke-width=\"3.2\"/>\n",
       "<circle clip-path=\"url(#clip682)\" cx=\"1445\" cy=\"987.675\" r=\"14\" fill=\"#009af9\" fill-rule=\"evenodd\" fill-opacity=\"1\" stroke=\"#000000\" stroke-opacity=\"1\" stroke-width=\"3.2\"/>\n",
       "<circle clip-path=\"url(#clip682)\" cx=\"1465.64\" cy=\"393.08\" r=\"14\" fill=\"#009af9\" fill-rule=\"evenodd\" fill-opacity=\"1\" stroke=\"#000000\" stroke-opacity=\"1\" stroke-width=\"3.2\"/>\n",
       "<circle clip-path=\"url(#clip682)\" cx=\"1486.29\" cy=\"971.147\" r=\"14\" fill=\"#009af9\" fill-rule=\"evenodd\" fill-opacity=\"1\" stroke=\"#000000\" stroke-opacity=\"1\" stroke-width=\"3.2\"/>\n",
       "<circle clip-path=\"url(#clip682)\" cx=\"1506.93\" cy=\"723.265\" r=\"14\" fill=\"#009af9\" fill-rule=\"evenodd\" fill-opacity=\"1\" stroke=\"#000000\" stroke-opacity=\"1\" stroke-width=\"3.2\"/>\n",
       "<circle clip-path=\"url(#clip682)\" cx=\"1527.58\" cy=\"216.876\" r=\"14\" fill=\"#009af9\" fill-rule=\"evenodd\" fill-opacity=\"1\" stroke=\"#000000\" stroke-opacity=\"1\" stroke-width=\"3.2\"/>\n",
       "<circle clip-path=\"url(#clip682)\" cx=\"1548.22\" cy=\"999.167\" r=\"14\" fill=\"#009af9\" fill-rule=\"evenodd\" fill-opacity=\"1\" stroke=\"#000000\" stroke-opacity=\"1\" stroke-width=\"3.2\"/>\n",
       "<circle clip-path=\"url(#clip682)\" cx=\"1568.87\" cy=\"1125.76\" r=\"14\" fill=\"#009af9\" fill-rule=\"evenodd\" fill-opacity=\"1\" stroke=\"#000000\" stroke-opacity=\"1\" stroke-width=\"3.2\"/>\n",
       "<circle clip-path=\"url(#clip682)\" cx=\"1589.51\" cy=\"776.465\" r=\"14\" fill=\"#009af9\" fill-rule=\"evenodd\" fill-opacity=\"1\" stroke=\"#000000\" stroke-opacity=\"1\" stroke-width=\"3.2\"/>\n",
       "<circle clip-path=\"url(#clip682)\" cx=\"1610.16\" cy=\"766.422\" r=\"14\" fill=\"#009af9\" fill-rule=\"evenodd\" fill-opacity=\"1\" stroke=\"#000000\" stroke-opacity=\"1\" stroke-width=\"3.2\"/>\n",
       "<circle clip-path=\"url(#clip682)\" cx=\"1630.8\" cy=\"698.129\" r=\"14\" fill=\"#009af9\" fill-rule=\"evenodd\" fill-opacity=\"1\" stroke=\"#000000\" stroke-opacity=\"1\" stroke-width=\"3.2\"/>\n",
       "<circle clip-path=\"url(#clip682)\" cx=\"1651.45\" cy=\"1221.15\" r=\"14\" fill=\"#009af9\" fill-rule=\"evenodd\" fill-opacity=\"1\" stroke=\"#000000\" stroke-opacity=\"1\" stroke-width=\"3.2\"/>\n",
       "<circle clip-path=\"url(#clip682)\" cx=\"1672.09\" cy=\"486.091\" r=\"14\" fill=\"#009af9\" fill-rule=\"evenodd\" fill-opacity=\"1\" stroke=\"#000000\" stroke-opacity=\"1\" stroke-width=\"3.2\"/>\n",
       "<circle clip-path=\"url(#clip682)\" cx=\"1692.74\" cy=\"827.864\" r=\"14\" fill=\"#009af9\" fill-rule=\"evenodd\" fill-opacity=\"1\" stroke=\"#000000\" stroke-opacity=\"1\" stroke-width=\"3.2\"/>\n",
       "<circle clip-path=\"url(#clip682)\" cx=\"1713.38\" cy=\"645.401\" r=\"14\" fill=\"#009af9\" fill-rule=\"evenodd\" fill-opacity=\"1\" stroke=\"#000000\" stroke-opacity=\"1\" stroke-width=\"3.2\"/>\n",
       "<circle clip-path=\"url(#clip682)\" cx=\"1734.03\" cy=\"929.663\" r=\"14\" fill=\"#009af9\" fill-rule=\"evenodd\" fill-opacity=\"1\" stroke=\"#000000\" stroke-opacity=\"1\" stroke-width=\"3.2\"/>\n",
       "<circle clip-path=\"url(#clip682)\" cx=\"1754.67\" cy=\"246.518\" r=\"14\" fill=\"#009af9\" fill-rule=\"evenodd\" fill-opacity=\"1\" stroke=\"#000000\" stroke-opacity=\"1\" stroke-width=\"3.2\"/>\n",
       "<circle clip-path=\"url(#clip682)\" cx=\"1775.32\" cy=\"963.856\" r=\"14\" fill=\"#009af9\" fill-rule=\"evenodd\" fill-opacity=\"1\" stroke=\"#000000\" stroke-opacity=\"1\" stroke-width=\"3.2\"/>\n",
       "<circle clip-path=\"url(#clip682)\" cx=\"1795.96\" cy=\"646.627\" r=\"14\" fill=\"#009af9\" fill-rule=\"evenodd\" fill-opacity=\"1\" stroke=\"#000000\" stroke-opacity=\"1\" stroke-width=\"3.2\"/>\n",
       "<circle clip-path=\"url(#clip682)\" cx=\"1816.61\" cy=\"595.905\" r=\"14\" fill=\"#009af9\" fill-rule=\"evenodd\" fill-opacity=\"1\" stroke=\"#000000\" stroke-opacity=\"1\" stroke-width=\"3.2\"/>\n",
       "<circle clip-path=\"url(#clip682)\" cx=\"1837.25\" cy=\"1110.77\" r=\"14\" fill=\"#009af9\" fill-rule=\"evenodd\" fill-opacity=\"1\" stroke=\"#000000\" stroke-opacity=\"1\" stroke-width=\"3.2\"/>\n",
       "<circle clip-path=\"url(#clip682)\" cx=\"1857.9\" cy=\"810.107\" r=\"14\" fill=\"#009af9\" fill-rule=\"evenodd\" fill-opacity=\"1\" stroke=\"#000000\" stroke-opacity=\"1\" stroke-width=\"3.2\"/>\n",
       "<circle clip-path=\"url(#clip682)\" cx=\"1878.54\" cy=\"120.8\" r=\"14\" fill=\"#009af9\" fill-rule=\"evenodd\" fill-opacity=\"1\" stroke=\"#000000\" stroke-opacity=\"1\" stroke-width=\"3.2\"/>\n",
       "<circle clip-path=\"url(#clip682)\" cx=\"1899.19\" cy=\"194.826\" r=\"14\" fill=\"#009af9\" fill-rule=\"evenodd\" fill-opacity=\"1\" stroke=\"#000000\" stroke-opacity=\"1\" stroke-width=\"3.2\"/>\n",
       "<circle clip-path=\"url(#clip682)\" cx=\"1919.83\" cy=\"580.979\" r=\"14\" fill=\"#009af9\" fill-rule=\"evenodd\" fill-opacity=\"1\" stroke=\"#000000\" stroke-opacity=\"1\" stroke-width=\"3.2\"/>\n",
       "<circle clip-path=\"url(#clip682)\" cx=\"1940.48\" cy=\"493.152\" r=\"14\" fill=\"#009af9\" fill-rule=\"evenodd\" fill-opacity=\"1\" stroke=\"#000000\" stroke-opacity=\"1\" stroke-width=\"3.2\"/>\n",
       "<circle clip-path=\"url(#clip682)\" cx=\"1961.12\" cy=\"87.9763\" r=\"14\" fill=\"#009af9\" fill-rule=\"evenodd\" fill-opacity=\"1\" stroke=\"#000000\" stroke-opacity=\"1\" stroke-width=\"3.2\"/>\n",
       "<circle clip-path=\"url(#clip682)\" cx=\"1981.77\" cy=\"1051.43\" r=\"14\" fill=\"#009af9\" fill-rule=\"evenodd\" fill-opacity=\"1\" stroke=\"#000000\" stroke-opacity=\"1\" stroke-width=\"3.2\"/>\n",
       "<circle clip-path=\"url(#clip682)\" cx=\"2002.41\" cy=\"1001.65\" r=\"14\" fill=\"#009af9\" fill-rule=\"evenodd\" fill-opacity=\"1\" stroke=\"#000000\" stroke-opacity=\"1\" stroke-width=\"3.2\"/>\n",
       "<circle clip-path=\"url(#clip682)\" cx=\"2023.06\" cy=\"175.582\" r=\"14\" fill=\"#009af9\" fill-rule=\"evenodd\" fill-opacity=\"1\" stroke=\"#000000\" stroke-opacity=\"1\" stroke-width=\"3.2\"/>\n",
       "<circle clip-path=\"url(#clip682)\" cx=\"2043.7\" cy=\"1445.72\" r=\"14\" fill=\"#009af9\" fill-rule=\"evenodd\" fill-opacity=\"1\" stroke=\"#000000\" stroke-opacity=\"1\" stroke-width=\"3.2\"/>\n",
       "<circle clip-path=\"url(#clip682)\" cx=\"2064.35\" cy=\"1170.93\" r=\"14\" fill=\"#009af9\" fill-rule=\"evenodd\" fill-opacity=\"1\" stroke=\"#000000\" stroke-opacity=\"1\" stroke-width=\"3.2\"/>\n",
       "<circle clip-path=\"url(#clip682)\" cx=\"2084.99\" cy=\"441.878\" r=\"14\" fill=\"#009af9\" fill-rule=\"evenodd\" fill-opacity=\"1\" stroke=\"#000000\" stroke-opacity=\"1\" stroke-width=\"3.2\"/>\n",
       "<circle clip-path=\"url(#clip682)\" cx=\"2105.64\" cy=\"1318.57\" r=\"14\" fill=\"#009af9\" fill-rule=\"evenodd\" fill-opacity=\"1\" stroke=\"#000000\" stroke-opacity=\"1\" stroke-width=\"3.2\"/>\n",
       "<circle clip-path=\"url(#clip682)\" cx=\"2126.28\" cy=\"961.528\" r=\"14\" fill=\"#009af9\" fill-rule=\"evenodd\" fill-opacity=\"1\" stroke=\"#000000\" stroke-opacity=\"1\" stroke-width=\"3.2\"/>\n",
       "<circle clip-path=\"url(#clip682)\" cx=\"2146.93\" cy=\"244.898\" r=\"14\" fill=\"#009af9\" fill-rule=\"evenodd\" fill-opacity=\"1\" stroke=\"#000000\" stroke-opacity=\"1\" stroke-width=\"3.2\"/>\n",
       "<circle clip-path=\"url(#clip682)\" cx=\"2167.57\" cy=\"1049.38\" r=\"14\" fill=\"#009af9\" fill-rule=\"evenodd\" fill-opacity=\"1\" stroke=\"#000000\" stroke-opacity=\"1\" stroke-width=\"3.2\"/>\n",
       "<circle clip-path=\"url(#clip682)\" cx=\"2188.22\" cy=\"1059.01\" r=\"14\" fill=\"#009af9\" fill-rule=\"evenodd\" fill-opacity=\"1\" stroke=\"#000000\" stroke-opacity=\"1\" stroke-width=\"3.2\"/>\n",
       "<circle clip-path=\"url(#clip682)\" cx=\"2208.86\" cy=\"578.257\" r=\"14\" fill=\"#009af9\" fill-rule=\"evenodd\" fill-opacity=\"1\" stroke=\"#000000\" stroke-opacity=\"1\" stroke-width=\"3.2\"/>\n",
       "<circle clip-path=\"url(#clip682)\" cx=\"2229.51\" cy=\"763.144\" r=\"14\" fill=\"#009af9\" fill-rule=\"evenodd\" fill-opacity=\"1\" stroke=\"#000000\" stroke-opacity=\"1\" stroke-width=\"3.2\"/>\n",
       "<circle clip-path=\"url(#clip682)\" cx=\"2250.15\" cy=\"1331.06\" r=\"14\" fill=\"#009af9\" fill-rule=\"evenodd\" fill-opacity=\"1\" stroke=\"#000000\" stroke-opacity=\"1\" stroke-width=\"3.2\"/>\n",
       "<circle clip-path=\"url(#clip682)\" cx=\"2270.8\" cy=\"918.422\" r=\"14\" fill=\"#009af9\" fill-rule=\"evenodd\" fill-opacity=\"1\" stroke=\"#000000\" stroke-opacity=\"1\" stroke-width=\"3.2\"/>\n",
       "<circle clip-path=\"url(#clip682)\" cx=\"2291.44\" cy=\"728.543\" r=\"14\" fill=\"#009af9\" fill-rule=\"evenodd\" fill-opacity=\"1\" stroke=\"#000000\" stroke-opacity=\"1\" stroke-width=\"3.2\"/>\n",
       "<path clip-path=\"url(#clip680)\" d=\"\n",
       "M1987.39 198.898 L2280.54 198.898 L2280.54 95.2176 L1987.39 95.2176  Z\n",
       "  \" fill=\"#ffffff\" fill-rule=\"evenodd\" fill-opacity=\"1\"/>\n",
       "<polyline clip-path=\"url(#clip680)\" style=\"stroke:#000000; stroke-linecap:butt; stroke-linejoin:round; stroke-width:4; stroke-opacity:1; fill:none\" points=\"\n",
       "  1987.39,198.898 2280.54,198.898 2280.54,95.2176 1987.39,95.2176 1987.39,198.898 \n",
       "  \"/>\n",
       "<circle clip-path=\"url(#clip680)\" cx=\"2083.68\" cy=\"147.058\" r=\"23\" fill=\"#009af9\" fill-rule=\"evenodd\" fill-opacity=\"1\" stroke=\"#000000\" stroke-opacity=\"1\" stroke-width=\"5.12\"/>\n",
       "<path clip-path=\"url(#clip680)\" d=\"M2193.81 166.745 Q2192 171.375 2190.29 172.787 Q2188.58 174.199 2185.71 174.199 L2182.3 174.199 L2182.3 170.634 L2184.8 170.634 Q2186.56 170.634 2187.53 169.8 Q2188.51 168.967 2189.69 165.865 L2190.45 163.921 L2179.97 138.412 L2184.48 138.412 L2192.58 158.689 L2200.68 138.412 L2205.2 138.412 L2193.81 166.745 Z\" fill=\"#000000\" fill-rule=\"evenodd\" fill-opacity=\"1\" /><path clip-path=\"url(#clip680)\" d=\"M2212.49 160.402 L2220.13 160.402 L2220.13 134.037 L2211.82 135.703 L2211.82 131.444 L2220.08 129.778 L2224.76 129.778 L2224.76 160.402 L2232.4 160.402 L2232.4 164.338 L2212.49 164.338 L2212.49 160.402 Z\" fill=\"#000000\" fill-rule=\"evenodd\" fill-opacity=\"1\" /></svg>\n"
      ]
     },
     "execution_count": 97,
     "metadata": {},
     "output_type": "execute_result"
    }
   ],
   "source": [
    "using Plots\n",
    "scatter(x,y)"
   ]
  },
  {
   "cell_type": "code",
   "execution_count": null,
   "id": "a230a9b6",
   "metadata": {},
   "outputs": [],
   "source": []
  },
  {
   "cell_type": "code",
   "execution_count": null,
   "id": "97a5684b",
   "metadata": {},
   "outputs": [],
   "source": []
  }
 ],
 "metadata": {
  "kernelspec": {
   "display_name": "Julia 1.7.0",
   "language": "julia",
   "name": "julia-1.7"
  },
  "language_info": {
   "file_extension": ".jl",
   "mimetype": "application/julia",
   "name": "julia",
   "version": "1.7.0"
  }
 },
 "nbformat": 4,
 "nbformat_minor": 5
}
