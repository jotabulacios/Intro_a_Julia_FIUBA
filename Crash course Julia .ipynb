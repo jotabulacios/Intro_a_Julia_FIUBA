{
 "cells": [
  {
   "cell_type": "code",
   "execution_count": 2,
   "id": "818a15fc",
   "metadata": {},
   "outputs": [
    {
     "data": {
      "text/plain": [
       "5"
      ]
     },
     "execution_count": 2,
     "metadata": {},
     "output_type": "execute_result"
    }
   ],
   "source": [
    "2 + 3 "
   ]
  },
  {
   "cell_type": "markdown",
   "id": "304ecc72",
   "metadata": {},
   "source": [
    "## Operaciones matemáticas básicas"
   ]
  },
  {
   "cell_type": "code",
   "execution_count": 3,
   "id": "43f080a9",
   "metadata": {},
   "outputs": [
    {
     "data": {
      "text/plain": [
       "42"
      ]
     },
     "execution_count": 3,
     "metadata": {},
     "output_type": "execute_result"
    }
   ],
   "source": [
    "7*6"
   ]
  },
  {
   "cell_type": "code",
   "execution_count": 4,
   "id": "426559a2",
   "metadata": {},
   "outputs": [
    {
     "data": {
      "text/plain": [
       "0.32857142857142857"
      ]
     },
     "execution_count": 4,
     "metadata": {},
     "output_type": "execute_result"
    }
   ],
   "source": [
    "2.3/7"
   ]
  },
  {
   "cell_type": "code",
   "execution_count": 5,
   "id": "62b7cef1",
   "metadata": {},
   "outputs": [
    {
     "data": {
      "text/plain": [
       "2"
      ]
     },
     "execution_count": 5,
     "metadata": {},
     "output_type": "execute_result"
    }
   ],
   "source": [
    "9+1\n",
    "1+1"
   ]
  },
  {
   "cell_type": "code",
   "execution_count": 6,
   "id": "0bde404a",
   "metadata": {},
   "outputs": [
    {
     "data": {
      "text/plain": [
       "16"
      ]
     },
     "execution_count": 6,
     "metadata": {},
     "output_type": "execute_result"
    }
   ],
   "source": [
    "2^4"
   ]
  },
  {
   "cell_type": "code",
   "execution_count": 7,
   "id": "320a7111",
   "metadata": {},
   "outputs": [
    {
     "data": {
      "text/plain": [
       "8.0"
      ]
     },
     "execution_count": 7,
     "metadata": {},
     "output_type": "execute_result"
    }
   ],
   "source": [
    "2.0^3.0"
   ]
  },
  {
   "cell_type": "code",
   "execution_count": 8,
   "id": "be3a03c8",
   "metadata": {},
   "outputs": [
    {
     "data": {
      "text/plain": [
       "7.38905609893065"
      ]
     },
     "execution_count": 8,
     "metadata": {},
     "output_type": "execute_result"
    }
   ],
   "source": [
    "exp(2)"
   ]
  },
  {
   "cell_type": "code",
   "execution_count": 11,
   "id": "a7f0aee5",
   "metadata": {},
   "outputs": [
    {
     "data": {
      "text/plain": [
       "1.0986122886681098"
      ]
     },
     "execution_count": 11,
     "metadata": {},
     "output_type": "execute_result"
    }
   ],
   "source": [
    "log(3) # esto en base natural"
   ]
  },
  {
   "cell_type": "code",
   "execution_count": 10,
   "id": "cfc618de",
   "metadata": {},
   "outputs": [
    {
     "data": {
      "text/plain": [
       "0.0"
      ]
     },
     "execution_count": 10,
     "metadata": {},
     "output_type": "execute_result"
    }
   ],
   "source": [
    "log(1)"
   ]
  },
  {
   "cell_type": "code",
   "execution_count": 13,
   "id": "8fc89cae",
   "metadata": {},
   "outputs": [
    {
     "data": {
      "text/plain": [
       "1.0"
      ]
     },
     "execution_count": 13,
     "metadata": {},
     "output_type": "execute_result"
    }
   ],
   "source": [
    "log10(10)"
   ]
  },
  {
   "cell_type": "code",
   "execution_count": 14,
   "id": "ec0ad4dc",
   "metadata": {},
   "outputs": [
    {
     "data": {
      "text/plain": [
       "0.0"
      ]
     },
     "execution_count": 14,
     "metadata": {},
     "output_type": "execute_result"
    }
   ],
   "source": [
    "sin(0)"
   ]
  },
  {
   "cell_type": "code",
   "execution_count": 15,
   "id": "6805bdb7",
   "metadata": {},
   "outputs": [
    {
     "data": {
      "text/plain": [
       "1.0"
      ]
     },
     "execution_count": 15,
     "metadata": {},
     "output_type": "execute_result"
    }
   ],
   "source": [
    "cos(0)"
   ]
  },
  {
   "cell_type": "code",
   "execution_count": 17,
   "id": "1809eb13",
   "metadata": {},
   "outputs": [
    {
     "data": {
      "text/plain": [
       "-0.9880316240928618"
      ]
     },
     "execution_count": 17,
     "metadata": {},
     "output_type": "execute_result"
    }
   ],
   "source": [
    "sin(30) # Epa que pasa? Acá lo que sucede es que lo toma en radianes"
   ]
  },
  {
   "cell_type": "code",
   "execution_count": 18,
   "id": "1d701aac",
   "metadata": {},
   "outputs": [
    {
     "data": {
      "text/plain": [
       "0.5"
      ]
     },
     "execution_count": 18,
     "metadata": {},
     "output_type": "execute_result"
    }
   ],
   "source": [
    "# para hacer en grados usamos sind\n",
    "sind(30)"
   ]
  },
  {
   "cell_type": "code",
   "execution_count": 19,
   "id": "5b258099",
   "metadata": {},
   "outputs": [
    {
     "data": {
      "text/plain": [
       "1.2246467991473532e-16"
      ]
     },
     "execution_count": 19,
     "metadata": {},
     "output_type": "execute_result"
    }
   ],
   "source": [
    "sin(π)"
   ]
  },
  {
   "cell_type": "code",
   "execution_count": 20,
   "id": "62f61593",
   "metadata": {},
   "outputs": [
    {
     "data": {
      "text/plain": [
       "1.2246467991473532e-16"
      ]
     },
     "execution_count": 20,
     "metadata": {},
     "output_type": "execute_result"
    }
   ],
   "source": [
    "sin(pi)"
   ]
  },
  {
   "cell_type": "code",
   "execution_count": 21,
   "id": "38a3305e",
   "metadata": {},
   "outputs": [
    {
     "data": {
      "text/plain": [
       "π = 3.1415926535897..."
      ]
     },
     "execution_count": 21,
     "metadata": {},
     "output_type": "execute_result"
    }
   ],
   "source": [
    "pi"
   ]
  },
  {
   "cell_type": "code",
   "execution_count": 22,
   "id": "59353351",
   "metadata": {},
   "outputs": [
    {
     "data": {
      "text/plain": [
       "0.49999999999999994"
      ]
     },
     "execution_count": 22,
     "metadata": {},
     "output_type": "execute_result"
    }
   ],
   "source": [
    "sin(pi/6)"
   ]
  },
  {
   "cell_type": "code",
   "execution_count": 24,
   "id": "532bbd8d",
   "metadata": {},
   "outputs": [
    {
     "data": {
      "text/plain": [
       "ℯ = 2.7182818284590..."
      ]
     },
     "execution_count": 24,
     "metadata": {},
     "output_type": "execute_result"
    }
   ],
   "source": [
    "MathConstants.e"
   ]
  },
  {
   "cell_type": "code",
   "execution_count": 25,
   "id": "a9118717",
   "metadata": {},
   "outputs": [
    {
     "data": {
      "text/plain": [
       "1"
      ]
     },
     "execution_count": 25,
     "metadata": {},
     "output_type": "execute_result"
    }
   ],
   "source": [
    "log(MathConstants.e)"
   ]
  },
  {
   "cell_type": "code",
   "execution_count": 29,
   "id": "5b2fdb54",
   "metadata": {},
   "outputs": [
    {
     "data": {
      "text/plain": [
       "2"
      ]
     },
     "execution_count": 29,
     "metadata": {},
     "output_type": "execute_result"
    }
   ],
   "source": [
    "α = 2"
   ]
  },
  {
   "cell_type": "code",
   "execution_count": 30,
   "id": "842d167a",
   "metadata": {},
   "outputs": [
    {
     "data": {
      "text/plain": [
       "2"
      ]
     },
     "execution_count": 30,
     "metadata": {},
     "output_type": "execute_result"
    }
   ],
   "source": [
    "α"
   ]
  },
  {
   "cell_type": "code",
   "execution_count": 34,
   "id": "0885a85f",
   "metadata": {},
   "outputs": [
    {
     "data": {
      "text/plain": [
       "4"
      ]
     },
     "execution_count": 34,
     "metadata": {},
     "output_type": "execute_result"
    }
   ],
   "source": [
    "α ^2  "
   ]
  },
  {
   "cell_type": "code",
   "execution_count": 35,
   "id": "1cb8363e",
   "metadata": {},
   "outputs": [
    {
     "data": {
      "text/plain": [
       "3"
      ]
     },
     "execution_count": 35,
     "metadata": {},
     "output_type": "execute_result"
    }
   ],
   "source": [
    "x = 3"
   ]
  },
  {
   "cell_type": "code",
   "execution_count": 36,
   "id": "5f9d6565",
   "metadata": {},
   "outputs": [
    {
     "data": {
      "text/plain": [
       "3"
      ]
     },
     "execution_count": 36,
     "metadata": {},
     "output_type": "execute_result"
    }
   ],
   "source": [
    "x"
   ]
  },
  {
   "cell_type": "code",
   "execution_count": 37,
   "id": "ca7fc2a6",
   "metadata": {},
   "outputs": [
    {
     "data": {
      "text/plain": [
       "6"
      ]
     },
     "execution_count": 37,
     "metadata": {},
     "output_type": "execute_result"
    }
   ],
   "source": [
    "bondiola = 6"
   ]
  },
  {
   "cell_type": "code",
   "execution_count": 38,
   "id": "2f682e00",
   "metadata": {},
   "outputs": [
    {
     "data": {
      "text/plain": [
       "216"
      ]
     },
     "execution_count": 38,
     "metadata": {},
     "output_type": "execute_result"
    }
   ],
   "source": [
    "bondiola ^ x"
   ]
  },
  {
   "cell_type": "code",
   "execution_count": 39,
   "id": "f71d8648",
   "metadata": {},
   "outputs": [
    {
     "data": {
      "text/plain": [
       "\"bondiola\""
      ]
     },
     "execution_count": 39,
     "metadata": {},
     "output_type": "execute_result"
    }
   ],
   "source": [
    "\"bondiola\""
   ]
  },
  {
   "cell_type": "code",
   "execution_count": 41,
   "id": "5c13bf31",
   "metadata": {},
   "outputs": [
    {
     "data": {
      "text/plain": [
       "\"bondiola con papitas\""
      ]
     },
     "execution_count": 41,
     "metadata": {},
     "output_type": "execute_result"
    }
   ],
   "source": [
    "\"bondiola \"*\"con papitas\"  # junto palabras o strings, en realidad esto se llama concatenar"
   ]
  },
  {
   "cell_type": "markdown",
   "id": "16f15c8b",
   "metadata": {},
   "source": [
    "## Un poco de Álgebra Lineal"
   ]
  },
  {
   "cell_type": "code",
   "execution_count": 81,
   "id": "4f1936d3",
   "metadata": {},
   "outputs": [
    {
     "data": {
      "text/plain": [
       "3-element Vector{Int64}:\n",
       " 1\n",
       " 2\n",
       " 3"
      ]
     },
     "execution_count": 81,
     "metadata": {},
     "output_type": "execute_result"
    }
   ],
   "source": [
    " v = [1;2;3] # hace un vector de 3 x 1"
   ]
  },
  {
   "cell_type": "code",
   "execution_count": 44,
   "id": "917ed0c0",
   "metadata": {},
   "outputs": [
    {
     "data": {
      "text/plain": [
       "1×3 adjoint(::Vector{Float64}) with eltype Float64:\n",
       " 1.0  2.0  3.0"
      ]
     },
     "execution_count": 44,
     "metadata": {},
     "output_type": "execute_result"
    }
   ],
   "source": [
    "# y si lo transpongo? \n",
    "v'"
   ]
  },
  {
   "cell_type": "code",
   "execution_count": 45,
   "id": "cb871e06",
   "metadata": {},
   "outputs": [
    {
     "data": {
      "text/plain": [
       "3-element Vector{Float64}:\n",
       " 2.0\n",
       " 4.0\n",
       " 6.0"
      ]
     },
     "execution_count": 45,
     "metadata": {},
     "output_type": "execute_result"
    }
   ],
   "source": [
    "v + v"
   ]
  },
  {
   "cell_type": "code",
   "execution_count": 46,
   "id": "96137066",
   "metadata": {},
   "outputs": [
    {
     "data": {
      "text/plain": [
       "3-element Vector{Float64}:\n",
       " 2.0\n",
       " 4.0\n",
       " 6.0"
      ]
     },
     "execution_count": 46,
     "metadata": {},
     "output_type": "execute_result"
    }
   ],
   "source": [
    "v * 2"
   ]
  },
  {
   "cell_type": "code",
   "execution_count": 47,
   "id": "2756c6e0",
   "metadata": {},
   "outputs": [
    {
     "data": {
      "text/plain": [
       "3-element Vector{Float64}:\n",
       " 4.0\n",
       " 5.0\n",
       " 6.0"
      ]
     },
     "execution_count": 47,
     "metadata": {},
     "output_type": "execute_result"
    }
   ],
   "source": [
    "v.+3"
   ]
  },
  {
   "cell_type": "code",
   "execution_count": 51,
   "id": "c78e7cbb",
   "metadata": {},
   "outputs": [
    {
     "data": {
      "text/plain": [
       "3-element Vector{Float64}:\n",
       " 4.0\n",
       " 5.0\n",
       " 6.0"
      ]
     },
     "execution_count": 51,
     "metadata": {},
     "output_type": "execute_result"
    }
   ],
   "source": [
    "v .+ 3 # el .+ hace que haga la operacion(suma en este caso) a cada elemento "
   ]
  },
  {
   "cell_type": "code",
   "execution_count": 52,
   "id": "1a45c159",
   "metadata": {},
   "outputs": [
    {
     "data": {
      "text/plain": [
       "3-element Vector{Float64}:\n",
       "  3.0\n",
       " -1.0\n",
       "  3.0"
      ]
     },
     "execution_count": 52,
     "metadata": {},
     "output_type": "execute_result"
    }
   ],
   "source": [
    " w = [3.0; -1; 3.0]"
   ]
  },
  {
   "cell_type": "code",
   "execution_count": 53,
   "id": "bf2e436b",
   "metadata": {},
   "outputs": [
    {
     "data": {
      "text/plain": [
       "3-element Vector{Float64}:\n",
       " 4.0\n",
       " 1.0\n",
       " 6.0"
      ]
     },
     "execution_count": 53,
     "metadata": {},
     "output_type": "execute_result"
    }
   ],
   "source": [
    "v + w"
   ]
  },
  {
   "cell_type": "code",
   "execution_count": 55,
   "id": "739fae4b",
   "metadata": {},
   "outputs": [
    {
     "ename": "LoadError",
     "evalue": "UndefVarError: dot not defined",
     "output_type": "error",
     "traceback": [
      "UndefVarError: dot not defined",
      "",
      "Stacktrace:",
      " [1] top-level scope",
      "   @ In[55]:1",
      " [2] eval",
      "   @ .\\boot.jl:373 [inlined]",
      " [3] include_string(mapexpr::typeof(REPL.softscope), mod::Module, code::String, filename::String)",
      "   @ Base .\\loading.jl:1196"
     ]
    }
   ],
   "source": [
    "dot(v,w)"
   ]
  },
  {
   "cell_type": "markdown",
   "id": "1ecb4675",
   "metadata": {},
   "source": [
    "Acá lo que paso es que no cargue la biblioteca de algebra lineal"
   ]
  },
  {
   "cell_type": "code",
   "execution_count": 56,
   "id": "173f7098",
   "metadata": {},
   "outputs": [],
   "source": [
    "using LinearAlgebra"
   ]
  },
  {
   "cell_type": "code",
   "execution_count": 57,
   "id": "5226e850",
   "metadata": {},
   "outputs": [
    {
     "data": {
      "text/plain": [
       "10.0"
      ]
     },
     "execution_count": 57,
     "metadata": {},
     "output_type": "execute_result"
    }
   ],
   "source": [
    "dot(v,w)"
   ]
  },
  {
   "cell_type": "code",
   "execution_count": 59,
   "id": "76e96773",
   "metadata": {},
   "outputs": [
    {
     "data": {
      "text/plain": [
       "10.0"
      ]
     },
     "execution_count": 59,
     "metadata": {},
     "output_type": "execute_result"
    }
   ],
   "source": [
    "v ⋅ w # tambie funciona con el puntito :)"
   ]
  },
  {
   "cell_type": "code",
   "execution_count": 61,
   "id": "c80098e4",
   "metadata": {},
   "outputs": [
    {
     "data": {
      "text/plain": [
       "2×3 Matrix{Int64}:\n",
       " 1   2  2\n",
       " 3  -1  5"
      ]
     },
     "execution_count": 61,
     "metadata": {},
     "output_type": "execute_result"
    }
   ],
   "source": [
    "# Para las matrices usamos por convención mayusculas\n",
    "A = [1 2 2;3 -1 5]"
   ]
  },
  {
   "cell_type": "code",
   "execution_count": 83,
   "id": "a2080b1f",
   "metadata": {},
   "outputs": [],
   "source": [
    "B = [1 2 3\n",
    "    4 5 6\n",
    "    7 11 9] # Podemos usar espacio o el ;"
   ]
  },
  {
   "cell_type": "code",
   "execution_count": 68,
   "id": "b50abff9",
   "metadata": {},
   "outputs": [
    {
     "data": {
      "text/plain": [
       "2×2 Matrix{Int64}:\n",
       " 1  2\n",
       " 3  4"
      ]
     },
     "execution_count": 68,
     "metadata": {},
     "output_type": "execute_result"
    }
   ],
   "source": [
    "C = [1 2;3 4]"
   ]
  },
  {
   "cell_type": "code",
   "execution_count": 69,
   "id": "f1479bf8",
   "metadata": {},
   "outputs": [
    {
     "data": {
      "text/plain": [
       "2-element Vector{Float64}:\n",
       " 11.0\n",
       " 16.0"
      ]
     },
     "execution_count": 69,
     "metadata": {},
     "output_type": "execute_result"
    }
   ],
   "source": [
    " A * v"
   ]
  },
  {
   "cell_type": "code",
   "execution_count": 84,
   "id": "3e6adde2",
   "metadata": {},
   "outputs": [
    {
     "data": {
      "text/plain": [
       "3-element Vector{Float64}:\n",
       " -4.7287276974775186e-17\n",
       "  4.5231308410654523e-17\n",
       "  0.3333333333333333"
      ]
     },
     "execution_count": 84,
     "metadata": {},
     "output_type": "execute_result"
    }
   ],
   "source": [
    "B\\v"
   ]
  },
  {
   "cell_type": "code",
   "execution_count": 78,
   "id": "be9339ee",
   "metadata": {},
   "outputs": [
    {
     "data": {
      "text/plain": [
       "10×10 Matrix{Float64}:\n",
       " 0.318187  0.259746  0.182941   0.813406  …  0.731233     0.0715962  0.12234\n",
       " 0.309524  0.282364  0.264476   0.494101     0.281491     0.599356   0.51224\n",
       " 0.159759  0.89485   0.677799   0.710929     0.741285     0.683754   0.222392\n",
       " 0.469332  0.219021  0.790095   0.421196     0.958558     0.231867   0.892555\n",
       " 0.952203  0.325447  0.0879788  0.119809     0.921723     0.337037   0.824762\n",
       " 0.745598  0.62739   0.609427   0.840434  …  0.901001     0.371696   0.20512\n",
       " 0.591438  0.204506  0.538521   0.422164     0.18585      0.122381   0.5513\n",
       " 0.595327  0.150067  0.18088    0.762065     0.841698     0.325135   0.448708\n",
       " 0.472663  0.412134  0.122952   0.504538     0.000687955  0.642373   0.080654\n",
       " 0.238548  0.858577  0.564732   0.626145     0.56136      0.960392   0.192145"
      ]
     },
     "execution_count": 78,
     "metadata": {},
     "output_type": "execute_result"
    }
   ],
   "source": [
    "R = rand(10,10)"
   ]
  },
  {
   "cell_type": "code",
   "execution_count": 79,
   "id": "27599990",
   "metadata": {},
   "outputs": [
    {
     "data": {
      "text/plain": [
       "10-element Vector{Float64}:\n",
       " 0.46805446660682604\n",
       " 0.5754352957738808\n",
       " 0.6729249252195777\n",
       " 0.9723336744752665\n",
       " 0.11651394944442706\n",
       " 0.7557311561010523\n",
       " 0.4419599236289268\n",
       " 0.23219085692585106\n",
       " 0.6487330318301514\n",
       " 0.2453014014765892"
      ]
     },
     "execution_count": 79,
     "metadata": {},
     "output_type": "execute_result"
    }
   ],
   "source": [
    "b = rand(10)"
   ]
  },
  {
   "cell_type": "code",
   "execution_count": 80,
   "id": "cf4914a9",
   "metadata": {},
   "outputs": [
    {
     "data": {
      "text/plain": [
       "10-element Vector{Float64}:\n",
       " -2.7935493467510475\n",
       "  7.418672578375159\n",
       " -4.450111207598473\n",
       "  6.9986552130639925\n",
       " -1.583179656179832\n",
       "  4.143213684638644\n",
       " -3.7917402253404053\n",
       " -4.9626561926875405\n",
       " -5.88205320705484\n",
       "  8.037471421763072"
      ]
     },
     "execution_count": 80,
     "metadata": {},
     "output_type": "execute_result"
    }
   ],
   "source": [
    "R\\b"
   ]
  },
  {
   "cell_type": "code",
   "execution_count": 85,
   "id": "7cc27b1f",
   "metadata": {},
   "outputs": [
    {
     "data": {
      "text/plain": [
       "3×3 Matrix{Int64}:\n",
       " 1   2  3\n",
       " 4   5  6\n",
       " 7  11  9"
      ]
     },
     "execution_count": 85,
     "metadata": {},
     "output_type": "execute_result"
    }
   ],
   "source": [
    "B"
   ]
  },
  {
   "cell_type": "code",
   "execution_count": 86,
   "id": "95f5b107",
   "metadata": {},
   "outputs": [
    {
     "data": {
      "text/plain": [
       "3×3 adjoint(::Matrix{Int64}) with eltype Int64:\n",
       " 1  4   7\n",
       " 2  5  11\n",
       " 3  6   9"
      ]
     },
     "execution_count": 86,
     "metadata": {},
     "output_type": "execute_result"
    }
   ],
   "source": [
    "B'"
   ]
  },
  {
   "cell_type": "code",
   "execution_count": 87,
   "id": "5a44e236",
   "metadata": {},
   "outputs": [
    {
     "data": {
      "text/plain": [
       "3×3 transpose(::Matrix{Int64}) with eltype Int64:\n",
       " 1  4   7\n",
       " 2  5  11\n",
       " 3  6   9"
      ]
     },
     "execution_count": 87,
     "metadata": {},
     "output_type": "execute_result"
    }
   ],
   "source": [
    "transpose(B)"
   ]
  },
  {
   "cell_type": "code",
   "execution_count": 88,
   "id": "240ad579",
   "metadata": {},
   "outputs": [
    {
     "data": {
      "text/plain": [
       "3×3 adjoint(::Matrix{Int64}) with eltype Int64:\n",
       " 1  4   7\n",
       " 2  5  11\n",
       " 3  6   9"
      ]
     },
     "execution_count": 88,
     "metadata": {},
     "output_type": "execute_result"
    }
   ],
   "source": [
    "adjoint(B)"
   ]
  },
  {
   "cell_type": "code",
   "execution_count": 89,
   "id": "3ec33f2a",
   "metadata": {},
   "outputs": [
    {
     "data": {
      "text/plain": [
       "2×3 Matrix{Float64}:\n",
       " 1.0  1.0  1.0\n",
       " 1.0  1.0  1.0"
      ]
     },
     "execution_count": 89,
     "metadata": {},
     "output_type": "execute_result"
    }
   ],
   "source": [
    "B = ones(2,3)"
   ]
  },
  {
   "cell_type": "code",
   "execution_count": 91,
   "id": "a27158cc",
   "metadata": {},
   "outputs": [
    {
     "data": {
      "text/plain": [
       "2×3 Matrix{ComplexF64}:\n",
       " 1.0+1.0im   2.0+1.0im  2.0+1.0im\n",
       " 3.0+1.0im  -1.0+1.0im  5.0+1.0im"
      ]
     },
     "execution_count": 91,
     "metadata": {},
     "output_type": "execute_result"
    }
   ],
   "source": [
    "C = A + im * B"
   ]
  },
  {
   "cell_type": "code",
   "execution_count": 92,
   "id": "89108152",
   "metadata": {},
   "outputs": [
    {
     "data": {
      "text/plain": [
       "3×2 transpose(::Matrix{ComplexF64}) with eltype ComplexF64:\n",
       " 1.0+1.0im   3.0+1.0im\n",
       " 2.0+1.0im  -1.0+1.0im\n",
       " 2.0+1.0im   5.0+1.0im"
      ]
     },
     "execution_count": 92,
     "metadata": {},
     "output_type": "execute_result"
    }
   ],
   "source": [
    "transpose(C)"
   ]
  },
  {
   "cell_type": "code",
   "execution_count": 93,
   "id": "47218ef4",
   "metadata": {},
   "outputs": [
    {
     "data": {
      "text/plain": [
       "3×2 adjoint(::Matrix{ComplexF64}) with eltype ComplexF64:\n",
       " 1.0-1.0im   3.0-1.0im\n",
       " 2.0-1.0im  -1.0-1.0im\n",
       " 2.0-1.0im   5.0-1.0im"
      ]
     },
     "execution_count": 93,
     "metadata": {},
     "output_type": "execute_result"
    }
   ],
   "source": [
    "adjoint(C)"
   ]
  },
  {
   "cell_type": "code",
   "execution_count": 95,
   "id": "055b3411",
   "metadata": {},
   "outputs": [
    {
     "data": {
      "text/plain": [
       "3.7416573867739413"
      ]
     },
     "execution_count": 95,
     "metadata": {},
     "output_type": "execute_result"
    }
   ],
   "source": [
    "norm(v)"
   ]
  },
  {
   "cell_type": "code",
   "execution_count": 97,
   "id": "510958a4",
   "metadata": {},
   "outputs": [
    {
     "data": {
      "text/plain": [
       "2×2 Matrix{Float64}:\n",
       " 4.0  1.0\n",
       " 2.0  3.0"
      ]
     },
     "execution_count": 97,
     "metadata": {},
     "output_type": "execute_result"
    }
   ],
   "source": [
    "A = [4.0 1\n",
    "    2 3]"
   ]
  },
  {
   "cell_type": "code",
   "execution_count": 98,
   "id": "323f1db0",
   "metadata": {},
   "outputs": [
    {
     "data": {
      "text/plain": [
       "2-element Vector{Int64}:\n",
       " 6\n",
       " 8"
      ]
     },
     "execution_count": 98,
     "metadata": {},
     "output_type": "execute_result"
    }
   ],
   "source": [
    "b = [6;8]"
   ]
  },
  {
   "cell_type": "code",
   "execution_count": 99,
   "id": "fc105b43",
   "metadata": {},
   "outputs": [
    {
     "data": {
      "text/plain": [
       "2-element Vector{Float64}:\n",
       " 1.0\n",
       " 2.0"
      ]
     },
     "execution_count": 99,
     "metadata": {},
     "output_type": "execute_result"
    }
   ],
   "source": [
    "x = A\\b"
   ]
  },
  {
   "cell_type": "code",
   "execution_count": 100,
   "id": "a03a26c9",
   "metadata": {},
   "outputs": [
    {
     "data": {
      "text/plain": [
       "2-element Vector{Float64}:\n",
       " 0.0\n",
       " 0.0"
      ]
     },
     "execution_count": 100,
     "metadata": {},
     "output_type": "execute_result"
    }
   ],
   "source": [
    "A * x - b"
   ]
  },
  {
   "cell_type": "code",
   "execution_count": 103,
   "id": "cc840ff5",
   "metadata": {},
   "outputs": [
    {
     "data": {
      "text/plain": [
       "Eigen{Float64, Float64, Matrix{Float64}, Vector{Float64}}\n",
       "values:\n",
       "2-element Vector{Float64}:\n",
       " 2.0\n",
       " 5.0\n",
       "vectors:\n",
       "2×2 Matrix{Float64}:\n",
       " -0.447214  0.707107\n",
       "  0.894427  0.707107"
      ]
     },
     "execution_count": 103,
     "metadata": {},
     "output_type": "execute_result"
    }
   ],
   "source": [
    "λ, V  = eigen(A)"
   ]
  },
  {
   "cell_type": "code",
   "execution_count": 104,
   "id": "30c5af7b",
   "metadata": {},
   "outputs": [
    {
     "data": {
      "text/plain": [
       "2-element Vector{Float64}:\n",
       " 2.0\n",
       " 5.0"
      ]
     },
     "execution_count": 104,
     "metadata": {},
     "output_type": "execute_result"
    }
   ],
   "source": [
    "λ"
   ]
  },
  {
   "cell_type": "code",
   "execution_count": 105,
   "id": "6317030f",
   "metadata": {},
   "outputs": [
    {
     "data": {
      "text/plain": [
       "2×2 Matrix{Float64}:\n",
       " -0.447214  0.707107\n",
       "  0.894427  0.707107"
      ]
     },
     "execution_count": 105,
     "metadata": {},
     "output_type": "execute_result"
    }
   ],
   "source": [
    "V"
   ]
  },
  {
   "cell_type": "code",
   "execution_count": 106,
   "id": "f21b76df",
   "metadata": {},
   "outputs": [
    {
     "data": {
      "text/plain": [
       "LU{Float64, Matrix{Float64}}\n",
       "L factor:\n",
       "2×2 Matrix{Float64}:\n",
       " 1.0  0.0\n",
       " 0.5  1.0\n",
       "U factor:\n",
       "2×2 Matrix{Float64}:\n",
       " 4.0  1.0\n",
       " 0.0  2.5"
      ]
     },
     "execution_count": 106,
     "metadata": {},
     "output_type": "execute_result"
    }
   ],
   "source": [
    "lu(A)"
   ]
  },
  {
   "cell_type": "code",
   "execution_count": 107,
   "id": "29825001",
   "metadata": {},
   "outputs": [
    {
     "data": {
      "text/plain": [
       "SVD{Float64, Float64, Matrix{Float64}}\n",
       "U factor:\n",
       "2×2 Matrix{Float64}:\n",
       " -0.767752  -0.640747\n",
       " -0.640747   0.767752\n",
       "singular values:\n",
       "2-element Vector{Float64}:\n",
       " 5.116672736016927\n",
       " 1.9543950758485482\n",
       "Vt factor:\n",
       "2×2 Matrix{Float64}:\n",
       " -0.850651  -0.525731\n",
       " -0.525731   0.850651"
      ]
     },
     "execution_count": 107,
     "metadata": {},
     "output_type": "execute_result"
    }
   ],
   "source": [
    "svd(A)"
   ]
  },
  {
   "cell_type": "code",
   "execution_count": 108,
   "id": "6833f18f",
   "metadata": {},
   "outputs": [
    {
     "data": {
      "text/plain": [
       "LinearAlgebra.QRCompactWY{Float64, Matrix{Float64}}\n",
       "Q factor:\n",
       "2×2 LinearAlgebra.QRCompactWYQ{Float64, Matrix{Float64}}:\n",
       " -0.894427  -0.447214\n",
       " -0.447214   0.894427\n",
       "R factor:\n",
       "2×2 Matrix{Float64}:\n",
       " -4.47214  -2.23607\n",
       "  0.0       2.23607"
      ]
     },
     "execution_count": 108,
     "metadata": {},
     "output_type": "execute_result"
    }
   ],
   "source": [
    "qr(A)"
   ]
  },
  {
   "cell_type": "code",
   "execution_count": 110,
   "id": "eec243f2",
   "metadata": {},
   "outputs": [
    {
     "data": {
      "text/plain": [
       "1-element Vector{Float64}:\n",
       " 1.0"
      ]
     },
     "execution_count": 110,
     "metadata": {},
     "output_type": "execute_result"
    }
   ],
   "source": [
    "ones(1)"
   ]
  },
  {
   "cell_type": "code",
   "execution_count": 111,
   "id": "427d28c4",
   "metadata": {},
   "outputs": [
    {
     "data": {
      "text/plain": [
       "1×3 Matrix{Float64}:\n",
       " 1.0  1.0  1.0"
      ]
     },
     "execution_count": 111,
     "metadata": {},
     "output_type": "execute_result"
    }
   ],
   "source": [
    "ones(1,3)"
   ]
  },
  {
   "cell_type": "code",
   "execution_count": 112,
   "id": "e410f922",
   "metadata": {},
   "outputs": [
    {
     "data": {
      "text/plain": [
       "3×3 Matrix{Float64}:\n",
       " 1.0  1.0  1.0\n",
       " 1.0  1.0  1.0\n",
       " 1.0  1.0  1.0"
      ]
     },
     "execution_count": 112,
     "metadata": {},
     "output_type": "execute_result"
    }
   ],
   "source": [
    "ones(3,3)"
   ]
  },
  {
   "cell_type": "code",
   "execution_count": 114,
   "id": "bc3f28e2",
   "metadata": {},
   "outputs": [
    {
     "data": {
      "text/plain": [
       "2×3 Matrix{Float64}:\n",
       " 0.0  0.0  0.0\n",
       " 0.0  0.0  0.0"
      ]
     },
     "execution_count": 114,
     "metadata": {},
     "output_type": "execute_result"
    }
   ],
   "source": [
    "zeros(2,3)"
   ]
  },
  {
   "cell_type": "code",
   "execution_count": 115,
   "id": "42b72cd1",
   "metadata": {},
   "outputs": [
    {
     "data": {
      "text/plain": [
       "3-element Vector{Float64}:\n",
       " 0.9520000601547461\n",
       " 0.46263131133653235\n",
       " 0.7243325728083164"
      ]
     },
     "execution_count": 115,
     "metadata": {},
     "output_type": "execute_result"
    }
   ],
   "source": [
    "rand(3)"
   ]
  },
  {
   "cell_type": "code",
   "execution_count": 116,
   "id": "10885678",
   "metadata": {},
   "outputs": [
    {
     "data": {
      "text/plain": [
       "100-element Vector{Float64}:\n",
       " 0.6738234454779825\n",
       " 0.6471348492055568\n",
       " 0.56482698623921\n",
       " 0.8166729185215266\n",
       " 0.7620432449798077\n",
       " 0.7050022061777218\n",
       " 0.7753640368265255\n",
       " 0.43696656765024333\n",
       " 0.18492900084323238\n",
       " 0.8094877241853526\n",
       " 0.6583293529025365\n",
       " 0.7656206814081671\n",
       " 0.046118355962990853\n",
       " ⋮\n",
       " 0.710405219822966\n",
       " 0.7539732970936803\n",
       " 0.3396885564187956\n",
       " 0.9301601884664474\n",
       " 0.3585281370406048\n",
       " 0.5838070270147897\n",
       " 0.4959676575938109\n",
       " 0.40687118817557444\n",
       " 0.9138010577623995\n",
       " 0.5688294918547545\n",
       " 0.6117420283028512\n",
       " 0.8842146499730438"
      ]
     },
     "execution_count": 116,
     "metadata": {},
     "output_type": "execute_result"
    }
   ],
   "source": [
    "rand(100)"
   ]
  },
  {
   "cell_type": "code",
   "execution_count": 117,
   "id": "8403690c",
   "metadata": {},
   "outputs": [
    {
     "data": {
      "text/plain": [
       "3-element Vector{Int64}:\n",
       " 1\n",
       " 2\n",
       " 3"
      ]
     },
     "execution_count": 117,
     "metadata": {},
     "output_type": "execute_result"
    }
   ],
   "source": [
    "v"
   ]
  },
  {
   "cell_type": "code",
   "execution_count": 118,
   "id": "37bad238",
   "metadata": {},
   "outputs": [
    {
     "data": {
      "text/plain": [
       "1"
      ]
     },
     "execution_count": 118,
     "metadata": {},
     "output_type": "execute_result"
    }
   ],
   "source": [
    "v[1] # vemos el primer elemento"
   ]
  },
  {
   "cell_type": "code",
   "execution_count": 119,
   "id": "bba5e43a",
   "metadata": {},
   "outputs": [
    {
     "data": {
      "text/plain": [
       "2"
      ]
     },
     "execution_count": 119,
     "metadata": {},
     "output_type": "execute_result"
    }
   ],
   "source": [
    "v[2]"
   ]
  },
  {
   "cell_type": "code",
   "execution_count": 120,
   "id": "11895f40",
   "metadata": {},
   "outputs": [
    {
     "data": {
      "text/plain": [
       "3.0"
      ]
     },
     "execution_count": 120,
     "metadata": {},
     "output_type": "execute_result"
    }
   ],
   "source": [
    "w[1]"
   ]
  },
  {
   "cell_type": "code",
   "execution_count": 121,
   "id": "eb7ee8b7",
   "metadata": {},
   "outputs": [
    {
     "data": {
      "text/plain": [
       "2×2 Matrix{Float64}:\n",
       " 4.0  1.0\n",
       " 2.0  3.0"
      ]
     },
     "execution_count": 121,
     "metadata": {},
     "output_type": "execute_result"
    }
   ],
   "source": [
    "A "
   ]
  },
  {
   "cell_type": "code",
   "execution_count": 122,
   "id": "d6f8c035",
   "metadata": {},
   "outputs": [
    {
     "data": {
      "text/plain": [
       "1.0"
      ]
     },
     "execution_count": 122,
     "metadata": {},
     "output_type": "execute_result"
    }
   ],
   "source": [
    "A[1,2]"
   ]
  },
  {
   "cell_type": "code",
   "execution_count": 123,
   "id": "0a269fcc",
   "metadata": {},
   "outputs": [
    {
     "data": {
      "text/plain": [
       "2-element Vector{Float64}:\n",
       " 1.0\n",
       " 3.0"
      ]
     },
     "execution_count": 123,
     "metadata": {},
     "output_type": "execute_result"
    }
   ],
   "source": [
    "A[:,2]"
   ]
  },
  {
   "cell_type": "code",
   "execution_count": 124,
   "id": "ac7cd76c",
   "metadata": {},
   "outputs": [
    {
     "data": {
      "text/plain": [
       "2-element Vector{Float64}:\n",
       " 4.0\n",
       " 2.0"
      ]
     },
     "execution_count": 124,
     "metadata": {},
     "output_type": "execute_result"
    }
   ],
   "source": [
    "A[:,1]"
   ]
  },
  {
   "cell_type": "code",
   "execution_count": 125,
   "id": "a67a8d73",
   "metadata": {},
   "outputs": [
    {
     "data": {
      "text/plain": [
       "2-element Vector{Float64}:\n",
       " 4.0\n",
       " 1.0"
      ]
     },
     "execution_count": 125,
     "metadata": {},
     "output_type": "execute_result"
    }
   ],
   "source": [
    "A[1,:]"
   ]
  },
  {
   "cell_type": "code",
   "execution_count": 126,
   "id": "db20e7c1",
   "metadata": {},
   "outputs": [
    {
     "data": {
      "text/plain": [
       "5×5 Matrix{Float64}:\n",
       " 0.269251  0.199936  0.855169   0.250013  0.424307\n",
       " 0.103085  0.111644  0.759968   0.738907  0.707827\n",
       " 0.360368  0.347088  0.651264   0.953844  0.594805\n",
       " 0.900898  0.579399  0.359705   0.495611  0.874787\n",
       " 0.906631  0.149759  0.0770137  0.732148  0.885475"
      ]
     },
     "execution_count": 126,
     "metadata": {},
     "output_type": "execute_result"
    }
   ],
   "source": [
    "A = rand(5,5)"
   ]
  },
  {
   "cell_type": "code",
   "execution_count": 128,
   "id": "f4e92980",
   "metadata": {},
   "outputs": [
    {
     "data": {
      "text/plain": [
       "3-element Vector{Float64}:\n",
       " 0.1116442205321243\n",
       " 0.7599682285243035\n",
       " 0.7389065538429289"
      ]
     },
     "execution_count": 128,
     "metadata": {},
     "output_type": "execute_result"
    }
   ],
   "source": [
    "A[2,2:4] # de la fila 2 quiero columnas 2,3,4"
   ]
  },
  {
   "cell_type": "markdown",
   "id": "c4c91e34",
   "metadata": {},
   "source": [
    "## Funciones"
   ]
  },
  {
   "cell_type": "code",
   "execution_count": 142,
   "id": "1ef0df6b",
   "metadata": {},
   "outputs": [
    {
     "data": {
      "text/plain": [
       "f (generic function with 1 method)"
      ]
     },
     "execution_count": 142,
     "metadata": {},
     "output_type": "execute_result"
    }
   ],
   "source": [
    "f(x) = x^2 - 3x + 4 # Esto es de R1 a R1"
   ]
  },
  {
   "cell_type": "code",
   "execution_count": 137,
   "id": "debddcfe",
   "metadata": {},
   "outputs": [
    {
     "data": {
      "text/plain": [
       "2"
      ]
     },
     "execution_count": 137,
     "metadata": {},
     "output_type": "execute_result"
    }
   ],
   "source": [
    "f(2)"
   ]
  },
  {
   "cell_type": "code",
   "execution_count": 143,
   "id": "a345401f",
   "metadata": {},
   "outputs": [
    {
     "data": {
      "text/plain": [
       "g (generic function with 1 method)"
      ]
     },
     "execution_count": 143,
     "metadata": {},
     "output_type": "execute_result"
    }
   ],
   "source": [
    "g(x) = sqrt(x^2 + 1),2x+1 # Esta es de R1 a R2"
   ]
  },
  {
   "cell_type": "code",
   "execution_count": 144,
   "id": "56dc55dd",
   "metadata": {},
   "outputs": [
    {
     "data": {
      "text/plain": [
       "(2.23606797749979, 5)"
      ]
     },
     "execution_count": 144,
     "metadata": {},
     "output_type": "execute_result"
    }
   ],
   "source": [
    "g(2)"
   ]
  },
  {
   "cell_type": "code",
   "execution_count": null,
   "id": "a78966da",
   "metadata": {},
   "outputs": [],
   "source": []
  },
  {
   "cell_type": "code",
   "execution_count": null,
   "id": "e8cac457",
   "metadata": {},
   "outputs": [],
   "source": []
  },
  {
   "cell_type": "code",
   "execution_count": 134,
   "id": "4919072c",
   "metadata": {},
   "outputs": [
    {
     "data": {
      "text/plain": [
       "100-element Vector{Float64}:\n",
       " 0.6973027342059853\n",
       " 0.0991470611677806\n",
       " 0.5404684260644922\n",
       " 0.6357839410547239\n",
       " 0.9522364693622882\n",
       " 0.9071347789154887\n",
       " 0.8629115158392865\n",
       " 0.5325996182650331\n",
       " 0.014483279798114146\n",
       " 0.08580813683059885\n",
       " 0.7558410802193345\n",
       " 0.7005849475189805\n",
       " 0.5293927224974031\n",
       " ⋮\n",
       " 0.2834587862132505\n",
       " 0.7275151424712933\n",
       " 0.9117580961936731\n",
       " 0.9589019071903718\n",
       " 0.8831416330641835\n",
       " 0.743350626021078\n",
       " 0.3463757724545786\n",
       " 0.23008129565998958\n",
       " 0.9248613965155332\n",
       " 0.4864629245505223\n",
       " 0.25983074157284125\n",
       " 0.9566277341997146"
      ]
     },
     "execution_count": 134,
     "metadata": {},
     "output_type": "execute_result"
    }
   ],
   "source": [
    "x = collect(1:1:100)\n",
    "y = rand(100)"
   ]
  },
  {
   "cell_type": "code",
   "execution_count": 135,
   "id": "5f427ee0",
   "metadata": {},
   "outputs": [
    {
     "data": {
      "image/svg+xml": [
       "<?xml version=\"1.0\" encoding=\"utf-8\"?>\n",
       "<svg xmlns=\"http://www.w3.org/2000/svg\" xmlns:xlink=\"http://www.w3.org/1999/xlink\" width=\"600\" height=\"400\" viewBox=\"0 0 2400 1600\">\n",
       "<defs>\n",
       "  <clipPath id=\"clip580\">\n",
       "    <rect x=\"0\" y=\"0\" width=\"2400\" height=\"1600\"/>\n",
       "  </clipPath>\n",
       "</defs>\n",
       "<path clip-path=\"url(#clip580)\" d=\"\n",
       "M0 1600 L2400 1600 L2400 0 L0 0  Z\n",
       "  \" fill=\"#ffffff\" fill-rule=\"evenodd\" fill-opacity=\"1\"/>\n",
       "<defs>\n",
       "  <clipPath id=\"clip581\">\n",
       "    <rect x=\"480\" y=\"0\" width=\"1681\" height=\"1600\"/>\n",
       "  </clipPath>\n",
       "</defs>\n",
       "<path clip-path=\"url(#clip580)\" d=\"\n",
       "M156.598 1486.45 L2352.76 1486.45 L2352.76 47.2441 L156.598 47.2441  Z\n",
       "  \" fill=\"#ffffff\" fill-rule=\"evenodd\" fill-opacity=\"1\"/>\n",
       "<defs>\n",
       "  <clipPath id=\"clip582\">\n",
       "    <rect x=\"156\" y=\"47\" width=\"2197\" height=\"1440\"/>\n",
       "  </clipPath>\n",
       "</defs>\n",
       "<polyline clip-path=\"url(#clip582)\" style=\"stroke:#000000; stroke-linecap:butt; stroke-linejoin:round; stroke-width:2; stroke-opacity:0.1; fill:none\" points=\"\n",
       "  197.826,1486.45 197.826,47.2441 \n",
       "  \"/>\n",
       "<polyline clip-path=\"url(#clip582)\" style=\"stroke:#000000; stroke-linecap:butt; stroke-linejoin:round; stroke-width:2; stroke-opacity:0.1; fill:none\" points=\"\n",
       "  721.02,1486.45 721.02,47.2441 \n",
       "  \"/>\n",
       "<polyline clip-path=\"url(#clip582)\" style=\"stroke:#000000; stroke-linecap:butt; stroke-linejoin:round; stroke-width:2; stroke-opacity:0.1; fill:none\" points=\"\n",
       "  1244.21,1486.45 1244.21,47.2441 \n",
       "  \"/>\n",
       "<polyline clip-path=\"url(#clip582)\" style=\"stroke:#000000; stroke-linecap:butt; stroke-linejoin:round; stroke-width:2; stroke-opacity:0.1; fill:none\" points=\"\n",
       "  1767.41,1486.45 1767.41,47.2441 \n",
       "  \"/>\n",
       "<polyline clip-path=\"url(#clip582)\" style=\"stroke:#000000; stroke-linecap:butt; stroke-linejoin:round; stroke-width:2; stroke-opacity:0.1; fill:none\" points=\"\n",
       "  2290.6,1486.45 2290.6,47.2441 \n",
       "  \"/>\n",
       "<polyline clip-path=\"url(#clip580)\" style=\"stroke:#000000; stroke-linecap:butt; stroke-linejoin:round; stroke-width:4; stroke-opacity:1; fill:none\" points=\"\n",
       "  156.598,1486.45 2352.76,1486.45 \n",
       "  \"/>\n",
       "<polyline clip-path=\"url(#clip580)\" style=\"stroke:#000000; stroke-linecap:butt; stroke-linejoin:round; stroke-width:4; stroke-opacity:1; fill:none\" points=\"\n",
       "  197.826,1486.45 197.826,1467.55 \n",
       "  \"/>\n",
       "<polyline clip-path=\"url(#clip580)\" style=\"stroke:#000000; stroke-linecap:butt; stroke-linejoin:round; stroke-width:4; stroke-opacity:1; fill:none\" points=\"\n",
       "  721.02,1486.45 721.02,1467.55 \n",
       "  \"/>\n",
       "<polyline clip-path=\"url(#clip580)\" style=\"stroke:#000000; stroke-linecap:butt; stroke-linejoin:round; stroke-width:4; stroke-opacity:1; fill:none\" points=\"\n",
       "  1244.21,1486.45 1244.21,1467.55 \n",
       "  \"/>\n",
       "<polyline clip-path=\"url(#clip580)\" style=\"stroke:#000000; stroke-linecap:butt; stroke-linejoin:round; stroke-width:4; stroke-opacity:1; fill:none\" points=\"\n",
       "  1767.41,1486.45 1767.41,1467.55 \n",
       "  \"/>\n",
       "<polyline clip-path=\"url(#clip580)\" style=\"stroke:#000000; stroke-linecap:butt; stroke-linejoin:round; stroke-width:4; stroke-opacity:1; fill:none\" points=\"\n",
       "  2290.6,1486.45 2290.6,1467.55 \n",
       "  \"/>\n",
       "<path clip-path=\"url(#clip580)\" d=\"M197.826 1517.37 Q194.215 1517.37 192.386 1520.93 Q190.581 1524.47 190.581 1531.6 Q190.581 1538.71 192.386 1542.27 Q194.215 1545.82 197.826 1545.82 Q201.46 1545.82 203.266 1542.27 Q205.094 1538.71 205.094 1531.6 Q205.094 1524.47 203.266 1520.93 Q201.46 1517.37 197.826 1517.37 M197.826 1513.66 Q203.636 1513.66 206.692 1518.27 Q209.77 1522.85 209.77 1531.6 Q209.77 1540.33 206.692 1544.94 Q203.636 1549.52 197.826 1549.52 Q192.016 1549.52 188.937 1544.94 Q185.882 1540.33 185.882 1531.6 Q185.882 1522.85 188.937 1518.27 Q192.016 1513.66 197.826 1513.66 Z\" fill=\"#000000\" fill-rule=\"evenodd\" fill-opacity=\"1\" /><path clip-path=\"url(#clip580)\" d=\"M700.29 1544.91 L716.61 1544.91 L716.61 1548.85 L694.666 1548.85 L694.666 1544.91 Q697.328 1542.16 701.911 1537.53 Q706.517 1532.88 707.698 1531.53 Q709.943 1529.01 710.823 1527.27 Q711.726 1525.51 711.726 1523.82 Q711.726 1521.07 709.781 1519.33 Q707.86 1517.6 704.758 1517.6 Q702.559 1517.6 700.105 1518.36 Q697.675 1519.13 694.897 1520.68 L694.897 1515.95 Q697.721 1514.82 700.175 1514.24 Q702.628 1513.66 704.665 1513.66 Q710.036 1513.66 713.23 1516.35 Q716.425 1519.03 716.425 1523.52 Q716.425 1525.65 715.614 1527.57 Q714.827 1529.47 712.721 1532.07 Q712.142 1532.74 709.04 1535.95 Q705.939 1539.15 700.29 1544.91 Z\" fill=\"#000000\" fill-rule=\"evenodd\" fill-opacity=\"1\" /><path clip-path=\"url(#clip580)\" d=\"M726.471 1514.29 L744.827 1514.29 L744.827 1518.22 L730.753 1518.22 L730.753 1526.7 Q731.772 1526.35 732.79 1526.19 Q733.809 1526 734.827 1526 Q740.614 1526 743.994 1529.17 Q747.374 1532.34 747.374 1537.76 Q747.374 1543.34 743.901 1546.44 Q740.429 1549.52 734.11 1549.52 Q731.934 1549.52 729.665 1549.15 Q727.42 1548.78 725.013 1548.04 L725.013 1543.34 Q727.096 1544.47 729.318 1545.03 Q731.54 1545.58 734.017 1545.58 Q738.022 1545.58 740.36 1543.48 Q742.698 1541.37 742.698 1537.76 Q742.698 1534.15 740.36 1532.04 Q738.022 1529.94 734.017 1529.94 Q732.142 1529.94 730.267 1530.35 Q728.415 1530.77 726.471 1531.65 L726.471 1514.29 Z\" fill=\"#000000\" fill-rule=\"evenodd\" fill-opacity=\"1\" /><path clip-path=\"url(#clip580)\" d=\"M1218.91 1514.29 L1237.27 1514.29 L1237.27 1518.22 L1223.19 1518.22 L1223.19 1526.7 Q1224.21 1526.35 1225.23 1526.19 Q1226.25 1526 1227.27 1526 Q1233.06 1526 1236.44 1529.17 Q1239.82 1532.34 1239.82 1537.76 Q1239.82 1543.34 1236.34 1546.44 Q1232.87 1549.52 1226.55 1549.52 Q1224.38 1549.52 1222.11 1549.15 Q1219.86 1548.78 1217.45 1548.04 L1217.45 1543.34 Q1219.54 1544.47 1221.76 1545.03 Q1223.98 1545.58 1226.46 1545.58 Q1230.46 1545.58 1232.8 1543.48 Q1235.14 1541.37 1235.14 1537.76 Q1235.14 1534.15 1232.8 1532.04 Q1230.46 1529.94 1226.46 1529.94 Q1224.58 1529.94 1222.71 1530.35 Q1220.86 1530.77 1218.91 1531.65 L1218.91 1514.29 Z\" fill=\"#000000\" fill-rule=\"evenodd\" fill-opacity=\"1\" /><path clip-path=\"url(#clip580)\" d=\"M1259.03 1517.37 Q1255.42 1517.37 1253.59 1520.93 Q1251.78 1524.47 1251.78 1531.6 Q1251.78 1538.71 1253.59 1542.27 Q1255.42 1545.82 1259.03 1545.82 Q1262.66 1545.82 1264.47 1542.27 Q1266.3 1538.71 1266.3 1531.6 Q1266.3 1524.47 1264.47 1520.93 Q1262.66 1517.37 1259.03 1517.37 M1259.03 1513.66 Q1264.84 1513.66 1267.89 1518.27 Q1270.97 1522.85 1270.97 1531.6 Q1270.97 1540.33 1267.89 1544.94 Q1264.84 1549.52 1259.03 1549.52 Q1253.22 1549.52 1250.14 1544.94 Q1247.08 1540.33 1247.08 1531.6 Q1247.08 1522.85 1250.14 1518.27 Q1253.22 1513.66 1259.03 1513.66 Z\" fill=\"#000000\" fill-rule=\"evenodd\" fill-opacity=\"1\" /><path clip-path=\"url(#clip580)\" d=\"M1741.26 1514.29 L1763.48 1514.29 L1763.48 1516.28 L1750.94 1548.85 L1746.05 1548.85 L1757.86 1518.22 L1741.26 1518.22 L1741.26 1514.29 Z\" fill=\"#000000\" fill-rule=\"evenodd\" fill-opacity=\"1\" /><path clip-path=\"url(#clip580)\" d=\"M1772.65 1514.29 L1791.01 1514.29 L1791.01 1518.22 L1776.93 1518.22 L1776.93 1526.7 Q1777.95 1526.35 1778.97 1526.19 Q1779.99 1526 1781.01 1526 Q1786.79 1526 1790.17 1529.17 Q1793.55 1532.34 1793.55 1537.76 Q1793.55 1543.34 1790.08 1546.44 Q1786.61 1549.52 1780.29 1549.52 Q1778.11 1549.52 1775.84 1549.15 Q1773.6 1548.78 1771.19 1548.04 L1771.19 1543.34 Q1773.27 1544.47 1775.5 1545.03 Q1777.72 1545.58 1780.2 1545.58 Q1784.2 1545.58 1786.54 1543.48 Q1788.88 1541.37 1788.88 1537.76 Q1788.88 1534.15 1786.54 1532.04 Q1784.2 1529.94 1780.2 1529.94 Q1778.32 1529.94 1776.45 1530.35 Q1774.59 1530.77 1772.65 1531.65 L1772.65 1514.29 Z\" fill=\"#000000\" fill-rule=\"evenodd\" fill-opacity=\"1\" /><path clip-path=\"url(#clip580)\" d=\"M2250.21 1544.91 L2257.85 1544.91 L2257.85 1518.55 L2249.54 1520.21 L2249.54 1515.95 L2257.8 1514.29 L2262.48 1514.29 L2262.48 1544.91 L2270.11 1544.91 L2270.11 1548.85 L2250.21 1548.85 L2250.21 1544.91 Z\" fill=\"#000000\" fill-rule=\"evenodd\" fill-opacity=\"1\" /><path clip-path=\"url(#clip580)\" d=\"M2289.56 1517.37 Q2285.95 1517.37 2284.12 1520.93 Q2282.31 1524.47 2282.31 1531.6 Q2282.31 1538.71 2284.12 1542.27 Q2285.95 1545.82 2289.56 1545.82 Q2293.19 1545.82 2295 1542.27 Q2296.83 1538.71 2296.83 1531.6 Q2296.83 1524.47 2295 1520.93 Q2293.19 1517.37 2289.56 1517.37 M2289.56 1513.66 Q2295.37 1513.66 2298.42 1518.27 Q2301.5 1522.85 2301.5 1531.6 Q2301.5 1540.33 2298.42 1544.94 Q2295.37 1549.52 2289.56 1549.52 Q2283.75 1549.52 2280.67 1544.94 Q2277.61 1540.33 2277.61 1531.6 Q2277.61 1522.85 2280.67 1518.27 Q2283.75 1513.66 2289.56 1513.66 Z\" fill=\"#000000\" fill-rule=\"evenodd\" fill-opacity=\"1\" /><path clip-path=\"url(#clip580)\" d=\"M2319.72 1517.37 Q2316.11 1517.37 2314.28 1520.93 Q2312.48 1524.47 2312.48 1531.6 Q2312.48 1538.71 2314.28 1542.27 Q2316.11 1545.82 2319.72 1545.82 Q2323.35 1545.82 2325.16 1542.27 Q2326.99 1538.71 2326.99 1531.6 Q2326.99 1524.47 2325.16 1520.93 Q2323.35 1517.37 2319.72 1517.37 M2319.72 1513.66 Q2325.53 1513.66 2328.59 1518.27 Q2331.67 1522.85 2331.67 1531.6 Q2331.67 1540.33 2328.59 1544.94 Q2325.53 1549.52 2319.72 1549.52 Q2313.91 1549.52 2310.83 1544.94 Q2307.78 1540.33 2307.78 1531.6 Q2307.78 1522.85 2310.83 1518.27 Q2313.91 1513.66 2319.72 1513.66 Z\" fill=\"#000000\" fill-rule=\"evenodd\" fill-opacity=\"1\" /><polyline clip-path=\"url(#clip582)\" style=\"stroke:#000000; stroke-linecap:butt; stroke-linejoin:round; stroke-width:2; stroke-opacity:0.1; fill:none\" points=\"\n",
       "  156.598,1466.54 2352.76,1466.54 \n",
       "  \"/>\n",
       "<polyline clip-path=\"url(#clip582)\" style=\"stroke:#000000; stroke-linecap:butt; stroke-linejoin:round; stroke-width:2; stroke-opacity:0.1; fill:none\" points=\"\n",
       "  156.598,1179.01 2352.76,1179.01 \n",
       "  \"/>\n",
       "<polyline clip-path=\"url(#clip582)\" style=\"stroke:#000000; stroke-linecap:butt; stroke-linejoin:round; stroke-width:2; stroke-opacity:0.1; fill:none\" points=\"\n",
       "  156.598,891.479 2352.76,891.479 \n",
       "  \"/>\n",
       "<polyline clip-path=\"url(#clip582)\" style=\"stroke:#000000; stroke-linecap:butt; stroke-linejoin:round; stroke-width:2; stroke-opacity:0.1; fill:none\" points=\"\n",
       "  156.598,603.95 2352.76,603.95 \n",
       "  \"/>\n",
       "<polyline clip-path=\"url(#clip582)\" style=\"stroke:#000000; stroke-linecap:butt; stroke-linejoin:round; stroke-width:2; stroke-opacity:0.1; fill:none\" points=\"\n",
       "  156.598,316.421 2352.76,316.421 \n",
       "  \"/>\n",
       "<polyline clip-path=\"url(#clip580)\" style=\"stroke:#000000; stroke-linecap:butt; stroke-linejoin:round; stroke-width:4; stroke-opacity:1; fill:none\" points=\"\n",
       "  156.598,1486.45 156.598,47.2441 \n",
       "  \"/>\n",
       "<polyline clip-path=\"url(#clip580)\" style=\"stroke:#000000; stroke-linecap:butt; stroke-linejoin:round; stroke-width:4; stroke-opacity:1; fill:none\" points=\"\n",
       "  156.598,1466.54 175.496,1466.54 \n",
       "  \"/>\n",
       "<polyline clip-path=\"url(#clip580)\" style=\"stroke:#000000; stroke-linecap:butt; stroke-linejoin:round; stroke-width:4; stroke-opacity:1; fill:none\" points=\"\n",
       "  156.598,1179.01 175.496,1179.01 \n",
       "  \"/>\n",
       "<polyline clip-path=\"url(#clip580)\" style=\"stroke:#000000; stroke-linecap:butt; stroke-linejoin:round; stroke-width:4; stroke-opacity:1; fill:none\" points=\"\n",
       "  156.598,891.479 175.496,891.479 \n",
       "  \"/>\n",
       "<polyline clip-path=\"url(#clip580)\" style=\"stroke:#000000; stroke-linecap:butt; stroke-linejoin:round; stroke-width:4; stroke-opacity:1; fill:none\" points=\"\n",
       "  156.598,603.95 175.496,603.95 \n",
       "  \"/>\n",
       "<polyline clip-path=\"url(#clip580)\" style=\"stroke:#000000; stroke-linecap:butt; stroke-linejoin:round; stroke-width:4; stroke-opacity:1; fill:none\" points=\"\n",
       "  156.598,316.421 175.496,316.421 \n",
       "  \"/>\n",
       "<path clip-path=\"url(#clip580)\" d=\"M63.4226 1452.34 Q59.8115 1452.34 57.9828 1455.9 Q56.1773 1459.44 56.1773 1466.57 Q56.1773 1473.68 57.9828 1477.24 Q59.8115 1480.79 63.4226 1480.79 Q67.0569 1480.79 68.8624 1477.24 Q70.6911 1473.68 70.6911 1466.57 Q70.6911 1459.44 68.8624 1455.9 Q67.0569 1452.34 63.4226 1452.34 M63.4226 1448.63 Q69.2328 1448.63 72.2883 1453.24 Q75.367 1457.82 75.367 1466.57 Q75.367 1475.3 72.2883 1479.91 Q69.2328 1484.49 63.4226 1484.49 Q57.6125 1484.49 54.5338 1479.91 Q51.4782 1475.3 51.4782 1466.57 Q51.4782 1457.82 54.5338 1453.24 Q57.6125 1448.63 63.4226 1448.63 Z\" fill=\"#000000\" fill-rule=\"evenodd\" fill-opacity=\"1\" /><path clip-path=\"url(#clip580)\" d=\"M83.5845 1477.94 L88.4688 1477.94 L88.4688 1483.82 L83.5845 1483.82 L83.5845 1477.94 Z\" fill=\"#000000\" fill-rule=\"evenodd\" fill-opacity=\"1\" /><path clip-path=\"url(#clip580)\" d=\"M108.654 1452.34 Q105.043 1452.34 103.214 1455.9 Q101.409 1459.44 101.409 1466.57 Q101.409 1473.68 103.214 1477.24 Q105.043 1480.79 108.654 1480.79 Q112.288 1480.79 114.094 1477.24 Q115.922 1473.68 115.922 1466.57 Q115.922 1459.44 114.094 1455.9 Q112.288 1452.34 108.654 1452.34 M108.654 1448.63 Q114.464 1448.63 117.52 1453.24 Q120.598 1457.82 120.598 1466.57 Q120.598 1475.3 117.52 1479.91 Q114.464 1484.49 108.654 1484.49 Q102.844 1484.49 99.765 1479.91 Q96.7095 1475.3 96.7095 1466.57 Q96.7095 1457.82 99.765 1453.24 Q102.844 1448.63 108.654 1448.63 Z\" fill=\"#000000\" fill-rule=\"evenodd\" fill-opacity=\"1\" /><path clip-path=\"url(#clip580)\" d=\"M65.0198 1164.81 Q61.4087 1164.81 59.58 1168.37 Q57.7745 1171.91 57.7745 1179.04 Q57.7745 1186.15 59.58 1189.71 Q61.4087 1193.26 65.0198 1193.26 Q68.6541 1193.26 70.4596 1189.71 Q72.2883 1186.15 72.2883 1179.04 Q72.2883 1171.91 70.4596 1168.37 Q68.6541 1164.81 65.0198 1164.81 M65.0198 1161.1 Q70.83 1161.1 73.8855 1165.71 Q76.9642 1170.29 76.9642 1179.04 Q76.9642 1187.77 73.8855 1192.38 Q70.83 1196.96 65.0198 1196.96 Q59.2097 1196.96 56.131 1192.38 Q53.0754 1187.77 53.0754 1179.04 Q53.0754 1170.29 56.131 1165.71 Q59.2097 1161.1 65.0198 1161.1 Z\" fill=\"#000000\" fill-rule=\"evenodd\" fill-opacity=\"1\" /><path clip-path=\"url(#clip580)\" d=\"M85.1818 1190.41 L90.066 1190.41 L90.066 1196.29 L85.1818 1196.29 L85.1818 1190.41 Z\" fill=\"#000000\" fill-rule=\"evenodd\" fill-opacity=\"1\" /><path clip-path=\"url(#clip580)\" d=\"M104.279 1192.35 L120.598 1192.35 L120.598 1196.29 L98.6539 1196.29 L98.6539 1192.35 Q101.316 1189.6 105.899 1184.97 Q110.506 1180.32 111.686 1178.97 Q113.932 1176.45 114.811 1174.71 Q115.714 1172.96 115.714 1171.27 Q115.714 1168.51 113.77 1166.77 Q111.848 1165.04 108.746 1165.04 Q106.547 1165.04 104.094 1165.8 Q101.663 1166.57 98.8854 1168.12 L98.8854 1163.4 Q101.709 1162.26 104.163 1161.68 Q106.617 1161.1 108.654 1161.1 Q114.024 1161.1 117.219 1163.79 Q120.413 1166.47 120.413 1170.96 Q120.413 1173.09 119.603 1175.02 Q118.816 1176.91 116.709 1179.51 Q116.131 1180.18 113.029 1183.39 Q109.927 1186.59 104.279 1192.35 Z\" fill=\"#000000\" fill-rule=\"evenodd\" fill-opacity=\"1\" /><path clip-path=\"url(#clip580)\" d=\"M62.9365 877.278 Q59.3254 877.278 57.4967 880.843 Q55.6912 884.384 55.6912 891.514 Q55.6912 898.62 57.4967 902.185 Q59.3254 905.727 62.9365 905.727 Q66.5707 905.727 68.3763 902.185 Q70.205 898.62 70.205 891.514 Q70.205 884.384 68.3763 880.843 Q66.5707 877.278 62.9365 877.278 M62.9365 873.574 Q68.7467 873.574 71.8022 878.181 Q74.8809 882.764 74.8809 891.514 Q74.8809 900.241 71.8022 904.847 Q68.7467 909.431 62.9365 909.431 Q57.1264 909.431 54.0477 904.847 Q50.9921 900.241 50.9921 891.514 Q50.9921 882.764 54.0477 878.181 Q57.1264 873.574 62.9365 873.574 Z\" fill=\"#000000\" fill-rule=\"evenodd\" fill-opacity=\"1\" /><path clip-path=\"url(#clip580)\" d=\"M83.0984 902.88 L87.9827 902.88 L87.9827 908.759 L83.0984 908.759 L83.0984 902.88 Z\" fill=\"#000000\" fill-rule=\"evenodd\" fill-opacity=\"1\" /><path clip-path=\"url(#clip580)\" d=\"M111.015 878.273 L99.2095 896.722 L111.015 896.722 L111.015 878.273 M109.788 874.199 L115.668 874.199 L115.668 896.722 L120.598 896.722 L120.598 900.611 L115.668 900.611 L115.668 908.759 L111.015 908.759 L111.015 900.611 L95.4132 900.611 L95.4132 896.097 L109.788 874.199 Z\" fill=\"#000000\" fill-rule=\"evenodd\" fill-opacity=\"1\" /><path clip-path=\"url(#clip580)\" d=\"M63.2606 589.749 Q59.6495 589.749 57.8208 593.314 Q56.0152 596.855 56.0152 603.985 Q56.0152 611.091 57.8208 614.656 Q59.6495 618.198 63.2606 618.198 Q66.8948 618.198 68.7004 614.656 Q70.5291 611.091 70.5291 603.985 Q70.5291 596.855 68.7004 593.314 Q66.8948 589.749 63.2606 589.749 M63.2606 586.045 Q69.0707 586.045 72.1263 590.652 Q75.205 595.235 75.205 603.985 Q75.205 612.712 72.1263 617.318 Q69.0707 621.901 63.2606 621.901 Q57.4504 621.901 54.3717 617.318 Q51.3162 612.712 51.3162 603.985 Q51.3162 595.235 54.3717 590.652 Q57.4504 586.045 63.2606 586.045 Z\" fill=\"#000000\" fill-rule=\"evenodd\" fill-opacity=\"1\" /><path clip-path=\"url(#clip580)\" d=\"M83.4225 615.35 L88.3067 615.35 L88.3067 621.23 L83.4225 621.23 L83.4225 615.35 Z\" fill=\"#000000\" fill-rule=\"evenodd\" fill-opacity=\"1\" /><path clip-path=\"url(#clip580)\" d=\"M109.071 602.087 Q105.922 602.087 104.071 604.239 Q102.242 606.392 102.242 610.142 Q102.242 613.869 104.071 616.045 Q105.922 618.198 109.071 618.198 Q112.219 618.198 114.047 616.045 Q115.899 613.869 115.899 610.142 Q115.899 606.392 114.047 604.239 Q112.219 602.087 109.071 602.087 M118.353 587.434 L118.353 591.693 Q116.594 590.86 114.788 590.42 Q113.006 589.98 111.246 589.98 Q106.617 589.98 104.163 593.105 Q101.733 596.23 101.385 602.55 Q102.751 600.536 104.811 599.471 Q106.871 598.383 109.348 598.383 Q114.557 598.383 117.566 601.554 Q120.598 604.702 120.598 610.142 Q120.598 615.466 117.45 618.684 Q114.302 621.901 109.071 621.901 Q103.075 621.901 99.9039 617.318 Q96.7326 612.712 96.7326 603.985 Q96.7326 595.79 100.621 590.929 Q104.51 586.045 111.061 586.045 Q112.82 586.045 114.603 586.392 Q116.408 586.74 118.353 587.434 Z\" fill=\"#000000\" fill-rule=\"evenodd\" fill-opacity=\"1\" /><path clip-path=\"url(#clip580)\" d=\"M63.5152 302.22 Q59.9041 302.22 58.0754 305.784 Q56.2699 309.326 56.2699 316.456 Q56.2699 323.562 58.0754 327.127 Q59.9041 330.669 63.5152 330.669 Q67.1494 330.669 68.955 327.127 Q70.7837 323.562 70.7837 316.456 Q70.7837 309.326 68.955 305.784 Q67.1494 302.22 63.5152 302.22 M63.5152 298.516 Q69.3254 298.516 72.3809 303.122 Q75.4596 307.706 75.4596 316.456 Q75.4596 325.182 72.3809 329.789 Q69.3254 334.372 63.5152 334.372 Q57.7051 334.372 54.6264 329.789 Q51.5708 325.182 51.5708 316.456 Q51.5708 307.706 54.6264 303.122 Q57.7051 298.516 63.5152 298.516 Z\" fill=\"#000000\" fill-rule=\"evenodd\" fill-opacity=\"1\" /><path clip-path=\"url(#clip580)\" d=\"M83.6771 327.821 L88.5614 327.821 L88.5614 333.701 L83.6771 333.701 L83.6771 327.821 Z\" fill=\"#000000\" fill-rule=\"evenodd\" fill-opacity=\"1\" /><path clip-path=\"url(#clip580)\" d=\"M108.746 317.289 Q105.413 317.289 103.492 319.071 Q101.594 320.854 101.594 323.979 Q101.594 327.104 103.492 328.886 Q105.413 330.669 108.746 330.669 Q112.08 330.669 114.001 328.886 Q115.922 327.081 115.922 323.979 Q115.922 320.854 114.001 319.071 Q112.103 317.289 108.746 317.289 M104.071 315.298 Q101.061 314.558 99.3715 312.497 Q97.7048 310.437 97.7048 307.474 Q97.7048 303.331 100.645 300.923 Q103.608 298.516 108.746 298.516 Q113.908 298.516 116.848 300.923 Q119.788 303.331 119.788 307.474 Q119.788 310.437 118.098 312.497 Q116.432 314.558 113.445 315.298 Q116.825 316.085 118.7 318.377 Q120.598 320.669 120.598 323.979 Q120.598 329.002 117.52 331.687 Q114.464 334.372 108.746 334.372 Q103.029 334.372 99.9502 331.687 Q96.8947 329.002 96.8947 323.979 Q96.8947 320.669 98.7928 318.377 Q100.691 316.085 104.071 315.298 M102.358 307.914 Q102.358 310.599 104.024 312.104 Q105.714 313.608 108.746 313.608 Q111.756 313.608 113.445 312.104 Q115.158 310.599 115.158 307.914 Q115.158 305.229 113.445 303.724 Q111.756 302.22 108.746 302.22 Q105.714 302.22 104.024 303.724 Q102.358 305.229 102.358 307.914 Z\" fill=\"#000000\" fill-rule=\"evenodd\" fill-opacity=\"1\" /><circle clip-path=\"url(#clip582)\" cx=\"218.754\" cy=\"464.063\" r=\"14\" fill=\"#009af9\" fill-rule=\"evenodd\" fill-opacity=\"1\" stroke=\"#000000\" stroke-opacity=\"1\" stroke-width=\"3.2\"/>\n",
       "<circle clip-path=\"url(#clip582)\" cx=\"239.681\" cy=\"1324\" r=\"14\" fill=\"#009af9\" fill-rule=\"evenodd\" fill-opacity=\"1\" stroke=\"#000000\" stroke-opacity=\"1\" stroke-width=\"3.2\"/>\n",
       "<circle clip-path=\"url(#clip582)\" cx=\"260.609\" cy=\"689.535\" r=\"14\" fill=\"#009af9\" fill-rule=\"evenodd\" fill-opacity=\"1\" stroke=\"#000000\" stroke-opacity=\"1\" stroke-width=\"3.2\"/>\n",
       "<circle clip-path=\"url(#clip582)\" cx=\"281.537\" cy=\"552.505\" r=\"14\" fill=\"#009af9\" fill-rule=\"evenodd\" fill-opacity=\"1\" stroke=\"#000000\" stroke-opacity=\"1\" stroke-width=\"3.2\"/>\n",
       "<circle clip-path=\"url(#clip582)\" cx=\"302.465\" cy=\"97.5588\" r=\"14\" fill=\"#009af9\" fill-rule=\"evenodd\" fill-opacity=\"1\" stroke=\"#000000\" stroke-opacity=\"1\" stroke-width=\"3.2\"/>\n",
       "<circle clip-path=\"url(#clip582)\" cx=\"323.392\" cy=\"162.399\" r=\"14\" fill=\"#009af9\" fill-rule=\"evenodd\" fill-opacity=\"1\" stroke=\"#000000\" stroke-opacity=\"1\" stroke-width=\"3.2\"/>\n",
       "<circle clip-path=\"url(#clip582)\" cx=\"344.32\" cy=\"225.976\" r=\"14\" fill=\"#009af9\" fill-rule=\"evenodd\" fill-opacity=\"1\" stroke=\"#000000\" stroke-opacity=\"1\" stroke-width=\"3.2\"/>\n",
       "<circle clip-path=\"url(#clip582)\" cx=\"365.248\" cy=\"700.848\" r=\"14\" fill=\"#009af9\" fill-rule=\"evenodd\" fill-opacity=\"1\" stroke=\"#000000\" stroke-opacity=\"1\" stroke-width=\"3.2\"/>\n",
       "<circle clip-path=\"url(#clip582)\" cx=\"386.176\" cy=\"1445.72\" r=\"14\" fill=\"#009af9\" fill-rule=\"evenodd\" fill-opacity=\"1\" stroke=\"#000000\" stroke-opacity=\"1\" stroke-width=\"3.2\"/>\n",
       "<circle clip-path=\"url(#clip582)\" cx=\"407.103\" cy=\"1343.18\" r=\"14\" fill=\"#009af9\" fill-rule=\"evenodd\" fill-opacity=\"1\" stroke=\"#000000\" stroke-opacity=\"1\" stroke-width=\"3.2\"/>\n",
       "<circle clip-path=\"url(#clip582)\" cx=\"428.031\" cy=\"379.906\" r=\"14\" fill=\"#009af9\" fill-rule=\"evenodd\" fill-opacity=\"1\" stroke=\"#000000\" stroke-opacity=\"1\" stroke-width=\"3.2\"/>\n",
       "<circle clip-path=\"url(#clip582)\" cx=\"448.959\" cy=\"459.345\" r=\"14\" fill=\"#009af9\" fill-rule=\"evenodd\" fill-opacity=\"1\" stroke=\"#000000\" stroke-opacity=\"1\" stroke-width=\"3.2\"/>\n",
       "<circle clip-path=\"url(#clip582)\" cx=\"469.887\" cy=\"705.458\" r=\"14\" fill=\"#009af9\" fill-rule=\"evenodd\" fill-opacity=\"1\" stroke=\"#000000\" stroke-opacity=\"1\" stroke-width=\"3.2\"/>\n",
       "<circle clip-path=\"url(#clip582)\" cx=\"490.814\" cy=\"306.783\" r=\"14\" fill=\"#009af9\" fill-rule=\"evenodd\" fill-opacity=\"1\" stroke=\"#000000\" stroke-opacity=\"1\" stroke-width=\"3.2\"/>\n",
       "<circle clip-path=\"url(#clip582)\" cx=\"511.742\" cy=\"954.104\" r=\"14\" fill=\"#009af9\" fill-rule=\"evenodd\" fill-opacity=\"1\" stroke=\"#000000\" stroke-opacity=\"1\" stroke-width=\"3.2\"/>\n",
       "<circle clip-path=\"url(#clip582)\" cx=\"532.67\" cy=\"237.077\" r=\"14\" fill=\"#009af9\" fill-rule=\"evenodd\" fill-opacity=\"1\" stroke=\"#000000\" stroke-opacity=\"1\" stroke-width=\"3.2\"/>\n",
       "<circle clip-path=\"url(#clip582)\" cx=\"553.598\" cy=\"671.936\" r=\"14\" fill=\"#009af9\" fill-rule=\"evenodd\" fill-opacity=\"1\" stroke=\"#000000\" stroke-opacity=\"1\" stroke-width=\"3.2\"/>\n",
       "<circle clip-path=\"url(#clip582)\" cx=\"574.525\" cy=\"495.09\" r=\"14\" fill=\"#009af9\" fill-rule=\"evenodd\" fill-opacity=\"1\" stroke=\"#000000\" stroke-opacity=\"1\" stroke-width=\"3.2\"/>\n",
       "<circle clip-path=\"url(#clip582)\" cx=\"595.453\" cy=\"1220.92\" r=\"14\" fill=\"#009af9\" fill-rule=\"evenodd\" fill-opacity=\"1\" stroke=\"#000000\" stroke-opacity=\"1\" stroke-width=\"3.2\"/>\n",
       "<circle clip-path=\"url(#clip582)\" cx=\"616.381\" cy=\"779.712\" r=\"14\" fill=\"#009af9\" fill-rule=\"evenodd\" fill-opacity=\"1\" stroke=\"#000000\" stroke-opacity=\"1\" stroke-width=\"3.2\"/>\n",
       "<circle clip-path=\"url(#clip582)\" cx=\"637.309\" cy=\"1441.02\" r=\"14\" fill=\"#009af9\" fill-rule=\"evenodd\" fill-opacity=\"1\" stroke=\"#000000\" stroke-opacity=\"1\" stroke-width=\"3.2\"/>\n",
       "<circle clip-path=\"url(#clip582)\" cx=\"658.236\" cy=\"571.541\" r=\"14\" fill=\"#009af9\" fill-rule=\"evenodd\" fill-opacity=\"1\" stroke=\"#000000\" stroke-opacity=\"1\" stroke-width=\"3.2\"/>\n",
       "<circle clip-path=\"url(#clip582)\" cx=\"679.164\" cy=\"676.142\" r=\"14\" fill=\"#009af9\" fill-rule=\"evenodd\" fill-opacity=\"1\" stroke=\"#000000\" stroke-opacity=\"1\" stroke-width=\"3.2\"/>\n",
       "<circle clip-path=\"url(#clip582)\" cx=\"700.092\" cy=\"1084.82\" r=\"14\" fill=\"#009af9\" fill-rule=\"evenodd\" fill-opacity=\"1\" stroke=\"#000000\" stroke-opacity=\"1\" stroke-width=\"3.2\"/>\n",
       "<circle clip-path=\"url(#clip582)\" cx=\"721.02\" cy=\"722.714\" r=\"14\" fill=\"#009af9\" fill-rule=\"evenodd\" fill-opacity=\"1\" stroke=\"#000000\" stroke-opacity=\"1\" stroke-width=\"3.2\"/>\n",
       "<circle clip-path=\"url(#clip582)\" cx=\"741.947\" cy=\"536.693\" r=\"14\" fill=\"#009af9\" fill-rule=\"evenodd\" fill-opacity=\"1\" stroke=\"#000000\" stroke-opacity=\"1\" stroke-width=\"3.2\"/>\n",
       "<circle clip-path=\"url(#clip582)\" cx=\"762.875\" cy=\"426.974\" r=\"14\" fill=\"#009af9\" fill-rule=\"evenodd\" fill-opacity=\"1\" stroke=\"#000000\" stroke-opacity=\"1\" stroke-width=\"3.2\"/>\n",
       "<circle clip-path=\"url(#clip582)\" cx=\"783.803\" cy=\"384.108\" r=\"14\" fill=\"#009af9\" fill-rule=\"evenodd\" fill-opacity=\"1\" stroke=\"#000000\" stroke-opacity=\"1\" stroke-width=\"3.2\"/>\n",
       "<circle clip-path=\"url(#clip582)\" cx=\"804.731\" cy=\"1022.18\" r=\"14\" fill=\"#009af9\" fill-rule=\"evenodd\" fill-opacity=\"1\" stroke=\"#000000\" stroke-opacity=\"1\" stroke-width=\"3.2\"/>\n",
       "<circle clip-path=\"url(#clip582)\" cx=\"825.658\" cy=\"1123.77\" r=\"14\" fill=\"#009af9\" fill-rule=\"evenodd\" fill-opacity=\"1\" stroke=\"#000000\" stroke-opacity=\"1\" stroke-width=\"3.2\"/>\n",
       "<circle clip-path=\"url(#clip582)\" cx=\"846.586\" cy=\"395.88\" r=\"14\" fill=\"#009af9\" fill-rule=\"evenodd\" fill-opacity=\"1\" stroke=\"#000000\" stroke-opacity=\"1\" stroke-width=\"3.2\"/>\n",
       "<circle clip-path=\"url(#clip582)\" cx=\"867.514\" cy=\"735\" r=\"14\" fill=\"#009af9\" fill-rule=\"evenodd\" fill-opacity=\"1\" stroke=\"#000000\" stroke-opacity=\"1\" stroke-width=\"3.2\"/>\n",
       "<circle clip-path=\"url(#clip582)\" cx=\"888.442\" cy=\"688.271\" r=\"14\" fill=\"#009af9\" fill-rule=\"evenodd\" fill-opacity=\"1\" stroke=\"#000000\" stroke-opacity=\"1\" stroke-width=\"3.2\"/>\n",
       "<circle clip-path=\"url(#clip582)\" cx=\"909.369\" cy=\"1058.3\" r=\"14\" fill=\"#009af9\" fill-rule=\"evenodd\" fill-opacity=\"1\" stroke=\"#000000\" stroke-opacity=\"1\" stroke-width=\"3.2\"/>\n",
       "<circle clip-path=\"url(#clip582)\" cx=\"930.297\" cy=\"1326.41\" r=\"14\" fill=\"#009af9\" fill-rule=\"evenodd\" fill-opacity=\"1\" stroke=\"#000000\" stroke-opacity=\"1\" stroke-width=\"3.2\"/>\n",
       "<circle clip-path=\"url(#clip582)\" cx=\"951.225\" cy=\"611.23\" r=\"14\" fill=\"#009af9\" fill-rule=\"evenodd\" fill-opacity=\"1\" stroke=\"#000000\" stroke-opacity=\"1\" stroke-width=\"3.2\"/>\n",
       "<circle clip-path=\"url(#clip582)\" cx=\"972.152\" cy=\"1308.25\" r=\"14\" fill=\"#009af9\" fill-rule=\"evenodd\" fill-opacity=\"1\" stroke=\"#000000\" stroke-opacity=\"1\" stroke-width=\"3.2\"/>\n",
       "<circle clip-path=\"url(#clip582)\" cx=\"993.08\" cy=\"913.641\" r=\"14\" fill=\"#009af9\" fill-rule=\"evenodd\" fill-opacity=\"1\" stroke=\"#000000\" stroke-opacity=\"1\" stroke-width=\"3.2\"/>\n",
       "<circle clip-path=\"url(#clip582)\" cx=\"1014.01\" cy=\"466.221\" r=\"14\" fill=\"#009af9\" fill-rule=\"evenodd\" fill-opacity=\"1\" stroke=\"#000000\" stroke-opacity=\"1\" stroke-width=\"3.2\"/>\n",
       "<circle clip-path=\"url(#clip582)\" cx=\"1034.94\" cy=\"457.519\" r=\"14\" fill=\"#009af9\" fill-rule=\"evenodd\" fill-opacity=\"1\" stroke=\"#000000\" stroke-opacity=\"1\" stroke-width=\"3.2\"/>\n",
       "<circle clip-path=\"url(#clip582)\" cx=\"1055.86\" cy=\"507.633\" r=\"14\" fill=\"#009af9\" fill-rule=\"evenodd\" fill-opacity=\"1\" stroke=\"#000000\" stroke-opacity=\"1\" stroke-width=\"3.2\"/>\n",
       "<circle clip-path=\"url(#clip582)\" cx=\"1076.79\" cy=\"658.612\" r=\"14\" fill=\"#009af9\" fill-rule=\"evenodd\" fill-opacity=\"1\" stroke=\"#000000\" stroke-opacity=\"1\" stroke-width=\"3.2\"/>\n",
       "<circle clip-path=\"url(#clip582)\" cx=\"1097.72\" cy=\"1034.56\" r=\"14\" fill=\"#009af9\" fill-rule=\"evenodd\" fill-opacity=\"1\" stroke=\"#000000\" stroke-opacity=\"1\" stroke-width=\"3.2\"/>\n",
       "<circle clip-path=\"url(#clip582)\" cx=\"1118.65\" cy=\"283.438\" r=\"14\" fill=\"#009af9\" fill-rule=\"evenodd\" fill-opacity=\"1\" stroke=\"#000000\" stroke-opacity=\"1\" stroke-width=\"3.2\"/>\n",
       "<circle clip-path=\"url(#clip582)\" cx=\"1139.57\" cy=\"657.196\" r=\"14\" fill=\"#009af9\" fill-rule=\"evenodd\" fill-opacity=\"1\" stroke=\"#000000\" stroke-opacity=\"1\" stroke-width=\"3.2\"/>\n",
       "<circle clip-path=\"url(#clip582)\" cx=\"1160.5\" cy=\"937.501\" r=\"14\" fill=\"#009af9\" fill-rule=\"evenodd\" fill-opacity=\"1\" stroke=\"#000000\" stroke-opacity=\"1\" stroke-width=\"3.2\"/>\n",
       "<circle clip-path=\"url(#clip582)\" cx=\"1181.43\" cy=\"619.352\" r=\"14\" fill=\"#009af9\" fill-rule=\"evenodd\" fill-opacity=\"1\" stroke=\"#000000\" stroke-opacity=\"1\" stroke-width=\"3.2\"/>\n",
       "<circle clip-path=\"url(#clip582)\" cx=\"1202.36\" cy=\"1134.76\" r=\"14\" fill=\"#009af9\" fill-rule=\"evenodd\" fill-opacity=\"1\" stroke=\"#000000\" stroke-opacity=\"1\" stroke-width=\"3.2\"/>\n",
       "<circle clip-path=\"url(#clip582)\" cx=\"1223.29\" cy=\"498.101\" r=\"14\" fill=\"#009af9\" fill-rule=\"evenodd\" fill-opacity=\"1\" stroke=\"#000000\" stroke-opacity=\"1\" stroke-width=\"3.2\"/>\n",
       "<circle clip-path=\"url(#clip582)\" cx=\"1244.21\" cy=\"1202.15\" r=\"14\" fill=\"#009af9\" fill-rule=\"evenodd\" fill-opacity=\"1\" stroke=\"#000000\" stroke-opacity=\"1\" stroke-width=\"3.2\"/>\n",
       "<circle clip-path=\"url(#clip582)\" cx=\"1265.14\" cy=\"179.654\" r=\"14\" fill=\"#009af9\" fill-rule=\"evenodd\" fill-opacity=\"1\" stroke=\"#000000\" stroke-opacity=\"1\" stroke-width=\"3.2\"/>\n",
       "<circle clip-path=\"url(#clip582)\" cx=\"1286.07\" cy=\"1356.67\" r=\"14\" fill=\"#009af9\" fill-rule=\"evenodd\" fill-opacity=\"1\" stroke=\"#000000\" stroke-opacity=\"1\" stroke-width=\"3.2\"/>\n",
       "<circle clip-path=\"url(#clip582)\" cx=\"1307\" cy=\"671.619\" r=\"14\" fill=\"#009af9\" fill-rule=\"evenodd\" fill-opacity=\"1\" stroke=\"#000000\" stroke-opacity=\"1\" stroke-width=\"3.2\"/>\n",
       "<circle clip-path=\"url(#clip582)\" cx=\"1327.92\" cy=\"1273.98\" r=\"14\" fill=\"#009af9\" fill-rule=\"evenodd\" fill-opacity=\"1\" stroke=\"#000000\" stroke-opacity=\"1\" stroke-width=\"3.2\"/>\n",
       "<circle clip-path=\"url(#clip582)\" cx=\"1348.85\" cy=\"631.234\" r=\"14\" fill=\"#009af9\" fill-rule=\"evenodd\" fill-opacity=\"1\" stroke=\"#000000\" stroke-opacity=\"1\" stroke-width=\"3.2\"/>\n",
       "<circle clip-path=\"url(#clip582)\" cx=\"1369.78\" cy=\"1430.62\" r=\"14\" fill=\"#009af9\" fill-rule=\"evenodd\" fill-opacity=\"1\" stroke=\"#000000\" stroke-opacity=\"1\" stroke-width=\"3.2\"/>\n",
       "<circle clip-path=\"url(#clip582)\" cx=\"1390.71\" cy=\"548.249\" r=\"14\" fill=\"#009af9\" fill-rule=\"evenodd\" fill-opacity=\"1\" stroke=\"#000000\" stroke-opacity=\"1\" stroke-width=\"3.2\"/>\n",
       "<circle clip-path=\"url(#clip582)\" cx=\"1411.64\" cy=\"298.011\" r=\"14\" fill=\"#009af9\" fill-rule=\"evenodd\" fill-opacity=\"1\" stroke=\"#000000\" stroke-opacity=\"1\" stroke-width=\"3.2\"/>\n",
       "<circle clip-path=\"url(#clip582)\" cx=\"1432.56\" cy=\"1294.33\" r=\"14\" fill=\"#009af9\" fill-rule=\"evenodd\" fill-opacity=\"1\" stroke=\"#000000\" stroke-opacity=\"1\" stroke-width=\"3.2\"/>\n",
       "<circle clip-path=\"url(#clip582)\" cx=\"1453.49\" cy=\"1405.97\" r=\"14\" fill=\"#009af9\" fill-rule=\"evenodd\" fill-opacity=\"1\" stroke=\"#000000\" stroke-opacity=\"1\" stroke-width=\"3.2\"/>\n",
       "<circle clip-path=\"url(#clip582)\" cx=\"1474.42\" cy=\"1354.32\" r=\"14\" fill=\"#009af9\" fill-rule=\"evenodd\" fill-opacity=\"1\" stroke=\"#000000\" stroke-opacity=\"1\" stroke-width=\"3.2\"/>\n",
       "<circle clip-path=\"url(#clip582)\" cx=\"1495.35\" cy=\"883.559\" r=\"14\" fill=\"#009af9\" fill-rule=\"evenodd\" fill-opacity=\"1\" stroke=\"#000000\" stroke-opacity=\"1\" stroke-width=\"3.2\"/>\n",
       "<circle clip-path=\"url(#clip582)\" cx=\"1516.27\" cy=\"965.831\" r=\"14\" fill=\"#009af9\" fill-rule=\"evenodd\" fill-opacity=\"1\" stroke=\"#000000\" stroke-opacity=\"1\" stroke-width=\"3.2\"/>\n",
       "<circle clip-path=\"url(#clip582)\" cx=\"1537.2\" cy=\"1144.43\" r=\"14\" fill=\"#009af9\" fill-rule=\"evenodd\" fill-opacity=\"1\" stroke=\"#000000\" stroke-opacity=\"1\" stroke-width=\"3.2\"/>\n",
       "<circle clip-path=\"url(#clip582)\" cx=\"1558.13\" cy=\"1419.97\" r=\"14\" fill=\"#009af9\" fill-rule=\"evenodd\" fill-opacity=\"1\" stroke=\"#000000\" stroke-opacity=\"1\" stroke-width=\"3.2\"/>\n",
       "<circle clip-path=\"url(#clip582)\" cx=\"1579.06\" cy=\"922.714\" r=\"14\" fill=\"#009af9\" fill-rule=\"evenodd\" fill-opacity=\"1\" stroke=\"#000000\" stroke-opacity=\"1\" stroke-width=\"3.2\"/>\n",
       "<circle clip-path=\"url(#clip582)\" cx=\"1599.98\" cy=\"904.719\" r=\"14\" fill=\"#009af9\" fill-rule=\"evenodd\" fill-opacity=\"1\" stroke=\"#000000\" stroke-opacity=\"1\" stroke-width=\"3.2\"/>\n",
       "<circle clip-path=\"url(#clip582)\" cx=\"1620.91\" cy=\"899.039\" r=\"14\" fill=\"#009af9\" fill-rule=\"evenodd\" fill-opacity=\"1\" stroke=\"#000000\" stroke-opacity=\"1\" stroke-width=\"3.2\"/>\n",
       "<circle clip-path=\"url(#clip582)\" cx=\"1641.84\" cy=\"1355.82\" r=\"14\" fill=\"#009af9\" fill-rule=\"evenodd\" fill-opacity=\"1\" stroke=\"#000000\" stroke-opacity=\"1\" stroke-width=\"3.2\"/>\n",
       "<circle clip-path=\"url(#clip582)\" cx=\"1662.77\" cy=\"975.054\" r=\"14\" fill=\"#009af9\" fill-rule=\"evenodd\" fill-opacity=\"1\" stroke=\"#000000\" stroke-opacity=\"1\" stroke-width=\"3.2\"/>\n",
       "<circle clip-path=\"url(#clip582)\" cx=\"1683.7\" cy=\"1390.37\" r=\"14\" fill=\"#009af9\" fill-rule=\"evenodd\" fill-opacity=\"1\" stroke=\"#000000\" stroke-opacity=\"1\" stroke-width=\"3.2\"/>\n",
       "<circle clip-path=\"url(#clip582)\" cx=\"1704.62\" cy=\"536.996\" r=\"14\" fill=\"#009af9\" fill-rule=\"evenodd\" fill-opacity=\"1\" stroke=\"#000000\" stroke-opacity=\"1\" stroke-width=\"3.2\"/>\n",
       "<circle clip-path=\"url(#clip582)\" cx=\"1725.55\" cy=\"506.208\" r=\"14\" fill=\"#009af9\" fill-rule=\"evenodd\" fill-opacity=\"1\" stroke=\"#000000\" stroke-opacity=\"1\" stroke-width=\"3.2\"/>\n",
       "<circle clip-path=\"url(#clip582)\" cx=\"1746.48\" cy=\"1445.09\" r=\"14\" fill=\"#009af9\" fill-rule=\"evenodd\" fill-opacity=\"1\" stroke=\"#000000\" stroke-opacity=\"1\" stroke-width=\"3.2\"/>\n",
       "<circle clip-path=\"url(#clip582)\" cx=\"1767.41\" cy=\"236.78\" r=\"14\" fill=\"#009af9\" fill-rule=\"evenodd\" fill-opacity=\"1\" stroke=\"#000000\" stroke-opacity=\"1\" stroke-width=\"3.2\"/>\n",
       "<circle clip-path=\"url(#clip582)\" cx=\"1788.33\" cy=\"948.98\" r=\"14\" fill=\"#009af9\" fill-rule=\"evenodd\" fill-opacity=\"1\" stroke=\"#000000\" stroke-opacity=\"1\" stroke-width=\"3.2\"/>\n",
       "<circle clip-path=\"url(#clip582)\" cx=\"1809.26\" cy=\"1222.77\" r=\"14\" fill=\"#009af9\" fill-rule=\"evenodd\" fill-opacity=\"1\" stroke=\"#000000\" stroke-opacity=\"1\" stroke-width=\"3.2\"/>\n",
       "<circle clip-path=\"url(#clip582)\" cx=\"1830.19\" cy=\"489.037\" r=\"14\" fill=\"#009af9\" fill-rule=\"evenodd\" fill-opacity=\"1\" stroke=\"#000000\" stroke-opacity=\"1\" stroke-width=\"3.2\"/>\n",
       "<circle clip-path=\"url(#clip582)\" cx=\"1851.12\" cy=\"830.882\" r=\"14\" fill=\"#009af9\" fill-rule=\"evenodd\" fill-opacity=\"1\" stroke=\"#000000\" stroke-opacity=\"1\" stroke-width=\"3.2\"/>\n",
       "<circle clip-path=\"url(#clip582)\" cx=\"1872.05\" cy=\"1190.8\" r=\"14\" fill=\"#009af9\" fill-rule=\"evenodd\" fill-opacity=\"1\" stroke=\"#000000\" stroke-opacity=\"1\" stroke-width=\"3.2\"/>\n",
       "<circle clip-path=\"url(#clip582)\" cx=\"1892.97\" cy=\"606.315\" r=\"14\" fill=\"#009af9\" fill-rule=\"evenodd\" fill-opacity=\"1\" stroke=\"#000000\" stroke-opacity=\"1\" stroke-width=\"3.2\"/>\n",
       "<circle clip-path=\"url(#clip582)\" cx=\"1913.9\" cy=\"262.979\" r=\"14\" fill=\"#009af9\" fill-rule=\"evenodd\" fill-opacity=\"1\" stroke=\"#000000\" stroke-opacity=\"1\" stroke-width=\"3.2\"/>\n",
       "<circle clip-path=\"url(#clip582)\" cx=\"1934.83\" cy=\"871.558\" r=\"14\" fill=\"#009af9\" fill-rule=\"evenodd\" fill-opacity=\"1\" stroke=\"#000000\" stroke-opacity=\"1\" stroke-width=\"3.2\"/>\n",
       "<circle clip-path=\"url(#clip582)\" cx=\"1955.76\" cy=\"1114.36\" r=\"14\" fill=\"#009af9\" fill-rule=\"evenodd\" fill-opacity=\"1\" stroke=\"#000000\" stroke-opacity=\"1\" stroke-width=\"3.2\"/>\n",
       "<circle clip-path=\"url(#clip582)\" cx=\"1976.68\" cy=\"918.088\" r=\"14\" fill=\"#009af9\" fill-rule=\"evenodd\" fill-opacity=\"1\" stroke=\"#000000\" stroke-opacity=\"1\" stroke-width=\"3.2\"/>\n",
       "<circle clip-path=\"url(#clip582)\" cx=\"1997.61\" cy=\"494.692\" r=\"14\" fill=\"#009af9\" fill-rule=\"evenodd\" fill-opacity=\"1\" stroke=\"#000000\" stroke-opacity=\"1\" stroke-width=\"3.2\"/>\n",
       "<circle clip-path=\"url(#clip582)\" cx=\"2018.54\" cy=\"301.075\" r=\"14\" fill=\"#009af9\" fill-rule=\"evenodd\" fill-opacity=\"1\" stroke=\"#000000\" stroke-opacity=\"1\" stroke-width=\"3.2\"/>\n",
       "<circle clip-path=\"url(#clip582)\" cx=\"2039.47\" cy=\"1047.22\" r=\"14\" fill=\"#009af9\" fill-rule=\"evenodd\" fill-opacity=\"1\" stroke=\"#000000\" stroke-opacity=\"1\" stroke-width=\"3.2\"/>\n",
       "<circle clip-path=\"url(#clip582)\" cx=\"2060.4\" cy=\"1059.02\" r=\"14\" fill=\"#009af9\" fill-rule=\"evenodd\" fill-opacity=\"1\" stroke=\"#000000\" stroke-opacity=\"1\" stroke-width=\"3.2\"/>\n",
       "<circle clip-path=\"url(#clip582)\" cx=\"2081.32\" cy=\"420.628\" r=\"14\" fill=\"#009af9\" fill-rule=\"evenodd\" fill-opacity=\"1\" stroke=\"#000000\" stroke-opacity=\"1\" stroke-width=\"3.2\"/>\n",
       "<circle clip-path=\"url(#clip582)\" cx=\"2102.25\" cy=\"155.752\" r=\"14\" fill=\"#009af9\" fill-rule=\"evenodd\" fill-opacity=\"1\" stroke=\"#000000\" stroke-opacity=\"1\" stroke-width=\"3.2\"/>\n",
       "<circle clip-path=\"url(#clip582)\" cx=\"2123.18\" cy=\"87.9763\" r=\"14\" fill=\"#009af9\" fill-rule=\"evenodd\" fill-opacity=\"1\" stroke=\"#000000\" stroke-opacity=\"1\" stroke-width=\"3.2\"/>\n",
       "<circle clip-path=\"url(#clip582)\" cx=\"2144.11\" cy=\"196.893\" r=\"14\" fill=\"#009af9\" fill-rule=\"evenodd\" fill-opacity=\"1\" stroke=\"#000000\" stroke-opacity=\"1\" stroke-width=\"3.2\"/>\n",
       "<circle clip-path=\"url(#clip582)\" cx=\"2165.03\" cy=\"397.863\" r=\"14\" fill=\"#009af9\" fill-rule=\"evenodd\" fill-opacity=\"1\" stroke=\"#000000\" stroke-opacity=\"1\" stroke-width=\"3.2\"/>\n",
       "<circle clip-path=\"url(#clip582)\" cx=\"2185.96\" cy=\"968.572\" r=\"14\" fill=\"#009af9\" fill-rule=\"evenodd\" fill-opacity=\"1\" stroke=\"#000000\" stroke-opacity=\"1\" stroke-width=\"3.2\"/>\n",
       "<circle clip-path=\"url(#clip582)\" cx=\"2206.89\" cy=\"1135.76\" r=\"14\" fill=\"#009af9\" fill-rule=\"evenodd\" fill-opacity=\"1\" stroke=\"#000000\" stroke-opacity=\"1\" stroke-width=\"3.2\"/>\n",
       "<circle clip-path=\"url(#clip582)\" cx=\"2227.82\" cy=\"136.914\" r=\"14\" fill=\"#009af9\" fill-rule=\"evenodd\" fill-opacity=\"1\" stroke=\"#000000\" stroke-opacity=\"1\" stroke-width=\"3.2\"/>\n",
       "<circle clip-path=\"url(#clip582)\" cx=\"2248.75\" cy=\"767.176\" r=\"14\" fill=\"#009af9\" fill-rule=\"evenodd\" fill-opacity=\"1\" stroke=\"#000000\" stroke-opacity=\"1\" stroke-width=\"3.2\"/>\n",
       "<circle clip-path=\"url(#clip582)\" cx=\"2269.67\" cy=\"1092.99\" r=\"14\" fill=\"#009af9\" fill-rule=\"evenodd\" fill-opacity=\"1\" stroke=\"#000000\" stroke-opacity=\"1\" stroke-width=\"3.2\"/>\n",
       "<circle clip-path=\"url(#clip582)\" cx=\"2290.6\" cy=\"91.2457\" r=\"14\" fill=\"#009af9\" fill-rule=\"evenodd\" fill-opacity=\"1\" stroke=\"#000000\" stroke-opacity=\"1\" stroke-width=\"3.2\"/>\n",
       "<path clip-path=\"url(#clip580)\" d=\"\n",
       "M1983.1 198.898 L2279.55 198.898 L2279.55 95.2176 L1983.1 95.2176  Z\n",
       "  \" fill=\"#ffffff\" fill-rule=\"evenodd\" fill-opacity=\"1\"/>\n",
       "<polyline clip-path=\"url(#clip580)\" style=\"stroke:#000000; stroke-linecap:butt; stroke-linejoin:round; stroke-width:4; stroke-opacity:1; fill:none\" points=\"\n",
       "  1983.1,198.898 2279.55,198.898 2279.55,95.2176 1983.1,95.2176 1983.1,198.898 \n",
       "  \"/>\n",
       "<circle clip-path=\"url(#clip580)\" cx=\"2080.71\" cy=\"147.058\" r=\"23\" fill=\"#009af9\" fill-rule=\"evenodd\" fill-opacity=\"1\" stroke=\"#000000\" stroke-opacity=\"1\" stroke-width=\"5.12\"/>\n",
       "<path clip-path=\"url(#clip580)\" d=\"M2192.16 166.745 Q2190.35 171.375 2188.64 172.787 Q2186.93 174.199 2184.06 174.199 L2180.65 174.199 L2180.65 170.634 L2183.15 170.634 Q2184.91 170.634 2185.89 169.8 Q2186.86 168.967 2188.04 165.865 L2188.8 163.921 L2178.32 138.412 L2182.83 138.412 L2190.93 158.689 L2199.03 138.412 L2203.55 138.412 L2192.16 166.745 Z\" fill=\"#000000\" fill-rule=\"evenodd\" fill-opacity=\"1\" /><path clip-path=\"url(#clip580)\" d=\"M2210.84 160.402 L2218.48 160.402 L2218.48 134.037 L2210.17 135.703 L2210.17 131.444 L2218.43 129.778 L2223.11 129.778 L2223.11 160.402 L2230.75 160.402 L2230.75 164.338 L2210.84 164.338 L2210.84 160.402 Z\" fill=\"#000000\" fill-rule=\"evenodd\" fill-opacity=\"1\" /></svg>\n"
      ]
     },
     "execution_count": 135,
     "metadata": {},
     "output_type": "execute_result"
    }
   ],
   "source": [
    "using Plots\n",
    "scatter(x,y)"
   ]
  },
  {
   "cell_type": "code",
   "execution_count": null,
   "id": "a230a9b6",
   "metadata": {},
   "outputs": [],
   "source": []
  }
 ],
 "metadata": {
  "kernelspec": {
   "display_name": "Julia 1.7.0",
   "language": "julia",
   "name": "julia-1.7"
  },
  "language_info": {
   "file_extension": ".jl",
   "mimetype": "application/julia",
   "name": "julia",
   "version": "1.7.0"
  }
 },
 "nbformat": 4,
 "nbformat_minor": 5
}
